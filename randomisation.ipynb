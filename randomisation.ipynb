{
 "cells": [
  {
   "cell_type": "markdown",
   "id": "5a45165f",
   "metadata": {},
   "source": [
    "# Mersenne Twister"
   ]
  },
  {
   "cell_type": "code",
   "execution_count": 2,
   "id": "55d6f7a8",
   "metadata": {},
   "outputs": [
    {
     "name": "stdout",
     "output_type": "stream",
     "text": [
      "3\n",
      "0.2736037709631751\n"
     ]
    }
   ],
   "source": [
    "import random\n",
    "random_integer = random.randint(1,10)\n",
    "print(random_integer)\n",
    "\n",
    "random_float=random.random()\n",
    "print(random_float)\n",
    "\n"
   ]
  },
  {
   "cell_type": "markdown",
   "id": "8dfc4836",
   "metadata": {},
   "source": [
    "# random floating numbers"
   ]
  },
  {
   "cell_type": "code",
   "execution_count": null,
   "id": "a85a9fc2",
   "metadata": {},
   "outputs": [],
   "source": [
    "random_float=random.random()*5\n",
    "print(random_float)"
   ]
  },
  {
   "cell_type": "code",
   "execution_count": null,
   "id": "aa0f2cf2",
   "metadata": {},
   "outputs": [],
   "source": [
    "import random\n",
    "random_dice=random.randint(0,1)\n",
    "if random_dice==1:\n",
    "    print(\"head\")\n",
    "else:\n",
    "    print(\"tail\")"
   ]
  },
  {
   "cell_type": "markdown",
   "id": "7c5f4b1f",
   "metadata": {},
   "source": [
    "# list"
   ]
  },
  {
   "cell_type": "code",
   "execution_count": null,
   "id": "ce1716c7",
   "metadata": {},
   "outputs": [],
   "source": [
    "states_of_India = [\"Andhra Pradesh(Amaravati)\",\"Arunachal Pradesh(Itanagar)\",\"Assam(Dispur)\",\"Bihar(Patna)\",\"Chhattisgarh(Raipur)\",\n",
    "\"Goa(Panaji)\",'Gujarat(Gandhinagar)','Haryana(Chandigarh)','Himachal Pradesh(Shimla)',\n",
    "'Jharkhand(Ranchi)',\n",
    "'Karnataka(Bangalore)',\n",
    "'Kerala(Thiruvananthapuram)',\n",
    "'Madhya Pradesh(Bhopal)',\n",
    "'Maharashtra(Mumbai)',\n",
    "'Manipur(Imphal)',\n",
    "'Meghalaya(Shillong)',\n",
    "'Mizoram(Aizawl)',\n",
    "'Nagaland(Kohima)',\n",
    "'Odisha(Bhubaneshwar)',\n",
    "'Punjab(Chandigarh)'\n",
    "\"Rajasthan(Jaipur)\",\n",
    "\"Sikkim(Gangtok)\",\n",
    "\"Tamil Nadu(Chennai)\",\n",
    "\"Telangana(Hyderabad)\",\n",
    "\"Tripura(Agartala)\",\n",
    "\"Uttarakhand(Dehradun)\",\n",
    "\"Uttar Pradesh(Lucknow)\"\n",
    ",\"West Bengal(Kolkata)\"]\n",
    "states_of_India[0]"
   ]
  },
  {
   "cell_type": "code",
   "execution_count": null,
   "id": "a2aa92fb",
   "metadata": {},
   "outputs": [],
   "source": [
    "Person=[\"Angela\",\"Ben\",\"Jenny\",\"Michael\",\"chloe\"]\n",
    "random_person=random.randint(0,4)\n",
    "chose=Person[random_person]\n",
    "print(chose)"
   ]
  },
  {
   "cell_type": "code",
   "execution_count": 6,
   "id": "68cc8261",
   "metadata": {},
   "outputs": [
    {
     "name": "stdout",
     "output_type": "stream",
     "text": [
      "give me name eveybody seperated by a comma. dg, jthfg, tjhjg, jtfyhj, tfhjmn\n",
      "['dg', 'jthfg', 'tjhjg', 'jtfyhj', 'tfhjmn']\n",
      "4\n",
      "dg going to buy\n"
     ]
    }
   ],
   "source": [
    "import random\n",
    "name_string=input(\"give me name eveybody seperated by a comma. \")\n",
    "names=name_string.split(\", \")\n",
    "print(names)\n",
    "num=len(names)-1\n",
    "print(num)\n",
    "random_person=random.randint(0,num)\n",
    "chose=names[random_person]\n",
    "print(chose , \"going to buy\")"
   ]
  },
  {
   "cell_type": "code",
   "execution_count": null,
   "id": "7f830107",
   "metadata": {},
   "outputs": [],
   "source": []
  }
 ],
 "metadata": {
  "kernelspec": {
   "display_name": "Python 3 (ipykernel)",
   "language": "python",
   "name": "python3"
  },
  "language_info": {
   "codemirror_mode": {
    "name": "ipython",
    "version": 3
   },
   "file_extension": ".py",
   "mimetype": "text/x-python",
   "name": "python",
   "nbconvert_exporter": "python",
   "pygments_lexer": "ipython3",
   "version": "3.9.12"
  }
 },
 "nbformat": 4,
 "nbformat_minor": 5
}
