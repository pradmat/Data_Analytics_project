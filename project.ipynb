{
 "cells": [
  {
   "cell_type": "code",
   "execution_count": 1,
   "id": "9023bea6",
   "metadata": {},
   "outputs": [
    {
     "name": "stdout",
     "output_type": "stream",
     "text": [
      "what is your name?fsd\n",
      "What is your fourite animal?fsd\n",
      "your team name is  fsd fsd\n"
     ]
    }
   ],
   "source": [
    "name=input('what is your name?')\n",
    "petname=input('What is your fourite animal?')\n",
    "teamname=print('your team name is ', name , petname)"
   ]
  },
  {
   "cell_type": "code",
   "execution_count": 27,
   "id": "5d17cdec",
   "metadata": {},
   "outputs": [
    {
     "name": "stdout",
     "output_type": "stream",
     "text": [
      "e\n"
     ]
    }
   ],
   "source": [
    "print('hello'[1] )"
   ]
  },
  {
   "cell_type": "code",
   "execution_count": 3,
   "id": "48348159",
   "metadata": {},
   "outputs": [
    {
     "name": "stdout",
     "output_type": "stream",
     "text": [
      "1342644873\n"
     ]
    }
   ],
   "source": [
    "print(134_264_4873)"
   ]
  },
  {
   "cell_type": "code",
   "execution_count": 4,
   "id": "fb65b589",
   "metadata": {},
   "outputs": [
    {
     "name": "stdout",
     "output_type": "stream",
     "text": [
      "type two digit number45\n",
      "9\n"
     ]
    }
   ],
   "source": [
    "number=(input('type two digit number'))\n",
    "print(int(number[0]) + int(number[1]))\n"
   ]
  },
  {
   "cell_type": "code",
   "execution_count": 5,
   "id": "93f68bbe",
   "metadata": {},
   "outputs": [
    {
     "data": {
      "text/plain": [
       "8"
      ]
     },
     "execution_count": 5,
     "metadata": {},
     "output_type": "execute_result"
    }
   ],
   "source": [
    "len('46456987')"
   ]
  },
  {
   "cell_type": "code",
   "execution_count": 6,
   "id": "83036c18",
   "metadata": {},
   "outputs": [
    {
     "data": {
      "text/plain": [
       "-207.0"
      ]
     },
     "execution_count": 6,
     "metadata": {},
     "output_type": "execute_result"
    }
   ],
   "source": [
    "4+56*464/232-323"
   ]
  },
  {
   "cell_type": "code",
   "execution_count": 7,
   "id": "f507cbf4",
   "metadata": {},
   "outputs": [
    {
     "name": "stdout",
     "output_type": "stream",
     "text": [
      "what is your weight?55\n",
      "what is your height?646\n",
      "0.0001317946112777847 kg/m^2\n"
     ]
    }
   ],
   "source": [
    "#bmi calculator\n",
    "weight=float(input(\"what is your weight?\"))\n",
    "height=float(input('what is your height?'))\n",
    "BMI=(weight/height**2)\n",
    "print(BMI,\"kg/m^2\")"
   ]
  },
  {
   "cell_type": "code",
   "execution_count": 8,
   "id": "8ac4030e",
   "metadata": {},
   "outputs": [
    {
     "name": "stdout",
     "output_type": "stream",
     "text": [
      "1.1429\n"
     ]
    }
   ],
   "source": [
    "print(round(8/7,4))"
   ]
  },
  {
   "cell_type": "code",
   "execution_count": 9,
   "id": "115a919f",
   "metadata": {},
   "outputs": [
    {
     "name": "stdout",
     "output_type": "stream",
     "text": [
      "<class 'float'>\n"
     ]
    }
   ],
   "source": [
    "print(type(8/5))"
   ]
  },
  {
   "cell_type": "code",
   "execution_count": 10,
   "id": "f706b7ac",
   "metadata": {},
   "outputs": [
    {
     "name": "stdout",
     "output_type": "stream",
     "text": [
      "1\n"
     ]
    }
   ],
   "source": [
    "score=0\n",
    "score+=1\n",
    "print(score)\n"
   ]
  },
  {
   "cell_type": "code",
   "execution_count": 11,
   "id": "d899cfd6",
   "metadata": {},
   "outputs": [
    {
     "name": "stdout",
     "output_type": "stream",
     "text": [
      "enter number?6\n"
     ]
    }
   ],
   "source": [
    "count=int(input(\"enter number?\"))\n",
    "while (6<count<12):\n",
    "    print(count)\n",
    "    count+=1"
   ]
  },
  {
   "cell_type": "code",
   "execution_count": 12,
   "id": "09cae7b7",
   "metadata": {},
   "outputs": [
    {
     "name": "stdout",
     "output_type": "stream",
     "text": [
      "your score is 45,your height is 1.85,your ifuf is pop\n"
     ]
    }
   ],
   "source": [
    "score=45\n",
    "height=1.85\n",
    "ifuf='pop'\n",
    "print(f\"your score is {score},your height is {height},your ifuf is {ifuf}\")\n"
   ]
  },
  {
   "cell_type": "code",
   "execution_count": null,
   "id": "6b8f6ec9",
   "metadata": {},
   "outputs": [],
   "source": []
  },
  {
   "cell_type": "code",
   "execution_count": 2,
   "id": "68147b16",
   "metadata": {},
   "outputs": [
    {
     "name": "stdout",
     "output_type": "stream",
     "text": [
      "what was toal bill ? $453\n",
      "what persentage of tip you want to give ? 10 , 12 or 1510\n",
      "no_of_people?5\n"
     ]
    },
    {
     "ename": "TypeError",
     "evalue": "unsupported operand type(s) for /: 'str' and 'int'",
     "output_type": "error",
     "traceback": [
      "\u001b[1;31m---------------------------------------------------------------------------\u001b[0m",
      "\u001b[1;31mTypeError\u001b[0m                                 Traceback (most recent call last)",
      "Input \u001b[1;32mIn [2]\u001b[0m, in \u001b[0;36m<cell line: 6>\u001b[1;34m()\u001b[0m\n\u001b[0;32m      4\u001b[0m no_of_people\u001b[38;5;241m=\u001b[39m\u001b[38;5;28mint\u001b[39m(\u001b[38;5;28minput\u001b[39m(\u001b[38;5;124m'\u001b[39m\u001b[38;5;124mno_of_people?\u001b[39m\u001b[38;5;124m'\u001b[39m))\n\u001b[0;32m      5\u001b[0m totalbill\u001b[38;5;241m=\u001b[39m(\u001b[38;5;124mf\u001b[39m\u001b[38;5;124m\"\u001b[39m\u001b[38;5;124mbill+bill*tip_persentage/100\u001b[39m\u001b[38;5;124m\"\u001b[39m)\n\u001b[1;32m----> 6\u001b[0m tipdivided\u001b[38;5;241m=\u001b[39m\u001b[38;5;28mfloat\u001b[39m(\u001b[43mtotalbill\u001b[49m\u001b[38;5;241;43m/\u001b[39;49m\u001b[43mno_of_people\u001b[49m)\n\u001b[0;32m      7\u001b[0m \u001b[38;5;28mprint\u001b[39m(tipdivided)\n",
      "\u001b[1;31mTypeError\u001b[0m: unsupported operand type(s) for /: 'str' and 'int'"
     ]
    }
   ],
   "source": [
    "\"Welcome to the tip calculator\"\n",
    "bill=float(input(\"what was toal bill ? $\"))\n",
    "tip_persentage=input('what persentage of tip you want to give ? 10 , 12 or 15')\n",
    "no_of_people=int(input('no_of_people?'))\n",
    "totalbill=(f\"bill+bill*tip_persentage/100\")\n",
    "tipdivided=float(totalbill/no_of_people)\n",
    "print(tipdivided)"
   ]
  },
  {
   "cell_type": "code",
   "execution_count": 14,
   "id": "53b3c97e",
   "metadata": {},
   "outputs": [
    {
     "name": "stdout",
     "output_type": "stream",
     "text": [
      "welcome to the rollercoaster!\n",
      "please enter your height in cm 84\n",
      "your not allowed\n"
     ]
    }
   ],
   "source": [
    "print('welcome to the rollercoaster!')\n",
    "height=int(input(\"please enter your height in cm \"))\n",
    "\n",
    "if height>170:\n",
    "    print(\"pay $14\")\n",
    "elif height>140:\n",
    "    print(\"pay $10\")\n",
    "else:\n",
    "    print('your not allowed')"
   ]
  },
  {
   "cell_type": "code",
   "execution_count": 15,
   "id": "38ecaee6",
   "metadata": {},
   "outputs": [
    {
     "name": "stdout",
     "output_type": "stream",
     "text": [
      "enter your number 56\n",
      "even number\n"
     ]
    }
   ],
   "source": [
    "number=int(input(\"enter your number \"))\n",
    "if number%2==0:\n",
    "    print('even number')\n",
    "else:\n",
    "    print('odd number')\n",
    "    "
   ]
  },
  {
   "cell_type": "code",
   "execution_count": 4,
   "id": "207d39ff",
   "metadata": {},
   "outputs": [
    {
     "name": "stdout",
     "output_type": "stream",
     "text": [
      "enter your height?150\n",
      "enter your age?24\n",
      "you are allowed\n"
     ]
    }
   ],
   "source": [
    "height=int(input('enter your height?'))\n",
    "age=int(input('enter your age?'))\n",
    "\n",
    "if height>140:\n",
    "    print('you are allowed')\n",
    "elif age<18:\n",
    "    print('pay $10')\n",
    "elif age<18:\n",
    "    print('pay $5')\n",
    "else:\n",
    "    print('you are not allowed')"
   ]
  },
  {
   "cell_type": "code",
   "execution_count": 6,
   "id": "679b84d2",
   "metadata": {},
   "outputs": [
    {
     "name": "stdout",
     "output_type": "stream",
     "text": [
      "Python Python Python Python Python \n"
     ]
    }
   ],
   "source": [
    "#string replication\n",
    "\n",
    "print('Python '*5)"
   ]
  },
  {
   "cell_type": "markdown",
   "id": "c8397e4b",
   "metadata": {},
   "source": [
    "# escape sequences in strings"
   ]
  },
  {
   "cell_type": "code",
   "execution_count": 22,
   "id": "cfbabb72",
   "metadata": {},
   "outputs": [
    {
     "name": "stdout",
     "output_type": "stream",
     "text": [
      "i am ok .\n",
      "and you ?\n",
      "day\tTopics\tnexter\n",
      "dat 1\t2\t3\n",
      "day 2\t3\t5\n",
      "This is blackslash \\\n",
      "in every programming language its start with \\\"hello, world!\" \n"
     ]
    }
   ],
   "source": [
    "print('i am ok .\\nand you ?')\n",
    "print('day\\tTopics\\tnexter')\n",
    "print('dat 1\\t2\\t3')\n",
    "print('day 2\\t3\\t5')\n",
    "print('This is blackslash \\\\')\n",
    "print('in every programming language its start with \\\\\"hello, world!\" ')"
   ]
  },
  {
   "cell_type": "markdown",
   "id": "0bdb7187",
   "metadata": {},
   "source": [
    "\n",
    "# string formatting"
   ]
  },
  {
   "cell_type": "markdown",
   "id": "05836bc5",
   "metadata": {},
   "source": [
    "# (str.format)"
   ]
  },
  {
   "cell_type": "code",
   "execution_count": 24,
   "id": "815939b3",
   "metadata": {},
   "outputs": [
    {
     "name": "stdout",
     "output_type": "stream",
     "text": [
      "I learn pradeep. I am matal R.\n"
     ]
    }
   ],
   "source": [
    "first_name= 'pradeep'\n",
    "last_name=\"matal\"\n",
    "language=\"R\"\n",
    "formated_string= 'I learn {}. I am {} {}.' .format(first_name,last_name,language)\n",
    "print(formated_string)"
   ]
  },
  {
   "cell_type": "code",
   "execution_count": 26,
   "id": "58a8dd7c",
   "metadata": {},
   "outputs": [
    {
     "name": "stdout",
     "output_type": "stream",
     "text": [
      "14 + 5 = 19\n",
      "14 - 5 = 9\n",
      "14 * 5 = 70\n",
      "14 / 5 = 2.80\n",
      "14 % 5 = 4\n",
      "14 // 5 = 2\n",
      "14 ** 5 = 537824\n"
     ]
    }
   ],
   "source": [
    "a= 14\n",
    "b= 5\n",
    "print('{} + {} = {}' .format(a, b, a+b))\n",
    "print('{} - {} = {}' .format(a, b, a-b))\n",
    "print('{} * {} = {}' .format(a, b, a*b))\n",
    "print('{} / {} = {:.2f}' .format(a, b, a/b))\n",
    "print('{} % {} = {}' .format(a, b, a%b))\n",
    "print('{} // {} = {}' .format(a, b, a//b))\n",
    "print('{} ** {} = {}' .format(a, b, a**b))\n"
   ]
  },
  {
   "cell_type": "code",
   "execution_count": 6,
   "id": "4b173e84",
   "metadata": {},
   "outputs": [
    {
     "name": "stdout",
     "output_type": "stream",
     "text": [
      "enter height in m: 1.6\n",
      "enter weight in kg: 80\n",
      "clinically obese\n"
     ]
    }
   ],
   "source": [
    "height=float(input(\"enter height in m: \"))\n",
    "weight=float(input('enter weight in kg: '))\n",
    "\n",
    "BMI=weight/(height**2)\n",
    "\n",
    "if BMI < 18.5:\n",
    "    print(\"underweight\")\n",
    "elif BMI<25:\n",
    "    print(\"normalwight\")\n",
    "elif BMI<30:\n",
    "    print(\"obese\")\n",
    "else:\n",
    "    print(\"clinically obese\")\n"
   ]
  },
  {
   "cell_type": "code",
   "execution_count": 28,
   "id": "b3e67ad3",
   "metadata": {},
   "outputs": [
    {
     "name": "stdout",
     "output_type": "stream",
     "text": [
      "enter year 2020\n",
      "leap year\n"
     ]
    }
   ],
   "source": [
    "year=int(input(\"enter year \"))\n",
    "\n",
    "if year%4 != 0:\n",
    "    print(\"not leap year!\")\n",
    "    elif year%100 ==0:\n",
    "        print(\"not leap year!\")\n",
    "else:\n",
    "    print(\"leap \")\n",
    "if year\n",
    "elif year%400 != 0:\n",
    "    print(\"leap year\")\n",
    "else :\n",
    "    print(\"leap \")"
   ]
  },
  {
   "cell_type": "code",
   "execution_count": 35,
   "id": "c8851da0",
   "metadata": {},
   "outputs": [
    {
     "name": "stdout",
     "output_type": "stream",
     "text": [
      "enter year2022\n",
      "not leap year\n"
     ]
    }
   ],
   "source": [
    "year= int(input('enter year'))\n",
    "\n",
    "if year%4 == 0 :\n",
    "    if year%100 == 0:\n",
    "        if year%400 ==0:\n",
    "            print(\"leap year\")\n",
    "        else:\n",
    "            print(\"not leap year\")\n",
    "    else:\n",
    "        print(\"leap year\")\n",
    "else:\n",
    "    print(\"not leap year\")\n",
    "         "
   ]
  },
  {
   "cell_type": "code",
   "execution_count": null,
   "id": "99e55819",
   "metadata": {},
   "outputs": [],
   "source": [
    "height= int(input(\"enter your height in cm: \"))\n",
    "Y=3\n",
    "N=0\n",
    "if height>120:\n",
    "    print(\"can ride\")\n",
    "    age = int(input(\"enter your age: \"))\n",
    "    if age <12:\n",
    "        pay = 5\n",
    "    elif age < 18:\n",
    "            pay = 7\n",
    "    else:\n",
    "        pay = 12\n",
    "        \n",
    "    photo = input(\"do you want photo? Y/N \")\n",
    "                \n",
    "    if photo ==\"Y\":\n",
    "        Totalpay= (pay + 3)\n",
    "    else:\n",
    "        Totalpay= (pay )\n",
    "else:\n",
    "    print(\"can't ride\")\n",
    "print(Totalpay)"
   ]
  },
  {
   "cell_type": "code",
   "execution_count": 1,
   "id": "10cf69fa",
   "metadata": {},
   "outputs": [
    {
     "name": "stdout",
     "output_type": "stream",
     "text": [
      "WELCOME TO THR TREASURE ISLAND\n",
      "your mission to find treasure!\n",
      "*******************************************************************************\n",
      "          |                   |                  |                     |\n",
      " _________|________________.=\"\"_;=.______________|_____________________|_______\n",
      "|                   |  ,-\"_,=\"\"     `\"=.|                  |\n",
      "|___________________|__\"=._o`\"-._        `\"=.______________|___________________\n",
      "          | 0               `\"=._o`\"=._      _`\"=._                     |\n",
      " _________|_____________________:=._o \"=._.\"_.-=\"'\"=.__________________|_______\n",
      "|                   |    __.--\" , ; `\"=._o.\" ,-\"\"\"-._ \".   |\n",
      "|___________________|_._\"  ,. .` ` `` ,  `\"-._\"-._   \". '__|___________________\n",
      "          |           |o`\"=._` , \"` `; .\". ,  \"-._\"-._; ;              |\n",
      " _________|___________| ;`-.o`\"=._; .\" ` '`.\"\\` . \"-._ /_______________|_______\n",
      "|                   | |o;    `\"-.o`\"=._``  '` \" ,__.--o;   |\n",
      "|___________________|_| ;     (#) `-.o `\"=.`_.--\"_o.-; ;___|___________________\n",
      "____/______/______/___|o;._    \"      `\".o|o_.--\"    ;o;____/______/______/____\n",
      "/______/______/______/_\"=._o--._        ; | ;        ; ;/______/______/______/_\n",
      "____/______/______/______/__\"=._o--._   ;o|o;     _._;o;____/______/______/____\n",
      "/______/______/______/______/____\"=._o._; | ;_.--\"o.--\"_/______/______/______/_\n",
      "____/______/______/______/______/_____\"=.o|o_.--\"\"___/______/______/______/____\n",
      "/______/______/______/______/______/______/______/______/______/______/______/\n",
      "*******************************************************************************\n",
      "\n",
      "where you want to go? press L for left and R for right R\n",
      "game over\n"
     ]
    }
   ],
   "source": [
    "print(\"WELCOME TO THR TREASURE ISLAND\")\n",
    "print(\"your mission to find treasure!\")\n",
    "print('''*******************************************************************************\n",
    "          |                   |                  |                     |\n",
    " _________|________________.=\"\"_;=.______________|_____________________|_______\n",
    "|                   |  ,-\"_,=\"\"     `\"=.|                  |\n",
    "|___________________|__\"=._o`\"-._        `\"=.______________|___________________\n",
    "          | 0               `\"=._o`\"=._      _`\"=._                     |\n",
    " _________|_____________________:=._o \"=._.\"_.-=\"'\"=.__________________|_______\n",
    "|                   |    __.--\" , ; `\"=._o.\" ,-\"\"\"-._ \".   |\n",
    "|___________________|_._\"  ,. .` ` `` ,  `\"-._\"-._   \". '__|___________________\n",
    "          |           |o`\"=._` , \"` `; .\". ,  \"-._\"-._; ;              |\n",
    " _________|___________| ;`-.o`\"=._; .\" ` '`.\"\\` . \"-._ /_______________|_______\n",
    "|                   | |o;    `\"-.o`\"=._``  '` \" ,__.--o;   |\n",
    "|___________________|_| ;     (#) `-.o `\"=.`_.--\"_o.-; ;___|___________________\n",
    "____/______/______/___|o;._    \"      `\".o|o_.--\"    ;o;____/______/______/____\n",
    "/______/______/______/_\"=._o--._        ; | ;        ; ;/______/______/______/_\n",
    "____/______/______/______/__\"=._o--._   ;o|o;     _._;o;____/______/______/____\n",
    "/______/______/______/______/____\"=._o._; | ;_.--\"o.--\"_/______/______/______/_\n",
    "____/______/______/______/______/_____\"=.o|o_.--\"\"___/______/______/______/____\n",
    "/______/______/______/______/______/______/______/______/______/______/______/\n",
    "*******************************************************************************\n",
    "''')\n",
    "R = \"game over\"\n",
    "L = \"go ahed !\"\n",
    "\n",
    "direction=input(\"where you want to go? press L for left and R for right \")\n",
    "\n",
    "if direction == \"L\":\n",
    "    Action=input(\"what do you want to do ? press S for Swim and W for wait\" )\n",
    "    if Action== \"W\":\n",
    "        door=input(\"which door you want to choose? press r for red press b for blue and y for yellow \")\n",
    "        if door ==\"y\":\n",
    "            print(\"you win!\")\n",
    "        else:\n",
    "            print(R)\n",
    "    else:\n",
    "        print(R)\n",
    "    \n",
    "else:\n",
    "    print(R)"
   ]
  },
  {
   "cell_type": "code",
   "execution_count": null,
   "id": "f6fb3528",
   "metadata": {},
   "outputs": [],
   "source": []
  }
 ],
 "metadata": {
  "kernelspec": {
   "display_name": "Python 3 (ipykernel)",
   "language": "python",
   "name": "python3"
  },
  "language_info": {
   "codemirror_mode": {
    "name": "ipython",
    "version": 3
   },
   "file_extension": ".py",
   "mimetype": "text/x-python",
   "name": "python",
   "nbconvert_exporter": "python",
   "pygments_lexer": "ipython3",
   "version": "3.9.12"
  }
 },
 "nbformat": 4,
 "nbformat_minor": 5
}
