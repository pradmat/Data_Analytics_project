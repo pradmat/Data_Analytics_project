{
 "cells": [
  {
   "cell_type": "code",
   "execution_count": 1,
   "id": "43387ff1",
   "metadata": {},
   "outputs": [],
   "source": [
    "import pandas as pd\n",
    "import matplotlib.pyplot as plt\n",
    "import numpy as np\n",
    "import statsmodels.api as sp\n",
    "import seaborn as sns\n",
    "import itertools"
   ]
  },
  {
   "cell_type": "code",
   "execution_count": 2,
   "id": "4c93e472",
   "metadata": {},
   "outputs": [],
   "source": [
    "rate=pd.read_csv(\"Makaan_Properties_Buy.csv\",sep=\",\", encoding=\"cp1252\")"
   ]
  },
  {
   "cell_type": "code",
   "execution_count": 3,
   "id": "82c1cf05",
   "metadata": {},
   "outputs": [
    {
     "data": {
      "text/html": [
       "<div>\n",
       "<style scoped>\n",
       "    .dataframe tbody tr th:only-of-type {\n",
       "        vertical-align: middle;\n",
       "    }\n",
       "\n",
       "    .dataframe tbody tr th {\n",
       "        vertical-align: top;\n",
       "    }\n",
       "\n",
       "    .dataframe thead th {\n",
       "        text-align: right;\n",
       "    }\n",
       "</style>\n",
       "<table border=\"1\" class=\"dataframe\">\n",
       "  <thead>\n",
       "    <tr style=\"text-align: right;\">\n",
       "      <th></th>\n",
       "      <th>Property_Name</th>\n",
       "      <th>Property_id</th>\n",
       "      <th>Property_type</th>\n",
       "      <th>Property_status</th>\n",
       "      <th>Price_per_unit_area</th>\n",
       "      <th>Posted_On</th>\n",
       "      <th>Project_URL</th>\n",
       "      <th>builder_id</th>\n",
       "      <th>Builder_name</th>\n",
       "      <th>Property_building_status</th>\n",
       "      <th>...</th>\n",
       "      <th>is_furnished</th>\n",
       "      <th>listing_domain_score</th>\n",
       "      <th>is_plot</th>\n",
       "      <th>is_RERA_registered</th>\n",
       "      <th>is_Apartment</th>\n",
       "      <th>is_ready_to_move</th>\n",
       "      <th>is_commercial_Listing</th>\n",
       "      <th>is_PentaHouse</th>\n",
       "      <th>is_studio</th>\n",
       "      <th>Listing_Category</th>\n",
       "    </tr>\n",
       "  </thead>\n",
       "  <tbody>\n",
       "    <tr>\n",
       "      <th>0</th>\n",
       "      <td>Arkiton Luxe</td>\n",
       "      <td>15446514</td>\n",
       "      <td>Apartment</td>\n",
       "      <td>Under Construction</td>\n",
       "      <td>4,285</td>\n",
       "      <td>1 day ago</td>\n",
       "      <td>https://www.makaan.com/ahmedabad/arkiton-life-...</td>\n",
       "      <td>100563465.0</td>\n",
       "      <td>Arkiton life Space</td>\n",
       "      <td>ACTIVE</td>\n",
       "      <td>...</td>\n",
       "      <td>Unfurnished</td>\n",
       "      <td>4.0</td>\n",
       "      <td>False</td>\n",
       "      <td>True</td>\n",
       "      <td>True</td>\n",
       "      <td>False</td>\n",
       "      <td>False</td>\n",
       "      <td>False</td>\n",
       "      <td>False</td>\n",
       "      <td>sell</td>\n",
       "    </tr>\n",
       "    <tr>\n",
       "      <th>1</th>\n",
       "      <td>Keshav Akshar Ocean Pearl</td>\n",
       "      <td>15367414</td>\n",
       "      <td>Apartment</td>\n",
       "      <td>Under Construction</td>\n",
       "      <td>7,000</td>\n",
       "      <td>2 days ago</td>\n",
       "      <td>https://www.makaan.com/ahmedabad/keshav-naraya...</td>\n",
       "      <td>100009433.0</td>\n",
       "      <td>Keshav Narayan Group</td>\n",
       "      <td>ACTIVE</td>\n",
       "      <td>...</td>\n",
       "      <td>Unfurnished</td>\n",
       "      <td>4.0</td>\n",
       "      <td>False</td>\n",
       "      <td>True</td>\n",
       "      <td>True</td>\n",
       "      <td>False</td>\n",
       "      <td>False</td>\n",
       "      <td>False</td>\n",
       "      <td>False</td>\n",
       "      <td>sell</td>\n",
       "    </tr>\n",
       "    <tr>\n",
       "      <th>2</th>\n",
       "      <td>Vishwa Opulence</td>\n",
       "      <td>14683118</td>\n",
       "      <td>Apartment</td>\n",
       "      <td>Ready to move</td>\n",
       "      <td>5,752</td>\n",
       "      <td>2 days ago</td>\n",
       "      <td>https://www.makaan.com/ahmedabad/vishwa-develo...</td>\n",
       "      <td>100207731.0</td>\n",
       "      <td>Vishwa Developers Ahmedabad</td>\n",
       "      <td>ACTIVE</td>\n",
       "      <td>...</td>\n",
       "      <td>Unfurnished</td>\n",
       "      <td>4.0</td>\n",
       "      <td>False</td>\n",
       "      <td>False</td>\n",
       "      <td>True</td>\n",
       "      <td>True</td>\n",
       "      <td>False</td>\n",
       "      <td>False</td>\n",
       "      <td>False</td>\n",
       "      <td>sell</td>\n",
       "    </tr>\n",
       "    <tr>\n",
       "      <th>3</th>\n",
       "      <td>Satyam Sarjan</td>\n",
       "      <td>5476295</td>\n",
       "      <td>Apartment</td>\n",
       "      <td>Ready to move</td>\n",
       "      <td>2,486</td>\n",
       "      <td>5 days ago</td>\n",
       "      <td>https://www.makaan.com/ahmedabad/satyam-develo...</td>\n",
       "      <td>101303.0</td>\n",
       "      <td>Satyam Developers</td>\n",
       "      <td>ACTIVE</td>\n",
       "      <td>...</td>\n",
       "      <td>Unfurnished</td>\n",
       "      <td>4.0</td>\n",
       "      <td>False</td>\n",
       "      <td>False</td>\n",
       "      <td>True</td>\n",
       "      <td>True</td>\n",
       "      <td>False</td>\n",
       "      <td>False</td>\n",
       "      <td>False</td>\n",
       "      <td>sell</td>\n",
       "    </tr>\n",
       "    <tr>\n",
       "      <th>4</th>\n",
       "      <td>Navkar Sunflower</td>\n",
       "      <td>15477040</td>\n",
       "      <td>Apartment</td>\n",
       "      <td>Under Construction</td>\n",
       "      <td>5,324</td>\n",
       "      <td>8 days ago</td>\n",
       "      <td>https://www.makaan.com/ahmedabad/navkar-buildc...</td>\n",
       "      <td>1484209.0</td>\n",
       "      <td>Navkar Buildcon Ahmedabad</td>\n",
       "      <td>ACTIVE</td>\n",
       "      <td>...</td>\n",
       "      <td>Unfurnished</td>\n",
       "      <td>4.0</td>\n",
       "      <td>False</td>\n",
       "      <td>True</td>\n",
       "      <td>True</td>\n",
       "      <td>False</td>\n",
       "      <td>False</td>\n",
       "      <td>False</td>\n",
       "      <td>False</td>\n",
       "      <td>sell</td>\n",
       "    </tr>\n",
       "  </tbody>\n",
       "</table>\n",
       "<p>5 rows × 32 columns</p>\n",
       "</div>"
      ],
      "text/plain": [
       "               Property_Name  Property_id Property_type     Property_status  \\\n",
       "0               Arkiton Luxe     15446514     Apartment  Under Construction   \n",
       "1  Keshav Akshar Ocean Pearl     15367414     Apartment  Under Construction   \n",
       "2            Vishwa Opulence     14683118     Apartment       Ready to move   \n",
       "3              Satyam Sarjan      5476295     Apartment       Ready to move   \n",
       "4           Navkar Sunflower     15477040     Apartment  Under Construction   \n",
       "\n",
       "  Price_per_unit_area   Posted_On  \\\n",
       "0               4,285   1 day ago   \n",
       "1               7,000  2 days ago   \n",
       "2               5,752  2 days ago   \n",
       "3               2,486  5 days ago   \n",
       "4               5,324  8 days ago   \n",
       "\n",
       "                                         Project_URL   builder_id  \\\n",
       "0  https://www.makaan.com/ahmedabad/arkiton-life-...  100563465.0   \n",
       "1  https://www.makaan.com/ahmedabad/keshav-naraya...  100009433.0   \n",
       "2  https://www.makaan.com/ahmedabad/vishwa-develo...  100207731.0   \n",
       "3  https://www.makaan.com/ahmedabad/satyam-develo...     101303.0   \n",
       "4  https://www.makaan.com/ahmedabad/navkar-buildc...    1484209.0   \n",
       "\n",
       "                  Builder_name Property_building_status  ...  is_furnished  \\\n",
       "0           Arkiton life Space                   ACTIVE  ...   Unfurnished   \n",
       "1         Keshav Narayan Group                   ACTIVE  ...   Unfurnished   \n",
       "2  Vishwa Developers Ahmedabad                   ACTIVE  ...   Unfurnished   \n",
       "3            Satyam Developers                   ACTIVE  ...   Unfurnished   \n",
       "4    Navkar Buildcon Ahmedabad                   ACTIVE  ...   Unfurnished   \n",
       "\n",
       "  listing_domain_score is_plot  is_RERA_registered is_Apartment  \\\n",
       "0                  4.0   False                True         True   \n",
       "1                  4.0   False                True         True   \n",
       "2                  4.0   False               False         True   \n",
       "3                  4.0   False               False         True   \n",
       "4                  4.0   False                True         True   \n",
       "\n",
       "   is_ready_to_move  is_commercial_Listing is_PentaHouse is_studio  \\\n",
       "0             False                  False         False     False   \n",
       "1             False                  False         False     False   \n",
       "2              True                  False         False     False   \n",
       "3              True                  False         False     False   \n",
       "4             False                  False         False     False   \n",
       "\n",
       "   Listing_Category  \n",
       "0              sell  \n",
       "1              sell  \n",
       "2              sell  \n",
       "3              sell  \n",
       "4              sell  \n",
       "\n",
       "[5 rows x 32 columns]"
      ]
     },
     "execution_count": 3,
     "metadata": {},
     "output_type": "execute_result"
    }
   ],
   "source": [
    "rate.head()"
   ]
  },
  {
   "cell_type": "code",
   "execution_count": 4,
   "id": "6175cd5e",
   "metadata": {},
   "outputs": [
    {
     "data": {
      "text/plain": [
       "(332096, 32)"
      ]
     },
     "execution_count": 4,
     "metadata": {},
     "output_type": "execute_result"
    }
   ],
   "source": [
    "rate.shape"
   ]
  },
  {
   "cell_type": "code",
   "execution_count": 5,
   "id": "ad93b220",
   "metadata": {},
   "outputs": [
    {
     "data": {
      "text/html": [
       "<div>\n",
       "<style scoped>\n",
       "    .dataframe tbody tr th:only-of-type {\n",
       "        vertical-align: middle;\n",
       "    }\n",
       "\n",
       "    .dataframe tbody tr th {\n",
       "        vertical-align: top;\n",
       "    }\n",
       "\n",
       "    .dataframe thead th {\n",
       "        text-align: right;\n",
       "    }\n",
       "</style>\n",
       "<table border=\"1\" class=\"dataframe\">\n",
       "  <thead>\n",
       "    <tr style=\"text-align: right;\">\n",
       "      <th></th>\n",
       "      <th>Property_Name</th>\n",
       "      <th>Property_id</th>\n",
       "      <th>Property_type</th>\n",
       "      <th>Property_status</th>\n",
       "      <th>Price_per_unit_area</th>\n",
       "      <th>Posted_On</th>\n",
       "      <th>Project_URL</th>\n",
       "      <th>builder_id</th>\n",
       "      <th>Builder_name</th>\n",
       "      <th>Property_building_status</th>\n",
       "      <th>...</th>\n",
       "      <th>is_furnished</th>\n",
       "      <th>listing_domain_score</th>\n",
       "      <th>is_plot</th>\n",
       "      <th>is_RERA_registered</th>\n",
       "      <th>is_Apartment</th>\n",
       "      <th>is_ready_to_move</th>\n",
       "      <th>is_commercial_Listing</th>\n",
       "      <th>is_PentaHouse</th>\n",
       "      <th>is_studio</th>\n",
       "      <th>Listing_Category</th>\n",
       "    </tr>\n",
       "  </thead>\n",
       "  <tbody>\n",
       "    <tr>\n",
       "      <th>332091</th>\n",
       "      <td>Rajlaxmi RaajLaxmi Towers</td>\n",
       "      <td>10324765</td>\n",
       "      <td>Apartment</td>\n",
       "      <td>Under Construction</td>\n",
       "      <td>9,826</td>\n",
       "      <td>4 months ago</td>\n",
       "      <td>https://www.makaan.com/mumbai/rajlaxmi-develop...</td>\n",
       "      <td>561277.0</td>\n",
       "      <td>Rajlaxmi Developers Mumbai</td>\n",
       "      <td>ACTIVE</td>\n",
       "      <td>...</td>\n",
       "      <td>Unfurnished</td>\n",
       "      <td>4.0</td>\n",
       "      <td>False</td>\n",
       "      <td>True</td>\n",
       "      <td>True</td>\n",
       "      <td>False</td>\n",
       "      <td>False</td>\n",
       "      <td>False</td>\n",
       "      <td>False</td>\n",
       "      <td>sell</td>\n",
       "    </tr>\n",
       "    <tr>\n",
       "      <th>332092</th>\n",
       "      <td>Rajlaxmi RaajLaxmi Towers</td>\n",
       "      <td>15076701</td>\n",
       "      <td>Apartment</td>\n",
       "      <td>Under Construction</td>\n",
       "      <td>8,568</td>\n",
       "      <td>4 months ago</td>\n",
       "      <td>https://www.makaan.com/mumbai/rajlaxmi-develop...</td>\n",
       "      <td>561277.0</td>\n",
       "      <td>Rajlaxmi Developers Mumbai</td>\n",
       "      <td>ACTIVE</td>\n",
       "      <td>...</td>\n",
       "      <td>Unfurnished</td>\n",
       "      <td>4.0</td>\n",
       "      <td>False</td>\n",
       "      <td>True</td>\n",
       "      <td>True</td>\n",
       "      <td>False</td>\n",
       "      <td>False</td>\n",
       "      <td>False</td>\n",
       "      <td>False</td>\n",
       "      <td>sell</td>\n",
       "    </tr>\n",
       "    <tr>\n",
       "      <th>332093</th>\n",
       "      <td>Rajlaxmi RaajLaxmi Towers</td>\n",
       "      <td>10324762</td>\n",
       "      <td>Apartment</td>\n",
       "      <td>Under Construction</td>\n",
       "      <td>9,861</td>\n",
       "      <td>4 months ago</td>\n",
       "      <td>https://www.makaan.com/mumbai/rajlaxmi-develop...</td>\n",
       "      <td>561277.0</td>\n",
       "      <td>Rajlaxmi Developers Mumbai</td>\n",
       "      <td>ACTIVE</td>\n",
       "      <td>...</td>\n",
       "      <td>Unfurnished</td>\n",
       "      <td>4.0</td>\n",
       "      <td>False</td>\n",
       "      <td>True</td>\n",
       "      <td>True</td>\n",
       "      <td>False</td>\n",
       "      <td>False</td>\n",
       "      <td>False</td>\n",
       "      <td>False</td>\n",
       "      <td>sell</td>\n",
       "    </tr>\n",
       "    <tr>\n",
       "      <th>332094</th>\n",
       "      <td>Rajlaxmi RaajLaxmi Towers</td>\n",
       "      <td>15076700</td>\n",
       "      <td>Apartment</td>\n",
       "      <td>Under Construction</td>\n",
       "      <td>8,813</td>\n",
       "      <td>4 months ago</td>\n",
       "      <td>https://www.makaan.com/mumbai/rajlaxmi-develop...</td>\n",
       "      <td>561277.0</td>\n",
       "      <td>Rajlaxmi Developers Mumbai</td>\n",
       "      <td>ACTIVE</td>\n",
       "      <td>...</td>\n",
       "      <td>Unfurnished</td>\n",
       "      <td>4.0</td>\n",
       "      <td>False</td>\n",
       "      <td>True</td>\n",
       "      <td>True</td>\n",
       "      <td>False</td>\n",
       "      <td>False</td>\n",
       "      <td>False</td>\n",
       "      <td>False</td>\n",
       "      <td>sell</td>\n",
       "    </tr>\n",
       "    <tr>\n",
       "      <th>332095</th>\n",
       "      <td>Rajlaxmi RaajLaxmi Towers</td>\n",
       "      <td>14683740</td>\n",
       "      <td>Apartment</td>\n",
       "      <td>Under Construction</td>\n",
       "      <td>9,859</td>\n",
       "      <td>4 months ago</td>\n",
       "      <td>https://www.makaan.com/mumbai/rajlaxmi-develop...</td>\n",
       "      <td>561277.0</td>\n",
       "      <td>Rajlaxmi Developers Mumbai</td>\n",
       "      <td>ACTIVE</td>\n",
       "      <td>...</td>\n",
       "      <td>Unfurnished</td>\n",
       "      <td>4.0</td>\n",
       "      <td>False</td>\n",
       "      <td>True</td>\n",
       "      <td>True</td>\n",
       "      <td>False</td>\n",
       "      <td>False</td>\n",
       "      <td>False</td>\n",
       "      <td>False</td>\n",
       "      <td>sell</td>\n",
       "    </tr>\n",
       "  </tbody>\n",
       "</table>\n",
       "<p>5 rows × 32 columns</p>\n",
       "</div>"
      ],
      "text/plain": [
       "                    Property_Name  Property_id Property_type  \\\n",
       "332091  Rajlaxmi RaajLaxmi Towers     10324765     Apartment   \n",
       "332092  Rajlaxmi RaajLaxmi Towers     15076701     Apartment   \n",
       "332093  Rajlaxmi RaajLaxmi Towers     10324762     Apartment   \n",
       "332094  Rajlaxmi RaajLaxmi Towers     15076700     Apartment   \n",
       "332095  Rajlaxmi RaajLaxmi Towers     14683740     Apartment   \n",
       "\n",
       "           Property_status Price_per_unit_area     Posted_On  \\\n",
       "332091  Under Construction               9,826  4 months ago   \n",
       "332092  Under Construction               8,568  4 months ago   \n",
       "332093  Under Construction               9,861  4 months ago   \n",
       "332094  Under Construction               8,813  4 months ago   \n",
       "332095  Under Construction               9,859  4 months ago   \n",
       "\n",
       "                                              Project_URL  builder_id  \\\n",
       "332091  https://www.makaan.com/mumbai/rajlaxmi-develop...    561277.0   \n",
       "332092  https://www.makaan.com/mumbai/rajlaxmi-develop...    561277.0   \n",
       "332093  https://www.makaan.com/mumbai/rajlaxmi-develop...    561277.0   \n",
       "332094  https://www.makaan.com/mumbai/rajlaxmi-develop...    561277.0   \n",
       "332095  https://www.makaan.com/mumbai/rajlaxmi-develop...    561277.0   \n",
       "\n",
       "                      Builder_name Property_building_status  ...  \\\n",
       "332091  Rajlaxmi Developers Mumbai                   ACTIVE  ...   \n",
       "332092  Rajlaxmi Developers Mumbai                   ACTIVE  ...   \n",
       "332093  Rajlaxmi Developers Mumbai                   ACTIVE  ...   \n",
       "332094  Rajlaxmi Developers Mumbai                   ACTIVE  ...   \n",
       "332095  Rajlaxmi Developers Mumbai                   ACTIVE  ...   \n",
       "\n",
       "        is_furnished listing_domain_score is_plot  is_RERA_registered  \\\n",
       "332091   Unfurnished                  4.0   False                True   \n",
       "332092   Unfurnished                  4.0   False                True   \n",
       "332093   Unfurnished                  4.0   False                True   \n",
       "332094   Unfurnished                  4.0   False                True   \n",
       "332095   Unfurnished                  4.0   False                True   \n",
       "\n",
       "       is_Apartment  is_ready_to_move  is_commercial_Listing is_PentaHouse  \\\n",
       "332091         True             False                  False         False   \n",
       "332092         True             False                  False         False   \n",
       "332093         True             False                  False         False   \n",
       "332094         True             False                  False         False   \n",
       "332095         True             False                  False         False   \n",
       "\n",
       "       is_studio  Listing_Category  \n",
       "332091     False              sell  \n",
       "332092     False              sell  \n",
       "332093     False              sell  \n",
       "332094     False              sell  \n",
       "332095     False              sell  \n",
       "\n",
       "[5 rows x 32 columns]"
      ]
     },
     "execution_count": 5,
     "metadata": {},
     "output_type": "execute_result"
    }
   ],
   "source": [
    "rate.tail()"
   ]
  },
  {
   "cell_type": "code",
   "execution_count": 6,
   "id": "2c57847c",
   "metadata": {},
   "outputs": [
    {
     "name": "stdout",
     "output_type": "stream",
     "text": [
      "<class 'pandas.core.frame.DataFrame'>\n",
      "RangeIndex: 332096 entries, 0 to 332095\n",
      "Data columns (total 32 columns):\n",
      " #   Column                    Non-Null Count   Dtype  \n",
      "---  ------                    --------------   -----  \n",
      " 0   Property_Name             217826 non-null  object \n",
      " 1   Property_id               332096 non-null  int64  \n",
      " 2   Property_type             332096 non-null  object \n",
      " 3   Property_status           271654 non-null  object \n",
      " 4   Price_per_unit_area       332096 non-null  object \n",
      " 5   Posted_On                 332096 non-null  object \n",
      " 6   Project_URL               332096 non-null  object \n",
      " 7   builder_id                149978 non-null  float64\n",
      " 8   Builder_name              149978 non-null  object \n",
      " 9   Property_building_status  332096 non-null  object \n",
      " 10  City_id                   332096 non-null  int64  \n",
      " 11  City_name                 332096 non-null  object \n",
      " 12  No_of_BHK                 332096 non-null  object \n",
      " 13  Locality_ID               332096 non-null  int64  \n",
      " 14  Locality_Name             332094 non-null  object \n",
      " 15  Longitude                 332096 non-null  float64\n",
      " 16  Latitude                  332096 non-null  float64\n",
      " 17  Price                     332096 non-null  object \n",
      " 18  Size                      332096 non-null  object \n",
      " 19  Sub_urban_ID              332096 non-null  int64  \n",
      " 20  Sub_urban_name            332096 non-null  object \n",
      " 21  description               332095 non-null  object \n",
      " 22  is_furnished              332096 non-null  object \n",
      " 23  listing_domain_score      332096 non-null  float64\n",
      " 24  is_plot                   332096 non-null  bool   \n",
      " 25  is_RERA_registered        332096 non-null  bool   \n",
      " 26  is_Apartment              332096 non-null  bool   \n",
      " 27  is_ready_to_move          332096 non-null  bool   \n",
      " 28  is_commercial_Listing     332096 non-null  bool   \n",
      " 29  is_PentaHouse             332096 non-null  bool   \n",
      " 30  is_studio                 332096 non-null  bool   \n",
      " 31  Listing_Category          332096 non-null  object \n",
      "dtypes: bool(7), float64(4), int64(4), object(17)\n",
      "memory usage: 65.6+ MB\n"
     ]
    }
   ],
   "source": [
    "rate.info()"
   ]
  },
  {
   "cell_type": "code",
   "execution_count": null,
   "id": "c2e73aa5",
   "metadata": {},
   "outputs": [],
   "source": []
  },
  {
   "cell_type": "code",
   "execution_count": 7,
   "id": "77562b66",
   "metadata": {},
   "outputs": [
    {
     "data": {
      "text/plain": [
       "array(['Under Construction', 'Ready to move', nan], dtype=object)"
      ]
     },
     "execution_count": 7,
     "metadata": {},
     "output_type": "execute_result"
    }
   ],
   "source": [
    "rate.Property_status.unique()"
   ]
  },
  {
   "cell_type": "code",
   "execution_count": 8,
   "id": "4f9c6e2a",
   "metadata": {},
   "outputs": [
    {
     "data": {
      "text/plain": [
       "Property_Name               114270\n",
       "Property_id                      0\n",
       "Property_type                    0\n",
       "Property_status              60442\n",
       "Price_per_unit_area              0\n",
       "Posted_On                        0\n",
       "Project_URL                      0\n",
       "builder_id                  182118\n",
       "Builder_name                182118\n",
       "Property_building_status         0\n",
       "City_id                          0\n",
       "City_name                        0\n",
       "No_of_BHK                        0\n",
       "Locality_ID                      0\n",
       "Locality_Name                    2\n",
       "Longitude                        0\n",
       "Latitude                         0\n",
       "Price                            0\n",
       "Size                             0\n",
       "Sub_urban_ID                     0\n",
       "Sub_urban_name                   0\n",
       "description                      1\n",
       "is_furnished                     0\n",
       "listing_domain_score             0\n",
       "is_plot                          0\n",
       "is_RERA_registered               0\n",
       "is_Apartment                     0\n",
       "is_ready_to_move                 0\n",
       "is_commercial_Listing            0\n",
       "is_PentaHouse                    0\n",
       "is_studio                        0\n",
       "Listing_Category                 0\n",
       "dtype: int64"
      ]
     },
     "execution_count": 8,
     "metadata": {},
     "output_type": "execute_result"
    }
   ],
   "source": [
    "rate.isnull().sum()"
   ]
  },
  {
   "cell_type": "code",
   "execution_count": 9,
   "id": "ae938cdb",
   "metadata": {},
   "outputs": [
    {
     "name": "stdout",
     "output_type": "stream",
     "text": [
      "Purvanchal vihar                          6325\n",
      "B kumar and brothers the passion group    5846\n",
      "Ambey valley                              3518\n",
      "abcd                                      1651\n",
      "Dreams valley                             1629\n",
      "                                          ... \n",
      "Silver Vista                                 1\n",
      "Silver Prestige                              1\n",
      "Z Residences                                 1\n",
      "Sukhsathi apartment                          1\n",
      "Hallmark Haptom Orakshir                     1\n",
      "Name: Property_Name, Length: 34387, dtype: int64\n"
     ]
    }
   ],
   "source": [
    "print(rate[\"Property_Name\"].value_counts())"
   ]
  },
  {
   "cell_type": "code",
   "execution_count": 10,
   "id": "6aac1354",
   "metadata": {},
   "outputs": [
    {
     "name": "stdout",
     "output_type": "stream",
     "text": [
      "Apartment            188922\n",
      "Residential Plot      93765\n",
      "Independent Floor     22554\n",
      "Independent House     13553\n",
      "Villa                 13302\n",
      "Name: Property_type, dtype: int64\n"
     ]
    }
   ],
   "source": [
    "print(rate[\"Property_type\"].value_counts())"
   ]
  },
  {
   "cell_type": "code",
   "execution_count": 11,
   "id": "5bb512cb",
   "metadata": {},
   "outputs": [
    {
     "name": "stdout",
     "output_type": "stream",
     "text": [
      "0 BHK     93765\n",
      "2 BHK     93110\n",
      "3 BHK     74447\n",
      "1 BHK     39507\n",
      "4 BHK     22533\n",
      "5 BHK      3596\n",
      "1 RK       3055\n",
      "6 BHK       976\n",
      "10 BHK      327\n",
      "7 BHK       314\n",
      "8 BHK       256\n",
      "9 BHK       161\n",
      "15 BHK       15\n",
      "12 BHK       14\n",
      "11 BHK       14\n",
      "3 RK          2\n",
      "14 BHK        2\n",
      "2 RK          2\n",
      "Name: No_of_BHK, dtype: int64\n"
     ]
    }
   ],
   "source": [
    "print(rate[\"No_of_BHK\"].value_counts())"
   ]
  },
  {
   "cell_type": "code",
   "execution_count": 12,
   "id": "ee1c9eec",
   "metadata": {},
   "outputs": [
    {
     "name": "stdout",
     "output_type": "stream",
     "text": [
      "Purvanchal vihar                          6325\n",
      "B kumar and brothers the passion group    5846\n",
      "Ambey valley                              3518\n",
      "abcd                                      1651\n",
      "Dreams valley                             1629\n",
      "                                          ... \n",
      "Silver Vista                                 1\n",
      "Silver Prestige                              1\n",
      "Z Residences                                 1\n",
      "Sukhsathi apartment                          1\n",
      "Hallmark Haptom Orakshir                     1\n",
      "Name: Property_Name, Length: 34387, dtype: int64\n"
     ]
    }
   ],
   "source": [
    "print(rate[\"Property_Name\"].value_counts())"
   ]
  },
  {
   "cell_type": "code",
   "execution_count": 13,
   "id": "d4020cc1",
   "metadata": {},
   "outputs": [
    {
     "name": "stdout",
     "output_type": "stream",
     "text": [
      "True     179800\n",
      "False    152296\n",
      "Name: is_ready_to_move, dtype: int64\n"
     ]
    }
   ],
   "source": [
    "print(rate[\"is_ready_to_move\"].value_counts())"
   ]
  },
  {
   "cell_type": "code",
   "execution_count": 14,
   "id": "cca17909",
   "metadata": {},
   "outputs": [
    {
     "name": "stdout",
     "output_type": "stream",
     "text": [
      "Unfurnished       245783\n",
      "Semi-Furnished     72042\n",
      "Furnished          14271\n",
      "Name: is_furnished, dtype: int64\n"
     ]
    }
   ],
   "source": [
    "print(rate[\"is_furnished\"].value_counts())"
   ]
  },
  {
   "cell_type": "code",
   "execution_count": 15,
   "id": "82787021",
   "metadata": {},
   "outputs": [
    {
     "name": "stdout",
     "output_type": "stream",
     "text": [
      "Ready to move         179800\n",
      "Under Construction     91854\n",
      "Name: Property_status, dtype: int64\n"
     ]
    }
   ],
   "source": [
    "print(rate[\"Property_status\"].value_counts())"
   ]
  },
  {
   "cell_type": "code",
   "execution_count": 16,
   "id": "a7559701",
   "metadata": {},
   "outputs": [
    {
     "name": "stdout",
     "output_type": "stream",
     "text": [
      "Property_Name                      Property_id  Property_type     Property_status     Price_per_unit_area  Posted_On     Project_URL                                                                                           builder_id  Builder_name                    Property_building_status  City_id  City_name  No_of_BHK  Locality_ID  Locality_Name              Longitude  Latitude   Price        Size         Sub_urban_ID  Sub_urban_name  description                                                                                                                                                                                                  is_furnished    listing_domain_score  is_plot  is_RERA_registered  is_Apartment  is_ready_to_move  is_commercial_Listing  is_PentaHouse  is_studio  Listing_Category\n",
      " 323 Brahmapur                     14025326     Apartment         Under Construction  4,886                3 months ago  https://www.makaan.com/kolkata/peess-con-indiareality-pvt-ltd-323-brahmapur-in-bramhapur-778822       104667.0    Peess Con IndiaReality Pvt Ltd  ACTIVE                    16       Kolkata    2 BHK      53243        Bramhapur                  88.369797  22.456881  41,00,000    839 sq ft    10038         Kolkata South   It has an area of 839 sqft with a carpet area of 706 sqft . The property is available at a price of Rs. 41.00 lac . The house is furnished. This residential complex is under-construction as of now. . ...  Furnished       4.0                   False    False               True          False             False                  False          False      sell                1\n",
      "Reputed Builder Mandakini Enclave  15510597     Apartment         Ready to move       11,842               20 hours ago  https://www.makaan.com/delhi/reputed-builder-mandakini-enclave-in-greater-kailash-enclave-1-1420582   101262.0    Reputed Builder                 ACTIVE                    6        Delhi      3 BHK      70595        greater kailash Enclave 1  77.249847  28.526791  2,25,00,000  1,900 sq ft  10018         Delhi Central   It’s a 3 bhk multistorey apartment situated in Mandakini Enclave, greater kailash Enclave 1, Delhi. It has a salable area of 1900 sqft and is available at a price of Rs. 11,842 per sqft. It is an unfu...  Unfurnished     4.0                   False    False               True          True              False                  False          False      sell                1\n",
      "                                   15159925     Apartment         Ready to move       13,030               3 months ago  https://www.makaan.com/delhi/reputed-builder-mandakini-enclave-in-greater-kailash-enclave-1-1420582   101262.0    Reputed Builder                 ACTIVE                    6        Delhi      3 BHK      70595        greater kailash Enclave 1  77.249847  28.526791  2,15,00,000  1,650 sq ft  10018         Delhi Central   A spacious 3 bhk multistorey apartment is available for sale in Mandakini Enclave, greater kailash Enclave 1, Delhi. It has an area of 1650 sqft with a carpet area of 1650 sqft . The property is avail...  Semi-Furnished  4.0                   False    False               True          True              False                  False          False      sell                1\n",
      "                                   15239548     Apartment         Ready to move       12,500               2 months ago  https://www.makaan.com/delhi/reputed-builder-mandakini-enclave-in-greater-kailash-enclave-1-1420582   101262.0    Reputed Builder                 ACTIVE                    6        Delhi      3 BHK      70595        greater kailash Enclave 1  77.249847  28.526791  2,25,00,000  1,800 sq ft  10018         Delhi Central   A spacious 3 bhk multistorey apartment is available for sale in Mandakini Enclave, greater kailash Enclave 1, Delhi. It has an area of 1800 sqft with a carpet area of 1500 sqft . The property is avail...  Semi-Furnished  4.0                   False    False               True          True              False                  False          False      sell                1\n",
      "                                   15239694     Apartment         Ready to move       15,000               2 months ago  https://www.makaan.com/delhi/reputed-builder-mandakini-enclave-in-greater-kailash-enclave-1-1420582   101262.0    Reputed Builder                 ACTIVE                    6        Delhi      4 BHK      70595        greater kailash Enclave 1  77.249847  28.526791  2,55,00,000  1,700 sq ft  10018         Delhi Central   It’s a 4 bhk multistorey apartment situated in Mandakini Enclave, greater kailash Enclave 1, Delhi. It has an area of 1700 sqft . The property is available at a price of Rs. 2.55 cr . It is a semi-fur...  Semi-Furnished  4.0                   False    False               True          True              False                  False          False      sell                1\n",
      "                                                                                                                                                                                                                                                                                                                                                                                                                                                                                                                                                                                                                                                                                                                                                                                                                                              ..\n",
      "Jain Pebble Brook                  15143736     Apartment         Ready to move       7,156                2 days ago    https://www.makaan.com/chennai/jain-housing-and-construction-pebble-brook-in-thoraipakkam-omr-506197  100996.0    Jain Housing And Construction   ACTIVE                    5        Chennai    3 BHK      51280        Thoraipakkam OMR           80.237396  12.922629  95,67,572    1,337 sq ft  10257         OMR             The house is unfurnished. It has multipurpose room as well as gymnasium. The project also has intercom, party hall, billiards/snooker table, lift available, chess board, yoga/meditation area, cycling ...  Unfurnished     4.0                   False    False               True          True              False                  False          False      sell                1\n",
      "                                   15143735     Apartment         Ready to move       7,156                2 days ago    https://www.makaan.com/chennai/jain-housing-and-construction-pebble-brook-in-thoraipakkam-omr-506197  100996.0    Jain Housing And Construction   ACTIVE                    5        Chennai    4 BHK      51280        Thoraipakkam OMR           80.237396  12.922629  1,34,89,060  1,885 sq ft  10257         OMR             It’s a 4 bhk multistorey apartment situated in Jain Housing And Construction Pebble Brook, Thoraipakkam OMR. It has a salable area of 1885 sqft and is available at a price of Rs. 7,156 per sqft. It ha...  Unfurnished     4.0                   False    False               True          True              False                  False          False      sell                1\n",
      "                                   15143734     Apartment         Ready to move       7,156                2 days ago    https://www.makaan.com/chennai/jain-housing-and-construction-pebble-brook-in-thoraipakkam-omr-506197  100996.0    Jain Housing And Construction   ACTIVE                    5        Chennai    2 BHK      51280        Thoraipakkam OMR           80.237396  12.922629  73,70,680    1,030 sq ft  10257         OMR             It has a salable area of 1030 sqft and is available at a price of Rs. 7,156 per sqft. The house is unfurnished. It has 24 x 7 security as well as multipurpose room. The project also has amphitheater, ...  Unfurnished     4.0                   False    False               True          True              False                  False          False      sell                1\n",
      "                                   15143732     Apartment         Ready to move       7,156                2 days ago    https://www.makaan.com/chennai/jain-housing-and-construction-pebble-brook-in-thoraipakkam-omr-506197  100996.0    Jain Housing And Construction   ACTIVE                    5        Chennai    3 BHK      51280        Thoraipakkam OMR           80.237396  12.922629  1,04,40,604  1,459 sq ft  10257         OMR             It is an unfurnished property. It has senior citizen siteout. Other amenities include staff quarter, 24 x 7 security, badminton court, gated community, changing room, children's play area, steam room,...  Unfurnished     4.0                   False    False               True          True              False                  False          False      sell                1\n",
      "i5 Somas Grand                     14665601     Residential Plot  Under Construction  1,500                6 months ago  https://www.makaan.com/chennai/i5-housing-somas-grand-in-vandalur-3118246                             553374.0    i5 Housing                      ACTIVE                    5        Chennai    0 BHK      51326        Vandalur                   80.082306  12.890764  9,00,000     600 sq ft    10263         GST             This plot is situated in i5 Housing Somas Grand, Vandalur. It has an area of 600 sqft and is priced at Rs. 9.00 lac . Its entry is south facing. The time you'll spend here will become the greatest mom...  Unfurnished     4.0                   True     True                False         False             False                  False          False      sell                1\n",
      "Length: 143708, dtype: int64\n"
     ]
    }
   ],
   "source": [
    "print(rate.value_counts())"
   ]
  },
  {
   "cell_type": "code",
   "execution_count": 17,
   "id": "d85197b8",
   "metadata": {},
   "outputs": [
    {
     "data": {
      "text/plain": [
       "<Figure size 2160x1296 with 0 Axes>"
      ]
     },
     "metadata": {},
     "output_type": "display_data"
    }
   ],
   "source": [
    "plt.figure(figsize=(30,18))  #figuresize define\n",
    "sns.set(font_scale=1) #fontsize \n"
   ]
  },
  {
   "cell_type": "code",
   "execution_count": 18,
   "id": "2432bba3",
   "metadata": {},
   "outputs": [
    {
     "data": {
      "text/plain": [
       "(array([0, 1, 2, 3, 4]),\n",
       " [Text(0, 0, 'Apartment'),\n",
       "  Text(1, 0, 'Independent House'),\n",
       "  Text(2, 0, 'Villa'),\n",
       "  Text(3, 0, 'Independent Floor'),\n",
       "  Text(4, 0, 'Residential Plot')])"
      ]
     },
     "execution_count": 18,
     "metadata": {},
     "output_type": "execute_result"
    },
    {
     "data": {
      "image/png": "[encoded data removed]",
      "text/plain": [
       "<Figure size 432x288 with 1 Axes>"
      ]
     },
     "metadata": {},
     "output_type": "display_data"
    }
   ],
   "source": [
    "sns.countplot(x=\"Property_type\", data=rate, palette=\"CMRmap_r\")\n",
    "plt.xticks(rotation=90)\n"
   ]
  },
  {
   "cell_type": "code",
   "execution_count": null,
   "id": "b38864ec",
   "metadata": {},
   "outputs": [],
   "source": []
  },
  {
   "cell_type": "code",
   "execution_count": null,
   "id": "8f964e22",
   "metadata": {},
   "outputs": [],
   "source": []
  },
  {
   "cell_type": "code",
   "execution_count": null,
   "id": "0779e870",
   "metadata": {},
   "outputs": [],
   "source": []
  }
 ],
 "metadata": {
  "kernelspec": {
   "display_name": "Python 3 (ipykernel)",
   "language": "python",
   "name": "python3"
  },
  "language_info": {
   "codemirror_mode": {
    "name": "ipython",
    "version": 3
   },
   "file_extension": ".py",
   "mimetype": "text/x-python",
   "name": "python",
   "nbconvert_exporter": "python",
   "pygments_lexer": "ipython3",
   "version": "3.9.12"
  }
 },
 "nbformat": 4,
 "nbformat_minor": 5
}
