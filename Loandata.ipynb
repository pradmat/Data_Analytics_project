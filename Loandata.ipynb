{
 "cells": [
  {
   "cell_type": "code",
   "execution_count": 1,
   "id": "19e5d60c",
   "metadata": {},
   "outputs": [],
   "source": [
    "import pandas as pd\n",
    "import matplotlib.pyplot as plt\n",
    "import numpy as np\n",
    "import statsmodels.api as sp\n",
    "import seaborn as sns\n",
    "import itertools\n",
    "import warnings\n",
    "warnings.filterwarnings('ignore')"
   ]
  },
  {
   "cell_type": "markdown",
   "id": "5cd12b26",
   "metadata": {},
   "source": [
    "# Data cleaning and visualisation"
   ]
  },
  {
   "cell_type": "code",
   "execution_count": 2,
   "id": "93ec9338",
   "metadata": {},
   "outputs": [],
   "source": [
    "loan=pd.read_csv(\"lendingloans.csv\")"
   ]
  },
  {
   "cell_type": "code",
   "execution_count": 3,
   "id": "ffaed2ae",
   "metadata": {},
   "outputs": [
    {
     "data": {
      "text/plain": [
       "(42542, 115)"
      ]
     },
     "execution_count": 3,
     "metadata": {},
     "output_type": "execute_result"
    }
   ],
   "source": [
    "loan.shape"
   ]
  },
  {
   "cell_type": "code",
   "execution_count": 4,
   "id": "68fe6b6b",
   "metadata": {},
   "outputs": [
    {
     "data": {
      "text/html": [
       "<div>\n",
       "<style scoped>\n",
       "    .dataframe tbody tr th:only-of-type {\n",
       "        vertical-align: middle;\n",
       "    }\n",
       "\n",
       "    .dataframe tbody tr th {\n",
       "        vertical-align: top;\n",
       "    }\n",
       "\n",
       "    .dataframe thead th {\n",
       "        text-align: right;\n",
       "    }\n",
       "</style>\n",
       "<table border=\"1\" class=\"dataframe\">\n",
       "  <thead>\n",
       "    <tr style=\"text-align: right;\">\n",
       "      <th></th>\n",
       "      <th>id</th>\n",
       "      <th>member_id</th>\n",
       "      <th>loan_amnt</th>\n",
       "      <th>funded_amnt</th>\n",
       "      <th>funded_amnt_inv</th>\n",
       "      <th>term</th>\n",
       "      <th>int_rate</th>\n",
       "      <th>installment</th>\n",
       "      <th>grade</th>\n",
       "      <th>sub_grade</th>\n",
       "      <th>...</th>\n",
       "      <th>num_tl_90g_dpd_24m</th>\n",
       "      <th>num_tl_op_past_12m</th>\n",
       "      <th>pct_tl_nvr_dlq</th>\n",
       "      <th>percent_bc_gt_75</th>\n",
       "      <th>pub_rec_bankruptcies</th>\n",
       "      <th>tax_liens</th>\n",
       "      <th>tot_hi_cred_lim</th>\n",
       "      <th>total_bal_ex_mort</th>\n",
       "      <th>total_bc_limit</th>\n",
       "      <th>total_il_high_credit_limit</th>\n",
       "    </tr>\n",
       "  </thead>\n",
       "  <tbody>\n",
       "    <tr>\n",
       "      <th>0</th>\n",
       "      <td>1077501</td>\n",
       "      <td>1296599.0</td>\n",
       "      <td>5000.0</td>\n",
       "      <td>5000.0</td>\n",
       "      <td>4975.0</td>\n",
       "      <td>36 months</td>\n",
       "      <td>10.65%</td>\n",
       "      <td>162.87</td>\n",
       "      <td>B</td>\n",
       "      <td>B2</td>\n",
       "      <td>...</td>\n",
       "      <td>NaN</td>\n",
       "      <td>NaN</td>\n",
       "      <td>NaN</td>\n",
       "      <td>NaN</td>\n",
       "      <td>0.0</td>\n",
       "      <td>0.0</td>\n",
       "      <td>NaN</td>\n",
       "      <td>NaN</td>\n",
       "      <td>NaN</td>\n",
       "      <td>NaN</td>\n",
       "    </tr>\n",
       "    <tr>\n",
       "      <th>1</th>\n",
       "      <td>1077430</td>\n",
       "      <td>1314167.0</td>\n",
       "      <td>2500.0</td>\n",
       "      <td>2500.0</td>\n",
       "      <td>2500.0</td>\n",
       "      <td>60 months</td>\n",
       "      <td>15.27%</td>\n",
       "      <td>59.83</td>\n",
       "      <td>C</td>\n",
       "      <td>C4</td>\n",
       "      <td>...</td>\n",
       "      <td>NaN</td>\n",
       "      <td>NaN</td>\n",
       "      <td>NaN</td>\n",
       "      <td>NaN</td>\n",
       "      <td>0.0</td>\n",
       "      <td>0.0</td>\n",
       "      <td>NaN</td>\n",
       "      <td>NaN</td>\n",
       "      <td>NaN</td>\n",
       "      <td>NaN</td>\n",
       "    </tr>\n",
       "    <tr>\n",
       "      <th>2</th>\n",
       "      <td>1077175</td>\n",
       "      <td>1313524.0</td>\n",
       "      <td>2400.0</td>\n",
       "      <td>2400.0</td>\n",
       "      <td>2400.0</td>\n",
       "      <td>36 months</td>\n",
       "      <td>15.96%</td>\n",
       "      <td>84.33</td>\n",
       "      <td>C</td>\n",
       "      <td>C5</td>\n",
       "      <td>...</td>\n",
       "      <td>NaN</td>\n",
       "      <td>NaN</td>\n",
       "      <td>NaN</td>\n",
       "      <td>NaN</td>\n",
       "      <td>0.0</td>\n",
       "      <td>0.0</td>\n",
       "      <td>NaN</td>\n",
       "      <td>NaN</td>\n",
       "      <td>NaN</td>\n",
       "      <td>NaN</td>\n",
       "    </tr>\n",
       "    <tr>\n",
       "      <th>3</th>\n",
       "      <td>1076863</td>\n",
       "      <td>1277178.0</td>\n",
       "      <td>10000.0</td>\n",
       "      <td>10000.0</td>\n",
       "      <td>10000.0</td>\n",
       "      <td>36 months</td>\n",
       "      <td>13.49%</td>\n",
       "      <td>339.31</td>\n",
       "      <td>C</td>\n",
       "      <td>C1</td>\n",
       "      <td>...</td>\n",
       "      <td>NaN</td>\n",
       "      <td>NaN</td>\n",
       "      <td>NaN</td>\n",
       "      <td>NaN</td>\n",
       "      <td>0.0</td>\n",
       "      <td>0.0</td>\n",
       "      <td>NaN</td>\n",
       "      <td>NaN</td>\n",
       "      <td>NaN</td>\n",
       "      <td>NaN</td>\n",
       "    </tr>\n",
       "    <tr>\n",
       "      <th>4</th>\n",
       "      <td>1075358</td>\n",
       "      <td>1311748.0</td>\n",
       "      <td>3000.0</td>\n",
       "      <td>3000.0</td>\n",
       "      <td>3000.0</td>\n",
       "      <td>60 months</td>\n",
       "      <td>12.69%</td>\n",
       "      <td>67.79</td>\n",
       "      <td>B</td>\n",
       "      <td>B5</td>\n",
       "      <td>...</td>\n",
       "      <td>NaN</td>\n",
       "      <td>NaN</td>\n",
       "      <td>NaN</td>\n",
       "      <td>NaN</td>\n",
       "      <td>0.0</td>\n",
       "      <td>0.0</td>\n",
       "      <td>NaN</td>\n",
       "      <td>NaN</td>\n",
       "      <td>NaN</td>\n",
       "      <td>NaN</td>\n",
       "    </tr>\n",
       "  </tbody>\n",
       "</table>\n",
       "<p>5 rows × 115 columns</p>\n",
       "</div>"
      ],
      "text/plain": [
       "        id  member_id  loan_amnt  funded_amnt  funded_amnt_inv        term  \\\n",
       "0  1077501  1296599.0     5000.0       5000.0           4975.0   36 months   \n",
       "1  1077430  1314167.0     2500.0       2500.0           2500.0   60 months   \n",
       "2  1077175  1313524.0     2400.0       2400.0           2400.0   36 months   \n",
       "3  1076863  1277178.0    10000.0      10000.0          10000.0   36 months   \n",
       "4  1075358  1311748.0     3000.0       3000.0           3000.0   60 months   \n",
       "\n",
       "  int_rate  installment grade sub_grade  ... num_tl_90g_dpd_24m  \\\n",
       "0   10.65%       162.87     B        B2  ...                NaN   \n",
       "1   15.27%        59.83     C        C4  ...                NaN   \n",
       "2   15.96%        84.33     C        C5  ...                NaN   \n",
       "3   13.49%       339.31     C        C1  ...                NaN   \n",
       "4   12.69%        67.79     B        B5  ...                NaN   \n",
       "\n",
       "  num_tl_op_past_12m pct_tl_nvr_dlq  percent_bc_gt_75 pub_rec_bankruptcies  \\\n",
       "0                NaN            NaN               NaN                  0.0   \n",
       "1                NaN            NaN               NaN                  0.0   \n",
       "2                NaN            NaN               NaN                  0.0   \n",
       "3                NaN            NaN               NaN                  0.0   \n",
       "4                NaN            NaN               NaN                  0.0   \n",
       "\n",
       "  tax_liens tot_hi_cred_lim total_bal_ex_mort total_bc_limit  \\\n",
       "0       0.0             NaN               NaN            NaN   \n",
       "1       0.0             NaN               NaN            NaN   \n",
       "2       0.0             NaN               NaN            NaN   \n",
       "3       0.0             NaN               NaN            NaN   \n",
       "4       0.0             NaN               NaN            NaN   \n",
       "\n",
       "  total_il_high_credit_limit  \n",
       "0                        NaN  \n",
       "1                        NaN  \n",
       "2                        NaN  \n",
       "3                        NaN  \n",
       "4                        NaN  \n",
       "\n",
       "[5 rows x 115 columns]"
      ]
     },
     "execution_count": 4,
     "metadata": {},
     "output_type": "execute_result"
    }
   ],
   "source": [
    "loan.head()"
   ]
  },
  {
   "cell_type": "code",
   "execution_count": 5,
   "id": "7010ec67",
   "metadata": {},
   "outputs": [
    {
     "data": {
      "text/html": [
       "<div>\n",
       "<style scoped>\n",
       "    .dataframe tbody tr th:only-of-type {\n",
       "        vertical-align: middle;\n",
       "    }\n",
       "\n",
       "    .dataframe tbody tr th {\n",
       "        vertical-align: top;\n",
       "    }\n",
       "\n",
       "    .dataframe thead th {\n",
       "        text-align: right;\n",
       "    }\n",
       "</style>\n",
       "<table border=\"1\" class=\"dataframe\">\n",
       "  <thead>\n",
       "    <tr style=\"text-align: right;\">\n",
       "      <th></th>\n",
       "      <th>id</th>\n",
       "      <th>member_id</th>\n",
       "      <th>loan_amnt</th>\n",
       "      <th>funded_amnt</th>\n",
       "      <th>funded_amnt_inv</th>\n",
       "      <th>term</th>\n",
       "      <th>int_rate</th>\n",
       "      <th>installment</th>\n",
       "      <th>grade</th>\n",
       "      <th>sub_grade</th>\n",
       "      <th>...</th>\n",
       "      <th>num_tl_90g_dpd_24m</th>\n",
       "      <th>num_tl_op_past_12m</th>\n",
       "      <th>pct_tl_nvr_dlq</th>\n",
       "      <th>percent_bc_gt_75</th>\n",
       "      <th>pub_rec_bankruptcies</th>\n",
       "      <th>tax_liens</th>\n",
       "      <th>tot_hi_cred_lim</th>\n",
       "      <th>total_bal_ex_mort</th>\n",
       "      <th>total_bc_limit</th>\n",
       "      <th>total_il_high_credit_limit</th>\n",
       "    </tr>\n",
       "  </thead>\n",
       "  <tbody>\n",
       "    <tr>\n",
       "      <th>42537</th>\n",
       "      <td>70686</td>\n",
       "      <td>70681.0</td>\n",
       "      <td>5000.0</td>\n",
       "      <td>5000.0</td>\n",
       "      <td>0.0</td>\n",
       "      <td>36 months</td>\n",
       "      <td>7.75%</td>\n",
       "      <td>156.11</td>\n",
       "      <td>A</td>\n",
       "      <td>A3</td>\n",
       "      <td>...</td>\n",
       "      <td>NaN</td>\n",
       "      <td>NaN</td>\n",
       "      <td>NaN</td>\n",
       "      <td>NaN</td>\n",
       "      <td>NaN</td>\n",
       "      <td>NaN</td>\n",
       "      <td>NaN</td>\n",
       "      <td>NaN</td>\n",
       "      <td>NaN</td>\n",
       "      <td>NaN</td>\n",
       "    </tr>\n",
       "    <tr>\n",
       "      <th>42538</th>\n",
       "      <td>NaN</td>\n",
       "      <td>NaN</td>\n",
       "      <td>NaN</td>\n",
       "      <td>NaN</td>\n",
       "      <td>NaN</td>\n",
       "      <td>NaN</td>\n",
       "      <td>NaN</td>\n",
       "      <td>NaN</td>\n",
       "      <td>NaN</td>\n",
       "      <td>NaN</td>\n",
       "      <td>...</td>\n",
       "      <td>NaN</td>\n",
       "      <td>NaN</td>\n",
       "      <td>NaN</td>\n",
       "      <td>NaN</td>\n",
       "      <td>NaN</td>\n",
       "      <td>NaN</td>\n",
       "      <td>NaN</td>\n",
       "      <td>NaN</td>\n",
       "      <td>NaN</td>\n",
       "      <td>NaN</td>\n",
       "    </tr>\n",
       "    <tr>\n",
       "      <th>42539</th>\n",
       "      <td>NaN</td>\n",
       "      <td>NaN</td>\n",
       "      <td>NaN</td>\n",
       "      <td>NaN</td>\n",
       "      <td>NaN</td>\n",
       "      <td>NaN</td>\n",
       "      <td>NaN</td>\n",
       "      <td>NaN</td>\n",
       "      <td>NaN</td>\n",
       "      <td>NaN</td>\n",
       "      <td>...</td>\n",
       "      <td>NaN</td>\n",
       "      <td>NaN</td>\n",
       "      <td>NaN</td>\n",
       "      <td>NaN</td>\n",
       "      <td>NaN</td>\n",
       "      <td>NaN</td>\n",
       "      <td>NaN</td>\n",
       "      <td>NaN</td>\n",
       "      <td>NaN</td>\n",
       "      <td>NaN</td>\n",
       "    </tr>\n",
       "    <tr>\n",
       "      <th>42540</th>\n",
       "      <td>Total amount funded in policy code 1: 460296150</td>\n",
       "      <td>NaN</td>\n",
       "      <td>NaN</td>\n",
       "      <td>NaN</td>\n",
       "      <td>NaN</td>\n",
       "      <td>NaN</td>\n",
       "      <td>NaN</td>\n",
       "      <td>NaN</td>\n",
       "      <td>NaN</td>\n",
       "      <td>NaN</td>\n",
       "      <td>...</td>\n",
       "      <td>NaN</td>\n",
       "      <td>NaN</td>\n",
       "      <td>NaN</td>\n",
       "      <td>NaN</td>\n",
       "      <td>NaN</td>\n",
       "      <td>NaN</td>\n",
       "      <td>NaN</td>\n",
       "      <td>NaN</td>\n",
       "      <td>NaN</td>\n",
       "      <td>NaN</td>\n",
       "    </tr>\n",
       "    <tr>\n",
       "      <th>42541</th>\n",
       "      <td>Total amount funded in policy code 2: 0</td>\n",
       "      <td>NaN</td>\n",
       "      <td>NaN</td>\n",
       "      <td>NaN</td>\n",
       "      <td>NaN</td>\n",
       "      <td>NaN</td>\n",
       "      <td>NaN</td>\n",
       "      <td>NaN</td>\n",
       "      <td>NaN</td>\n",
       "      <td>NaN</td>\n",
       "      <td>...</td>\n",
       "      <td>NaN</td>\n",
       "      <td>NaN</td>\n",
       "      <td>NaN</td>\n",
       "      <td>NaN</td>\n",
       "      <td>NaN</td>\n",
       "      <td>NaN</td>\n",
       "      <td>NaN</td>\n",
       "      <td>NaN</td>\n",
       "      <td>NaN</td>\n",
       "      <td>NaN</td>\n",
       "    </tr>\n",
       "  </tbody>\n",
       "</table>\n",
       "<p>5 rows × 115 columns</p>\n",
       "</div>"
      ],
      "text/plain": [
       "                                                    id  member_id  loan_amnt  \\\n",
       "42537                                            70686    70681.0     5000.0   \n",
       "42538                                              NaN        NaN        NaN   \n",
       "42539                                              NaN        NaN        NaN   \n",
       "42540  Total amount funded in policy code 1: 460296150        NaN        NaN   \n",
       "42541          Total amount funded in policy code 2: 0        NaN        NaN   \n",
       "\n",
       "       funded_amnt  funded_amnt_inv        term int_rate  installment grade  \\\n",
       "42537       5000.0              0.0   36 months    7.75%       156.11     A   \n",
       "42538          NaN              NaN         NaN      NaN          NaN   NaN   \n",
       "42539          NaN              NaN         NaN      NaN          NaN   NaN   \n",
       "42540          NaN              NaN         NaN      NaN          NaN   NaN   \n",
       "42541          NaN              NaN         NaN      NaN          NaN   NaN   \n",
       "\n",
       "      sub_grade  ... num_tl_90g_dpd_24m num_tl_op_past_12m pct_tl_nvr_dlq  \\\n",
       "42537        A3  ...                NaN                NaN            NaN   \n",
       "42538       NaN  ...                NaN                NaN            NaN   \n",
       "42539       NaN  ...                NaN                NaN            NaN   \n",
       "42540       NaN  ...                NaN                NaN            NaN   \n",
       "42541       NaN  ...                NaN                NaN            NaN   \n",
       "\n",
       "       percent_bc_gt_75 pub_rec_bankruptcies tax_liens tot_hi_cred_lim  \\\n",
       "42537               NaN                  NaN       NaN             NaN   \n",
       "42538               NaN                  NaN       NaN             NaN   \n",
       "42539               NaN                  NaN       NaN             NaN   \n",
       "42540               NaN                  NaN       NaN             NaN   \n",
       "42541               NaN                  NaN       NaN             NaN   \n",
       "\n",
       "      total_bal_ex_mort total_bc_limit total_il_high_credit_limit  \n",
       "42537               NaN            NaN                        NaN  \n",
       "42538               NaN            NaN                        NaN  \n",
       "42539               NaN            NaN                        NaN  \n",
       "42540               NaN            NaN                        NaN  \n",
       "42541               NaN            NaN                        NaN  \n",
       "\n",
       "[5 rows x 115 columns]"
      ]
     },
     "execution_count": 5,
     "metadata": {},
     "output_type": "execute_result"
    }
   ],
   "source": [
    "loan.tail()"
   ]
  },
  {
   "cell_type": "code",
   "execution_count": 6,
   "id": "07aa18bb",
   "metadata": {},
   "outputs": [
    {
     "name": "stdout",
     "output_type": "stream",
     "text": [
      "<class 'pandas.core.frame.DataFrame'>\n",
      "RangeIndex: 42542 entries, 0 to 42541\n",
      "Columns: 115 entries, id to total_il_high_credit_limit\n",
      "dtypes: float64(90), object(25)\n",
      "memory usage: 37.3+ MB\n"
     ]
    }
   ],
   "source": [
    "loan.info()"
   ]
  },
  {
   "cell_type": "code",
   "execution_count": 7,
   "id": "068f2623",
   "metadata": {},
   "outputs": [
    {
     "data": {
      "text/html": [
       "<div>\n",
       "<style scoped>\n",
       "    .dataframe tbody tr th:only-of-type {\n",
       "        vertical-align: middle;\n",
       "    }\n",
       "\n",
       "    .dataframe tbody tr th {\n",
       "        vertical-align: top;\n",
       "    }\n",
       "\n",
       "    .dataframe thead th {\n",
       "        text-align: right;\n",
       "    }\n",
       "</style>\n",
       "<table border=\"1\" class=\"dataframe\">\n",
       "  <thead>\n",
       "    <tr style=\"text-align: right;\">\n",
       "      <th></th>\n",
       "      <th>member_id</th>\n",
       "      <th>loan_amnt</th>\n",
       "      <th>funded_amnt</th>\n",
       "      <th>funded_amnt_inv</th>\n",
       "      <th>installment</th>\n",
       "      <th>annual_inc</th>\n",
       "      <th>dti</th>\n",
       "      <th>delinq_2yrs</th>\n",
       "      <th>fico_range_low</th>\n",
       "      <th>fico_range_high</th>\n",
       "      <th>...</th>\n",
       "      <th>num_tl_90g_dpd_24m</th>\n",
       "      <th>num_tl_op_past_12m</th>\n",
       "      <th>pct_tl_nvr_dlq</th>\n",
       "      <th>percent_bc_gt_75</th>\n",
       "      <th>pub_rec_bankruptcies</th>\n",
       "      <th>tax_liens</th>\n",
       "      <th>tot_hi_cred_lim</th>\n",
       "      <th>total_bal_ex_mort</th>\n",
       "      <th>total_bc_limit</th>\n",
       "      <th>total_il_high_credit_limit</th>\n",
       "    </tr>\n",
       "  </thead>\n",
       "  <tbody>\n",
       "    <tr>\n",
       "      <th>count</th>\n",
       "      <td>4.253500e+04</td>\n",
       "      <td>42535.000000</td>\n",
       "      <td>42535.000000</td>\n",
       "      <td>42535.000000</td>\n",
       "      <td>42535.000000</td>\n",
       "      <td>4.253100e+04</td>\n",
       "      <td>42535.000000</td>\n",
       "      <td>42506.000000</td>\n",
       "      <td>42535.000000</td>\n",
       "      <td>42535.000000</td>\n",
       "      <td>...</td>\n",
       "      <td>0.0</td>\n",
       "      <td>0.0</td>\n",
       "      <td>0.0</td>\n",
       "      <td>0.0</td>\n",
       "      <td>41170.000000</td>\n",
       "      <td>42430.000000</td>\n",
       "      <td>0.0</td>\n",
       "      <td>0.0</td>\n",
       "      <td>0.0</td>\n",
       "      <td>0.0</td>\n",
       "    </tr>\n",
       "    <tr>\n",
       "      <th>mean</th>\n",
       "      <td>8.257026e+05</td>\n",
       "      <td>11089.722581</td>\n",
       "      <td>10821.585753</td>\n",
       "      <td>10139.830603</td>\n",
       "      <td>322.623063</td>\n",
       "      <td>6.913656e+04</td>\n",
       "      <td>13.373043</td>\n",
       "      <td>0.152449</td>\n",
       "      <td>713.052545</td>\n",
       "      <td>717.052545</td>\n",
       "      <td>...</td>\n",
       "      <td>NaN</td>\n",
       "      <td>NaN</td>\n",
       "      <td>NaN</td>\n",
       "      <td>NaN</td>\n",
       "      <td>0.045227</td>\n",
       "      <td>0.000024</td>\n",
       "      <td>NaN</td>\n",
       "      <td>NaN</td>\n",
       "      <td>NaN</td>\n",
       "      <td>NaN</td>\n",
       "    </tr>\n",
       "    <tr>\n",
       "      <th>std</th>\n",
       "      <td>2.795409e+05</td>\n",
       "      <td>7410.938391</td>\n",
       "      <td>7146.914675</td>\n",
       "      <td>7131.686447</td>\n",
       "      <td>208.927216</td>\n",
       "      <td>6.409635e+04</td>\n",
       "      <td>6.726315</td>\n",
       "      <td>0.512406</td>\n",
       "      <td>36.188439</td>\n",
       "      <td>36.188439</td>\n",
       "      <td>...</td>\n",
       "      <td>NaN</td>\n",
       "      <td>NaN</td>\n",
       "      <td>NaN</td>\n",
       "      <td>NaN</td>\n",
       "      <td>0.208737</td>\n",
       "      <td>0.004855</td>\n",
       "      <td>NaN</td>\n",
       "      <td>NaN</td>\n",
       "      <td>NaN</td>\n",
       "      <td>NaN</td>\n",
       "    </tr>\n",
       "    <tr>\n",
       "      <th>min</th>\n",
       "      <td>7.047300e+04</td>\n",
       "      <td>500.000000</td>\n",
       "      <td>500.000000</td>\n",
       "      <td>0.000000</td>\n",
       "      <td>15.670000</td>\n",
       "      <td>1.896000e+03</td>\n",
       "      <td>0.000000</td>\n",
       "      <td>0.000000</td>\n",
       "      <td>610.000000</td>\n",
       "      <td>614.000000</td>\n",
       "      <td>...</td>\n",
       "      <td>NaN</td>\n",
       "      <td>NaN</td>\n",
       "      <td>NaN</td>\n",
       "      <td>NaN</td>\n",
       "      <td>0.000000</td>\n",
       "      <td>0.000000</td>\n",
       "      <td>NaN</td>\n",
       "      <td>NaN</td>\n",
       "      <td>NaN</td>\n",
       "      <td>NaN</td>\n",
       "    </tr>\n",
       "    <tr>\n",
       "      <th>25%</th>\n",
       "      <td>6.384795e+05</td>\n",
       "      <td>5200.000000</td>\n",
       "      <td>5000.000000</td>\n",
       "      <td>4950.000000</td>\n",
       "      <td>165.520000</td>\n",
       "      <td>4.000000e+04</td>\n",
       "      <td>8.200000</td>\n",
       "      <td>0.000000</td>\n",
       "      <td>685.000000</td>\n",
       "      <td>689.000000</td>\n",
       "      <td>...</td>\n",
       "      <td>NaN</td>\n",
       "      <td>NaN</td>\n",
       "      <td>NaN</td>\n",
       "      <td>NaN</td>\n",
       "      <td>0.000000</td>\n",
       "      <td>0.000000</td>\n",
       "      <td>NaN</td>\n",
       "      <td>NaN</td>\n",
       "      <td>NaN</td>\n",
       "      <td>NaN</td>\n",
       "    </tr>\n",
       "    <tr>\n",
       "      <th>50%</th>\n",
       "      <td>8.241780e+05</td>\n",
       "      <td>9700.000000</td>\n",
       "      <td>9600.000000</td>\n",
       "      <td>8500.000000</td>\n",
       "      <td>277.690000</td>\n",
       "      <td>5.900000e+04</td>\n",
       "      <td>13.470000</td>\n",
       "      <td>0.000000</td>\n",
       "      <td>710.000000</td>\n",
       "      <td>714.000000</td>\n",
       "      <td>...</td>\n",
       "      <td>NaN</td>\n",
       "      <td>NaN</td>\n",
       "      <td>NaN</td>\n",
       "      <td>NaN</td>\n",
       "      <td>0.000000</td>\n",
       "      <td>0.000000</td>\n",
       "      <td>NaN</td>\n",
       "      <td>NaN</td>\n",
       "      <td>NaN</td>\n",
       "      <td>NaN</td>\n",
       "    </tr>\n",
       "    <tr>\n",
       "      <th>75%</th>\n",
       "      <td>1.033946e+06</td>\n",
       "      <td>15000.000000</td>\n",
       "      <td>15000.000000</td>\n",
       "      <td>14000.000000</td>\n",
       "      <td>428.180000</td>\n",
       "      <td>8.250000e+04</td>\n",
       "      <td>18.680000</td>\n",
       "      <td>0.000000</td>\n",
       "      <td>740.000000</td>\n",
       "      <td>744.000000</td>\n",
       "      <td>...</td>\n",
       "      <td>NaN</td>\n",
       "      <td>NaN</td>\n",
       "      <td>NaN</td>\n",
       "      <td>NaN</td>\n",
       "      <td>0.000000</td>\n",
       "      <td>0.000000</td>\n",
       "      <td>NaN</td>\n",
       "      <td>NaN</td>\n",
       "      <td>NaN</td>\n",
       "      <td>NaN</td>\n",
       "    </tr>\n",
       "    <tr>\n",
       "      <th>max</th>\n",
       "      <td>1.314167e+06</td>\n",
       "      <td>35000.000000</td>\n",
       "      <td>35000.000000</td>\n",
       "      <td>35000.000000</td>\n",
       "      <td>1305.190000</td>\n",
       "      <td>6.000000e+06</td>\n",
       "      <td>29.990000</td>\n",
       "      <td>13.000000</td>\n",
       "      <td>825.000000</td>\n",
       "      <td>829.000000</td>\n",
       "      <td>...</td>\n",
       "      <td>NaN</td>\n",
       "      <td>NaN</td>\n",
       "      <td>NaN</td>\n",
       "      <td>NaN</td>\n",
       "      <td>2.000000</td>\n",
       "      <td>1.000000</td>\n",
       "      <td>NaN</td>\n",
       "      <td>NaN</td>\n",
       "      <td>NaN</td>\n",
       "      <td>NaN</td>\n",
       "    </tr>\n",
       "  </tbody>\n",
       "</table>\n",
       "<p>8 rows × 90 columns</p>\n",
       "</div>"
      ],
      "text/plain": [
       "          member_id     loan_amnt   funded_amnt  funded_amnt_inv  \\\n",
       "count  4.253500e+04  42535.000000  42535.000000     42535.000000   \n",
       "mean   8.257026e+05  11089.722581  10821.585753     10139.830603   \n",
       "std    2.795409e+05   7410.938391   7146.914675      7131.686447   \n",
       "min    7.047300e+04    500.000000    500.000000         0.000000   \n",
       "25%    6.384795e+05   5200.000000   5000.000000      4950.000000   \n",
       "50%    8.241780e+05   9700.000000   9600.000000      8500.000000   \n",
       "75%    1.033946e+06  15000.000000  15000.000000     14000.000000   \n",
       "max    1.314167e+06  35000.000000  35000.000000     35000.000000   \n",
       "\n",
       "        installment    annual_inc           dti   delinq_2yrs  fico_range_low  \\\n",
       "count  42535.000000  4.253100e+04  42535.000000  42506.000000    42535.000000   \n",
       "mean     322.623063  6.913656e+04     13.373043      0.152449      713.052545   \n",
       "std      208.927216  6.409635e+04      6.726315      0.512406       36.188439   \n",
       "min       15.670000  1.896000e+03      0.000000      0.000000      610.000000   \n",
       "25%      165.520000  4.000000e+04      8.200000      0.000000      685.000000   \n",
       "50%      277.690000  5.900000e+04     13.470000      0.000000      710.000000   \n",
       "75%      428.180000  8.250000e+04     18.680000      0.000000      740.000000   \n",
       "max     1305.190000  6.000000e+06     29.990000     13.000000      825.000000   \n",
       "\n",
       "       fico_range_high  ...  num_tl_90g_dpd_24m  num_tl_op_past_12m  \\\n",
       "count     42535.000000  ...                 0.0                 0.0   \n",
       "mean        717.052545  ...                 NaN                 NaN   \n",
       "std          36.188439  ...                 NaN                 NaN   \n",
       "min         614.000000  ...                 NaN                 NaN   \n",
       "25%         689.000000  ...                 NaN                 NaN   \n",
       "50%         714.000000  ...                 NaN                 NaN   \n",
       "75%         744.000000  ...                 NaN                 NaN   \n",
       "max         829.000000  ...                 NaN                 NaN   \n",
       "\n",
       "       pct_tl_nvr_dlq  percent_bc_gt_75  pub_rec_bankruptcies     tax_liens  \\\n",
       "count             0.0               0.0          41170.000000  42430.000000   \n",
       "mean              NaN               NaN              0.045227      0.000024   \n",
       "std               NaN               NaN              0.208737      0.004855   \n",
       "min               NaN               NaN              0.000000      0.000000   \n",
       "25%               NaN               NaN              0.000000      0.000000   \n",
       "50%               NaN               NaN              0.000000      0.000000   \n",
       "75%               NaN               NaN              0.000000      0.000000   \n",
       "max               NaN               NaN              2.000000      1.000000   \n",
       "\n",
       "       tot_hi_cred_lim  total_bal_ex_mort  total_bc_limit  \\\n",
       "count              0.0                0.0             0.0   \n",
       "mean               NaN                NaN             NaN   \n",
       "std                NaN                NaN             NaN   \n",
       "min                NaN                NaN             NaN   \n",
       "25%                NaN                NaN             NaN   \n",
       "50%                NaN                NaN             NaN   \n",
       "75%                NaN                NaN             NaN   \n",
       "max                NaN                NaN             NaN   \n",
       "\n",
       "       total_il_high_credit_limit  \n",
       "count                         0.0  \n",
       "mean                          NaN  \n",
       "std                           NaN  \n",
       "min                           NaN  \n",
       "25%                           NaN  \n",
       "50%                           NaN  \n",
       "75%                           NaN  \n",
       "max                           NaN  \n",
       "\n",
       "[8 rows x 90 columns]"
      ]
     },
     "execution_count": 7,
     "metadata": {},
     "output_type": "execute_result"
    }
   ],
   "source": [
    "loan.describe()"
   ]
  },
  {
   "cell_type": "code",
   "execution_count": 8,
   "id": "99389657",
   "metadata": {},
   "outputs": [
    {
     "data": {
      "text/plain": [
       "Index(['id', 'member_id', 'loan_amnt', 'funded_amnt', 'funded_amnt_inv',\n",
       "       'term', 'int_rate', 'installment', 'grade', 'sub_grade',\n",
       "       ...\n",
       "       'num_tl_90g_dpd_24m', 'num_tl_op_past_12m', 'pct_tl_nvr_dlq',\n",
       "       'percent_bc_gt_75', 'pub_rec_bankruptcies', 'tax_liens',\n",
       "       'tot_hi_cred_lim', 'total_bal_ex_mort', 'total_bc_limit',\n",
       "       'total_il_high_credit_limit'],\n",
       "      dtype='object', length=115)"
      ]
     },
     "execution_count": 8,
     "metadata": {},
     "output_type": "execute_result"
    }
   ],
   "source": [
    "loan.columns"
   ]
  },
  {
   "cell_type": "code",
   "execution_count": 9,
   "id": "80d07490",
   "metadata": {},
   "outputs": [
    {
     "data": {
      "text/plain": [
       "id                                4\n",
       "member_id                         7\n",
       "loan_amnt                         7\n",
       "funded_amnt                       7\n",
       "funded_amnt_inv                   7\n",
       "                              ...  \n",
       "tax_liens                       112\n",
       "tot_hi_cred_lim               42542\n",
       "total_bal_ex_mort             42542\n",
       "total_bc_limit                42542\n",
       "total_il_high_credit_limit    42542\n",
       "Length: 115, dtype: int64"
      ]
     },
     "execution_count": 9,
     "metadata": {},
     "output_type": "execute_result"
    }
   ],
   "source": [
    "loan.isnull().sum()"
   ]
  },
  {
   "cell_type": "code",
   "execution_count": 10,
   "id": "fbb856a4",
   "metadata": {
    "scrolled": true
   },
   "outputs": [
    {
     "data": {
      "text/plain": [
       "annual_inc_joint                  42542\n",
       "mo_sin_rcnt_rev_tl_op             42542\n",
       "mo_sin_old_il_acct                42542\n",
       "bc_util                           42542\n",
       "bc_open_to_buy                    42542\n",
       "avg_cur_bal                       42542\n",
       "acc_open_past_24mths              42542\n",
       "inq_last_12m                      42542\n",
       "total_cu_tl                       42542\n",
       "inq_fi                            42542\n",
       "total_rev_hi_lim                  42542\n",
       "all_util                          42542\n",
       "max_bal_bc                        42542\n",
       "open_rv_24m                       42542\n",
       "open_rv_12m                       42542\n",
       "il_util                           42542\n",
       "total_bal_il                      42542\n",
       "mths_since_rcnt_il                42542\n",
       "open_il_24m                       42542\n",
       "open_il_12m                       42542\n",
       "open_il_6m                        42542\n",
       "open_acc_6m                       42542\n",
       "tot_cur_bal                       42542\n",
       "tot_coll_amt                      42542\n",
       "verification_status_joint         42542\n",
       "mo_sin_old_rev_tl_op              42542\n",
       "mo_sin_rcnt_tl                    42542\n",
       "mths_since_last_major_derog       42542\n",
       "mort_acc                          42542\n",
       "total_bc_limit                    42542\n",
       "total_bal_ex_mort                 42542\n",
       "tot_hi_cred_lim                   42542\n",
       "percent_bc_gt_75                  42542\n",
       "pct_tl_nvr_dlq                    42542\n",
       "num_tl_op_past_12m                42542\n",
       "num_tl_90g_dpd_24m                42542\n",
       "num_tl_30dpd                      42542\n",
       "num_tl_120dpd_2m                  42542\n",
       "num_sats                          42542\n",
       "num_rev_tl_bal_gt_0               42542\n",
       "num_rev_accts                     42542\n",
       "num_op_rev_tl                     42542\n",
       "num_il_tl                         42542\n",
       "num_bc_tl                         42542\n",
       "num_bc_sats                       42542\n",
       "num_actv_rev_tl                   42542\n",
       "num_actv_bc_tl                    42542\n",
       "num_accts_ever_120_pd             42542\n",
       "mths_since_recent_revol_delinq    42542\n",
       "mths_since_recent_inq             42542\n",
       "mths_since_recent_bc_dlq          42542\n",
       "mths_since_recent_bc              42542\n",
       "dti_joint                         42542\n",
       "total_il_high_credit_limit        42542\n",
       "next_pymnt_d                      39246\n",
       "mths_since_last_record            38891\n",
       "mths_since_last_delinq            26933\n",
       "desc                              13300\n",
       "emp_title                          2633\n",
       "pub_rec_bankruptcies               1372\n",
       "dtype: int64"
      ]
     },
     "execution_count": 10,
     "metadata": {},
     "output_type": "execute_result"
    }
   ],
   "source": [
    "loan.isnull().sum().sort_values(ascending=False).head(60)"
   ]
  },
  {
   "cell_type": "code",
   "execution_count": 11,
   "id": "1d3464a6",
   "metadata": {},
   "outputs": [],
   "source": [
    "half_count=len(loan)/2\n",
    "loan.dropna(thresh=half_count,axis=1,inplace=True)"
   ]
  },
  {
   "cell_type": "code",
   "execution_count": 12,
   "id": "a279b667",
   "metadata": {},
   "outputs": [
    {
     "data": {
      "text/plain": [
       "(42542, 58)"
      ]
     },
     "execution_count": 12,
     "metadata": {},
     "output_type": "execute_result"
    }
   ],
   "source": [
    "loan.shape"
   ]
  },
  {
   "cell_type": "code",
   "execution_count": 13,
   "id": "221c3662",
   "metadata": {},
   "outputs": [
    {
     "data": {
      "text/plain": [
       "desc                          13300\n",
       "emp_title                      2633\n",
       "pub_rec_bankruptcies           1372\n",
       "emp_length                     1119\n",
       "chargeoff_within_12_mths        152\n",
       "collections_12_mths_ex_med      152\n",
       "tax_liens                       112\n",
       "revol_util                       97\n",
       "last_pymnt_d                     90\n",
       "delinq_amnt                      36\n",
       "acc_now_delinq                   36\n",
       "total_acc                        36\n",
       "pub_rec                          36\n",
       "open_acc                         36\n",
       "earliest_cr_line                 36\n",
       "delinq_2yrs                      36\n",
       "inq_last_6mths                   36\n",
       "title                            20\n",
       "annual_inc                       11\n",
       "last_credit_pull_d               11\n",
       "pymnt_plan                        7\n",
       "last_fico_range_high              7\n",
       "total_rec_int                     7\n",
       "total_rec_late_fee                7\n",
       "recoveries                        7\n",
       "collection_recovery_fee           7\n",
       "installment                       7\n",
       "last_pymnt_amnt                   7\n",
       "last_fico_range_low               7\n",
       "total_pymnt_inv                   7\n",
       "int_rate                          7\n",
       "policy_code                       7\n",
       "application_type                  7\n",
       "term                              7\n",
       "funded_amnt_inv                   7\n",
       "funded_amnt                       7\n",
       "loan_amnt                         7\n",
       "total_rec_prncp                   7\n",
       "out_prncp_inv                     7\n",
       "total_pymnt                       7\n",
       "fico_range_low                    7\n",
       "loan_status                       7\n",
       "purpose                           7\n",
       "zip_code                          7\n",
       "addr_state                        7\n",
       "dti                               7\n",
       "issue_d                           7\n",
       "verification_status               7\n",
       "fico_range_high                   7\n",
       "url                               7\n",
       "member_id                         7\n",
       "home_ownership                    7\n",
       "revol_bal                         7\n",
       "sub_grade                         7\n",
       "grade                             7\n",
       "initial_list_status               7\n",
       "out_prncp                         7\n",
       "id                                4\n",
       "dtype: int64"
      ]
     },
     "execution_count": 13,
     "metadata": {},
     "output_type": "execute_result"
    }
   ],
   "source": [
    "loan.isnull().sum().sort_values(ascending=False)"
   ]
  },
  {
   "cell_type": "code",
   "execution_count": 14,
   "id": "ba5cc2dc",
   "metadata": {},
   "outputs": [
    {
     "data": {
      "text/plain": [
       "id                            42538\n",
       "member_id                     42535\n",
       "url                           42535\n",
       "total_pymnt                   40579\n",
       "total_pymnt_inv               40108\n",
       "total_rec_int                 37533\n",
       "last_pymnt_amnt               37117\n",
       "emp_title                     30658\n",
       "desc                          28963\n",
       "revol_bal                     22709\n",
       "title                         21253\n",
       "installment                   16459\n",
       "funded_amnt_inv                9240\n",
       "total_rec_prncp                8214\n",
       "annual_inc                     5597\n",
       "recoveries                     4530\n",
       "dti                            2894\n",
       "collection_recovery_fee        2857\n",
       "total_rec_late_fee             1562\n",
       "revol_util                     1119\n",
       "funded_amnt                    1051\n",
       "loan_amnt                       898\n",
       "zip_code                        837\n",
       "out_prncp_inv                   548\n",
       "out_prncp                       547\n",
       "earliest_cr_line                530\n",
       "int_rate                        394\n",
       "last_credit_pull_d              111\n",
       "last_pymnt_d                    106\n",
       "total_acc                        83\n",
       "last_fico_range_high             72\n",
       "last_fico_range_low              71\n",
       "issue_d                          55\n",
       "addr_state                       50\n",
       "open_acc                         44\n",
       "fico_range_high                  44\n",
       "fico_range_low                   44\n",
       "sub_grade                        35\n",
       "inq_last_6mths                   28\n",
       "purpose                          14\n",
       "delinq_2yrs                      12\n",
       "emp_length                       11\n",
       "loan_status                       9\n",
       "grade                             7\n",
       "pub_rec                           6\n",
       "home_ownership                    5\n",
       "pub_rec_bankruptcies              3\n",
       "verification_status               3\n",
       "delinq_amnt                       3\n",
       "acc_now_delinq                    2\n",
       "tax_liens                         2\n",
       "term                              2\n",
       "pymnt_plan                        2\n",
       "policy_code                       1\n",
       "application_type                  1\n",
       "collections_12_mths_ex_med        1\n",
       "chargeoff_within_12_mths          1\n",
       "initial_list_status               1\n",
       "dtype: int64"
      ]
     },
     "execution_count": 14,
     "metadata": {},
     "output_type": "execute_result"
    }
   ],
   "source": [
    "loan.nunique().sort_values(ascending=False).head(58)"
   ]
  },
  {
   "cell_type": "code",
   "execution_count": 15,
   "id": "ca09196e",
   "metadata": {},
   "outputs": [],
   "source": [
    "loan=loan.drop(['id','member_id','url',\"desc\",\"pub_rec_bankruptcies\"], axis = 1)"
   ]
  },
  {
   "cell_type": "code",
   "execution_count": 16,
   "id": "4a43a68a",
   "metadata": {},
   "outputs": [
    {
     "data": {
      "text/plain": [
       "(42542, 53)"
      ]
     },
     "execution_count": 16,
     "metadata": {},
     "output_type": "execute_result"
    }
   ],
   "source": [
    "loan.shape"
   ]
  },
  {
   "cell_type": "code",
   "execution_count": 17,
   "id": "474b6a33",
   "metadata": {},
   "outputs": [
    {
     "name": "stdout",
     "output_type": "stream",
     "text": [
      "<class 'pandas.core.frame.DataFrame'>\n",
      "RangeIndex: 42542 entries, 0 to 42541\n",
      "Data columns (total 53 columns):\n",
      " #   Column                      Non-Null Count  Dtype  \n",
      "---  ------                      --------------  -----  \n",
      " 0   loan_amnt                   42535 non-null  float64\n",
      " 1   funded_amnt                 42535 non-null  float64\n",
      " 2   funded_amnt_inv             42535 non-null  float64\n",
      " 3   term                        42535 non-null  object \n",
      " 4   int_rate                    42535 non-null  object \n",
      " 5   installment                 42535 non-null  float64\n",
      " 6   grade                       42535 non-null  object \n",
      " 7   sub_grade                   42535 non-null  object \n",
      " 8   emp_title                   39909 non-null  object \n",
      " 9   emp_length                  41423 non-null  object \n",
      " 10  home_ownership              42535 non-null  object \n",
      " 11  annual_inc                  42531 non-null  float64\n",
      " 12  verification_status         42535 non-null  object \n",
      " 13  issue_d                     42535 non-null  object \n",
      " 14  loan_status                 42535 non-null  object \n",
      " 15  pymnt_plan                  42535 non-null  object \n",
      " 16  purpose                     42535 non-null  object \n",
      " 17  title                       42522 non-null  object \n",
      " 18  zip_code                    42535 non-null  object \n",
      " 19  addr_state                  42535 non-null  object \n",
      " 20  dti                         42535 non-null  float64\n",
      " 21  delinq_2yrs                 42506 non-null  float64\n",
      " 22  earliest_cr_line            42506 non-null  object \n",
      " 23  fico_range_low              42535 non-null  float64\n",
      " 24  fico_range_high             42535 non-null  float64\n",
      " 25  inq_last_6mths              42506 non-null  float64\n",
      " 26  open_acc                    42506 non-null  float64\n",
      " 27  pub_rec                     42506 non-null  float64\n",
      " 28  revol_bal                   42535 non-null  float64\n",
      " 29  revol_util                  42445 non-null  object \n",
      " 30  total_acc                   42506 non-null  float64\n",
      " 31  initial_list_status         42535 non-null  object \n",
      " 32  out_prncp                   42535 non-null  float64\n",
      " 33  out_prncp_inv               42535 non-null  float64\n",
      " 34  total_pymnt                 42535 non-null  float64\n",
      " 35  total_pymnt_inv             42535 non-null  float64\n",
      " 36  total_rec_prncp             42535 non-null  float64\n",
      " 37  total_rec_int               42535 non-null  float64\n",
      " 38  total_rec_late_fee          42535 non-null  float64\n",
      " 39  recoveries                  42535 non-null  float64\n",
      " 40  collection_recovery_fee     42535 non-null  float64\n",
      " 41  last_pymnt_d                42452 non-null  object \n",
      " 42  last_pymnt_amnt             42535 non-null  float64\n",
      " 43  last_credit_pull_d          42531 non-null  object \n",
      " 44  last_fico_range_high        42535 non-null  float64\n",
      " 45  last_fico_range_low         42535 non-null  float64\n",
      " 46  collections_12_mths_ex_med  42390 non-null  float64\n",
      " 47  policy_code                 42535 non-null  float64\n",
      " 48  application_type            42535 non-null  object \n",
      " 49  acc_now_delinq              42506 non-null  float64\n",
      " 50  chargeoff_within_12_mths    42390 non-null  float64\n",
      " 51  delinq_amnt                 42506 non-null  float64\n",
      " 52  tax_liens                   42430 non-null  float64\n",
      "dtypes: float64(32), object(21)\n",
      "memory usage: 17.2+ MB\n"
     ]
    }
   ],
   "source": [
    "loan.info()"
   ]
  },
  {
   "cell_type": "code",
   "execution_count": 18,
   "id": "775838f5",
   "metadata": {},
   "outputs": [
    {
     "data": {
      "text/plain": [
       " 36 months    31534\n",
       " 60 months    11001\n",
       "Name: term, dtype: int64"
      ]
     },
     "execution_count": 18,
     "metadata": {},
     "output_type": "execute_result"
    }
   ],
   "source": [
    "loan.term.value_counts()"
   ]
  },
  {
   "cell_type": "code",
   "execution_count": 19,
   "id": "c4b0f8fc",
   "metadata": {},
   "outputs": [
    {
     "data": {
      "text/plain": [
       "B    12389\n",
       "A    10183\n",
       "C     8740\n",
       "D     6016\n",
       "E     3394\n",
       "F     1301\n",
       "G      512\n",
       "Name: grade, dtype: int64"
      ]
     },
     "execution_count": 19,
     "metadata": {},
     "output_type": "execute_result"
    }
   ],
   "source": [
    "loan.grade.value_counts()"
   ]
  },
  {
   "cell_type": "code",
   "execution_count": 20,
   "id": "b01b8c8a",
   "metadata": {},
   "outputs": [
    {
     "data": {
      "text/plain": [
       "Fully Paid                                             33586\n",
       "Charged Off                                             5653\n",
       "Does not meet the credit policy. Status:Fully Paid      1988\n",
       "Does not meet the credit policy. Status:Charged Off      761\n",
       "Current                                                  513\n",
       "In Grace Period                                           16\n",
       "Late (31-120 days)                                        12\n",
       "Late (16-30 days)                                          5\n",
       "Default                                                    1\n",
       "Name: loan_status, dtype: int64"
      ]
     },
     "execution_count": 20,
     "metadata": {},
     "output_type": "execute_result"
    }
   ],
   "source": [
    "loan.loan_status.value_counts()"
   ]
  },
  {
   "cell_type": "code",
   "execution_count": 21,
   "id": "eb91f9fe",
   "metadata": {},
   "outputs": [
    {
     "data": {
      "text/plain": [
       "10.99%    970\n",
       "11.49%    837\n",
       "13.49%    832\n",
       "7.51%     787\n",
       "7.88%     742\n",
       "         ... \n",
       "17.46%      1\n",
       "21.48%      1\n",
       "24.40%      1\n",
       "16.83%      1\n",
       "16.20%      1\n",
       "Name: int_rate, Length: 394, dtype: int64"
      ]
     },
     "execution_count": 21,
     "metadata": {},
     "output_type": "execute_result"
    }
   ],
   "source": [
    "loan.int_rate.value_counts()"
   ]
  },
  {
   "cell_type": "code",
   "execution_count": 22,
   "id": "057554ce",
   "metadata": {},
   "outputs": [],
   "source": [
    "loan[\"int_rate\"]=loan[\"int_rate\"].str.rstrip(\"%\").astype(float)"
   ]
  },
  {
   "cell_type": "code",
   "execution_count": 23,
   "id": "0923b7e8",
   "metadata": {},
   "outputs": [
    {
     "data": {
      "text/plain": [
       "10.99    970\n",
       "11.49    837\n",
       "13.49    832\n",
       "7.51     787\n",
       "7.88     742\n",
       "        ... \n",
       "17.46      1\n",
       "21.48      1\n",
       "24.40      1\n",
       "16.83      1\n",
       "16.20      1\n",
       "Name: int_rate, Length: 394, dtype: int64"
      ]
     },
     "execution_count": 23,
     "metadata": {},
     "output_type": "execute_result"
    }
   ],
   "source": [
    "loan.int_rate.value_counts()"
   ]
  },
  {
   "cell_type": "code",
   "execution_count": 24,
   "id": "08c82994",
   "metadata": {},
   "outputs": [
    {
     "data": {
      "text/plain": [
       "10+ years    9369\n",
       "< 1 year     5062\n",
       "2 years      4743\n",
       "3 years      4364\n",
       "4 years      3649\n",
       "1 year       3595\n",
       "5 years      3458\n",
       "6 years      2375\n",
       "7 years      1875\n",
       "8 years      1592\n",
       "9 years      1341\n",
       "Name: emp_length, dtype: int64"
      ]
     },
     "execution_count": 24,
     "metadata": {},
     "output_type": "execute_result"
    }
   ],
   "source": [
    "loan.emp_length.value_counts()"
   ]
  },
  {
   "cell_type": "code",
   "execution_count": 25,
   "id": "4cb2faeb",
   "metadata": {},
   "outputs": [
    {
     "data": {
      "text/plain": [
       "Fully Paid                                             33586\n",
       "Charged Off                                             5653\n",
       "Does not meet the credit policy. Status:Fully Paid      1988\n",
       "Does not meet the credit policy. Status:Charged Off      761\n",
       "Current                                                  513\n",
       "In Grace Period                                           16\n",
       "Late (31-120 days)                                        12\n",
       "Late (16-30 days)                                          5\n",
       "Default                                                    1\n",
       "Name: loan_status, dtype: int64"
      ]
     },
     "execution_count": 25,
     "metadata": {},
     "output_type": "execute_result"
    }
   ],
   "source": [
    "loan.loan_status.value_counts()"
   ]
  },
  {
   "cell_type": "code",
   "execution_count": 26,
   "id": "4aa358c3",
   "metadata": {},
   "outputs": [
    {
     "data": {
      "text/plain": [
       "B    12389\n",
       "A    10183\n",
       "C     8740\n",
       "D     6016\n",
       "E     3394\n",
       "F     1301\n",
       "G      512\n",
       "Name: grade, dtype: int64"
      ]
     },
     "execution_count": 26,
     "metadata": {},
     "output_type": "execute_result"
    }
   ],
   "source": [
    "loan.grade.value_counts()"
   ]
  },
  {
   "cell_type": "code",
   "execution_count": 27,
   "id": "c01f96ac",
   "metadata": {},
   "outputs": [
    {
     "data": {
      "text/plain": [
       "0.0    40130\n",
       "1.0     2298\n",
       "2.0       64\n",
       "3.0       11\n",
       "4.0        2\n",
       "5.0        1\n",
       "Name: pub_rec, dtype: int64"
      ]
     },
     "execution_count": 27,
     "metadata": {},
     "output_type": "execute_result"
    }
   ],
   "source": [
    "loan.pub_rec.value_counts()"
   ]
  },
  {
   "cell_type": "code",
   "execution_count": 28,
   "id": "aed018b0",
   "metadata": {},
   "outputs": [
    {
     "data": {
      "text/plain": [
       "RENT        20181\n",
       "MORTGAGE    18959\n",
       "OWN          3251\n",
       "OTHER         136\n",
       "NONE            8\n",
       "Name: home_ownership, dtype: int64"
      ]
     },
     "execution_count": 28,
     "metadata": {},
     "output_type": "execute_result"
    }
   ],
   "source": [
    "loan.home_ownership.value_counts()"
   ]
  },
  {
   "cell_type": "code",
   "execution_count": 29,
   "id": "d2049fb3",
   "metadata": {},
   "outputs": [
    {
     "data": {
      "text/plain": [
       " 36 months    31534\n",
       " 60 months    11001\n",
       "Name: term, dtype: int64"
      ]
     },
     "execution_count": 29,
     "metadata": {},
     "output_type": "execute_result"
    }
   ],
   "source": [
    "loan.term.value_counts()"
   ]
  },
  {
   "cell_type": "code",
   "execution_count": 30,
   "id": "15b72a21",
   "metadata": {},
   "outputs": [
    {
     "data": {
      "text/plain": [
       "0.0    42429\n",
       "1.0        1\n",
       "Name: tax_liens, dtype: int64"
      ]
     },
     "execution_count": 30,
     "metadata": {},
     "output_type": "execute_result"
    }
   ],
   "source": [
    "loan.tax_liens.value_counts()"
   ]
  },
  {
   "cell_type": "code",
   "execution_count": 31,
   "id": "f895089c",
   "metadata": {},
   "outputs": [
    {
     "data": {
      "image/png": "[encoded data removed]",
      "text/plain": [
       "<Figure size 1500x800 with 1 Axes>"
      ]
     },
     "metadata": {},
     "output_type": "display_data"
    }
   ],
   "source": [
    "plt.figure(figsize=(15,8))  #figuresize define\n",
    "sns.set(font_scale=1) #fontsize \n",
    "sns.countplot(x=loan['loan_status'], data=loan, palette=\"Accent_r\")\n",
    "plt.show()"
   ]
  },
  {
   "cell_type": "code",
   "execution_count": 32,
   "id": "9502018c",
   "metadata": {},
   "outputs": [
    {
     "data": {
      "text/plain": [
       "<AxesSubplot:xlabel='grade', ylabel='count'>"
      ]
     },
     "execution_count": 32,
     "metadata": {},
     "output_type": "execute_result"
    },
    {
     "data": {
      "image/png": "[encoded data removed]",
      "text/plain": [
       "<Figure size 1500x800 with 1 Axes>"
      ]
     },
     "metadata": {},
     "output_type": "display_data"
    }
   ],
   "source": [
    "plt.figure(figsize=(15,8))  #figuresize define\n",
    "sns.set(font_scale=1) #fontsize \n",
    "sns.countplot(x=\"grade\",hue=\"loan_status\", data=loan, palette=\"Set1\")"
   ]
  },
  {
   "cell_type": "markdown",
   "id": "31dced7e",
   "metadata": {},
   "source": [
    "distribution of loan satus according to grade"
   ]
  },
  {
   "cell_type": "code",
   "execution_count": 33,
   "id": "c6172555",
   "metadata": {},
   "outputs": [
    {
     "data": {
      "text/plain": [
       "<AxesSubplot:xlabel='verification_status', ylabel='count'>"
      ]
     },
     "execution_count": 33,
     "metadata": {},
     "output_type": "execute_result"
    },
    {
     "data": {
      "image/png": "[encoded data removed]",
      "text/plain": [
       "<Figure size 1500x1000 with 1 Axes>"
      ]
     },
     "metadata": {},
     "output_type": "display_data"
    }
   ],
   "source": [
    "plt.figure(figsize=(15,10))  #figuresize define\n",
    "sns.set(font_scale=1) #fontsize \n",
    "sns.countplot(x=\"verification_status\",hue=\"loan_status\", data=loan, palette=\"Set1\")"
   ]
  },
  {
   "cell_type": "markdown",
   "id": "fa9142f0",
   "metadata": {},
   "source": [
    "verification satus not affecting on loan status"
   ]
  },
  {
   "cell_type": "code",
   "execution_count": 34,
   "id": "64222a27",
   "metadata": {},
   "outputs": [
    {
     "data": {
      "image/png": "[encoded data removed]",
      "text/plain": [
       "<Figure size 1500x800 with 1 Axes>"
      ]
     },
     "metadata": {},
     "output_type": "display_data"
    }
   ],
   "source": [
    "plt.figure(figsize=(15,8))  #figuresize define\n",
    "sns.set(font_scale=1) #fontsize \n",
    "sns.countplot(x=loan['home_ownership'], data=loan, palette=\"Accent_r\")\n",
    "plt.show()"
   ]
  },
  {
   "cell_type": "markdown",
   "id": "7b877b0f",
   "metadata": {},
   "source": [
    "distribution of homeownership"
   ]
  },
  {
   "cell_type": "code",
   "execution_count": 35,
   "id": "8e1e9ba6",
   "metadata": {},
   "outputs": [
    {
     "data": {
      "text/plain": [
       "<AxesSubplot:xlabel='home_ownership', ylabel='count'>"
      ]
     },
     "execution_count": 35,
     "metadata": {},
     "output_type": "execute_result"
    },
    {
     "data": {
      "image/png": "[encoded data removed]",
      "text/plain": [
       "<Figure size 1500x800 with 1 Axes>"
      ]
     },
     "metadata": {},
     "output_type": "display_data"
    }
   ],
   "source": [
    "plt.figure(figsize=(15,8))  #figuresize define\n",
    "sns.set(font_scale=1) #fontsize \n",
    "sns.countplot(x=\"home_ownership\",hue=\"loan_status\", data=loan, palette=\"Set1\")"
   ]
  },
  {
   "cell_type": "markdown",
   "id": "7cc9a01c",
   "metadata": {},
   "source": [
    "mortage and rent people are fully paid there loans "
   ]
  },
  {
   "cell_type": "code",
   "execution_count": 36,
   "id": "28a1c702",
   "metadata": {},
   "outputs": [
    {
     "data": {
      "image/png": "[encoded data removed]",
      "text/plain": [
       "<Figure size 1500x800 with 1 Axes>"
      ]
     },
     "metadata": {},
     "output_type": "display_data"
    }
   ],
   "source": [
    "plt.figure(figsize=(15,8))  #figuresize define\n",
    "sns.set(font_scale=1) #fontsize \n",
    "sns.countplot(x=loan['term'], data=loan, palette=\"Accent_r\")\n",
    "plt.show()"
   ]
  },
  {
   "cell_type": "markdown",
   "id": "631cb3f4",
   "metadata": {},
   "source": [
    "loan term more for 36 months "
   ]
  },
  {
   "cell_type": "code",
   "execution_count": 37,
   "id": "6a13ced8",
   "metadata": {},
   "outputs": [],
   "source": [
    "from sklearn.preprocessing import LabelEncoder \n",
    "label_encoder=LabelEncoder()"
   ]
  },
  {
   "cell_type": "code",
   "execution_count": 38,
   "id": "43fcf588",
   "metadata": {},
   "outputs": [],
   "source": [
    "loan[\"emp_length\"]=label_encoder.fit_transform(loan[\"emp_length\"])"
   ]
  },
  {
   "cell_type": "code",
   "execution_count": 39,
   "id": "57619a5f",
   "metadata": {},
   "outputs": [
    {
     "data": {
      "text/plain": [
       "1     9369\n",
       "10    5062\n",
       "2     4743\n",
       "3     4364\n",
       "4     3649\n",
       "0     3595\n",
       "5     3458\n",
       "6     2375\n",
       "7     1875\n",
       "8     1592\n",
       "9     1341\n",
       "11    1119\n",
       "Name: emp_length, dtype: int64"
      ]
     },
     "execution_count": 39,
     "metadata": {},
     "output_type": "execute_result"
    }
   ],
   "source": [
    "loan.emp_length.value_counts()"
   ]
  },
  {
   "cell_type": "code",
   "execution_count": 40,
   "id": "29566b8b",
   "metadata": {},
   "outputs": [],
   "source": [
    "loan[\"loan_status\"]=label_encoder.fit_transform(loan[\"loan_status\"])"
   ]
  },
  {
   "cell_type": "code",
   "execution_count": 41,
   "id": "ae3bf85e",
   "metadata": {},
   "outputs": [
    {
     "data": {
      "text/plain": [
       "5    33586\n",
       "0     5653\n",
       "4     1988\n",
       "3      761\n",
       "1      513\n",
       "6       16\n",
       "8       12\n",
       "9        7\n",
       "7        5\n",
       "2        1\n",
       "Name: loan_status, dtype: int64"
      ]
     },
     "execution_count": 41,
     "metadata": {},
     "output_type": "execute_result"
    }
   ],
   "source": [
    "loan.loan_status.value_counts()"
   ]
  },
  {
   "cell_type": "code",
   "execution_count": 42,
   "id": "8c1a5ae0",
   "metadata": {},
   "outputs": [],
   "source": [
    "loan[\"grade\"]=label_encoder.fit_transform(loan[\"grade\"])"
   ]
  },
  {
   "cell_type": "code",
   "execution_count": 43,
   "id": "2f61c370",
   "metadata": {},
   "outputs": [
    {
     "data": {
      "text/plain": [
       "1    12389\n",
       "0    10183\n",
       "2     8740\n",
       "3     6016\n",
       "4     3394\n",
       "5     1301\n",
       "6      512\n",
       "7        7\n",
       "Name: grade, dtype: int64"
      ]
     },
     "execution_count": 43,
     "metadata": {},
     "output_type": "execute_result"
    }
   ],
   "source": [
    "loan.grade.value_counts()"
   ]
  },
  {
   "cell_type": "code",
   "execution_count": 44,
   "id": "90e860f0",
   "metadata": {},
   "outputs": [],
   "source": [
    "loan[\"pub_rec\"]=label_encoder.fit_transform(loan[\"pub_rec\"])"
   ]
  },
  {
   "cell_type": "code",
   "execution_count": 45,
   "id": "715c4ac5",
   "metadata": {},
   "outputs": [
    {
     "data": {
      "text/plain": [
       "0    40130\n",
       "1     2298\n",
       "2       64\n",
       "6       36\n",
       "3       11\n",
       "4        2\n",
       "5        1\n",
       "Name: pub_rec, dtype: int64"
      ]
     },
     "execution_count": 45,
     "metadata": {},
     "output_type": "execute_result"
    }
   ],
   "source": [
    "loan.pub_rec.value_counts()"
   ]
  },
  {
   "cell_type": "code",
   "execution_count": 46,
   "id": "de7d5c5c",
   "metadata": {},
   "outputs": [],
   "source": [
    "loan[\"home_ownership\"]=label_encoder.fit_transform(loan[\"home_ownership\"])"
   ]
  },
  {
   "cell_type": "code",
   "execution_count": 47,
   "id": "5124b072",
   "metadata": {},
   "outputs": [
    {
     "data": {
      "text/plain": [
       "4    20181\n",
       "0    18959\n",
       "3     3251\n",
       "2      136\n",
       "1        8\n",
       "5        7\n",
       "Name: home_ownership, dtype: int64"
      ]
     },
     "execution_count": 47,
     "metadata": {},
     "output_type": "execute_result"
    }
   ],
   "source": [
    "loan.home_ownership.value_counts()"
   ]
  },
  {
   "cell_type": "code",
   "execution_count": 48,
   "id": "44c0cc83",
   "metadata": {},
   "outputs": [],
   "source": [
    "loan[\"verification_status\"]=label_encoder.fit_transform(loan[\"verification_status\"])"
   ]
  },
  {
   "cell_type": "code",
   "execution_count": 49,
   "id": "97ee5e8b",
   "metadata": {},
   "outputs": [
    {
     "data": {
      "text/plain": [
       "0    18758\n",
       "2    13471\n",
       "1    10306\n",
       "3        7\n",
       "Name: verification_status, dtype: int64"
      ]
     },
     "execution_count": 49,
     "metadata": {},
     "output_type": "execute_result"
    }
   ],
   "source": [
    "loan.verification_status.value_counts()"
   ]
  },
  {
   "cell_type": "code",
   "execution_count": 50,
   "id": "bf430aca",
   "metadata": {},
   "outputs": [],
   "source": [
    "loan[\"term\"]=label_encoder.fit_transform(loan[\"term\"])"
   ]
  },
  {
   "cell_type": "code",
   "execution_count": 51,
   "id": "d7480128",
   "metadata": {},
   "outputs": [
    {
     "data": {
      "text/plain": [
       "0    31534\n",
       "1    11001\n",
       "2        7\n",
       "Name: term, dtype: int64"
      ]
     },
     "execution_count": 51,
     "metadata": {},
     "output_type": "execute_result"
    }
   ],
   "source": [
    "loan.term.value_counts()"
   ]
  },
  {
   "cell_type": "code",
   "execution_count": 52,
   "id": "be48e0d3",
   "metadata": {},
   "outputs": [],
   "source": [
    "loan[\"sub_grade\"]=label_encoder.fit_transform(loan[\"sub_grade\"])"
   ]
  },
  {
   "cell_type": "code",
   "execution_count": 53,
   "id": "0f8ac331",
   "metadata": {},
   "outputs": [
    {
     "data": {
      "text/plain": [
       "7     2997\n",
       "3     2905\n",
       "9     2807\n",
       "4     2793\n",
       "8     2590\n",
       "10    2264\n",
       "11    2157\n",
       "6     2113\n",
       "5     1882\n",
       "2     1823\n",
       "12    1658\n",
       "1     1520\n",
       "16    1485\n",
       "13    1370\n",
       "17    1322\n",
       "14    1291\n",
       "0     1142\n",
       "18    1140\n",
       "15    1053\n",
       "19    1016\n",
       "20     884\n",
       "21     791\n",
       "22     668\n",
       "23     552\n",
       "24     499\n",
       "25     392\n",
       "26     308\n",
       "27     236\n",
       "28     211\n",
       "29     154\n",
       "30     141\n",
       "31     107\n",
       "33      99\n",
       "34      86\n",
       "32      79\n",
       "35       7\n",
       "Name: sub_grade, dtype: int64"
      ]
     },
     "execution_count": 53,
     "metadata": {},
     "output_type": "execute_result"
    }
   ],
   "source": [
    "loan.sub_grade.value_counts()"
   ]
  },
  {
   "cell_type": "code",
   "execution_count": 54,
   "id": "bf6336d3",
   "metadata": {},
   "outputs": [
    {
     "data": {
      "text/plain": [
       "loan_amnt                    -0.067351\n",
       "funded_amnt                  -0.065642\n",
       "funded_amnt_inv              -0.043115\n",
       "term                         -0.177807\n",
       "int_rate                     -0.221178\n",
       "installment                  -0.033389\n",
       "grade                        -0.205840\n",
       "sub_grade                    -0.208647\n",
       "emp_length                   -0.001839\n",
       "home_ownership               -0.015467\n",
       "annual_inc                    0.035714\n",
       "verification_status          -0.047328\n",
       "loan_status                   1.000000\n",
       "dti                          -0.048634\n",
       "delinq_2yrs                  -0.020433\n",
       "fico_range_low                0.135751\n",
       "fico_range_high               0.135751\n",
       "inq_last_6mths               -0.087611\n",
       "open_acc                      0.003863\n",
       "pub_rec                      -0.033302\n",
       "revol_bal                    -0.019955\n",
       "total_acc                     0.018839\n",
       "out_prncp                    -0.150830\n",
       "out_prncp_inv                -0.150778\n",
       "total_pymnt                   0.197084\n",
       "total_pymnt_inv               0.194918\n",
       "total_rec_prncp               0.300676\n",
       "total_rec_int                -0.045533\n",
       "total_rec_late_fee           -0.149697\n",
       "recoveries                   -0.313620\n",
       "collection_recovery_fee      -0.188191\n",
       "last_pymnt_amnt               0.226680\n",
       "last_fico_range_high          0.471377\n",
       "last_fico_range_low           0.423125\n",
       "collections_12_mths_ex_med         NaN\n",
       "policy_code                        NaN\n",
       "acc_now_delinq               -0.001154\n",
       "chargeoff_within_12_mths           NaN\n",
       "delinq_amnt                  -0.000579\n",
       "tax_liens                    -0.000576\n",
       "Name: loan_status, dtype: float64"
      ]
     },
     "execution_count": 54,
     "metadata": {},
     "output_type": "execute_result"
    }
   ],
   "source": [
    "loan.corr()['loan_status']"
   ]
  },
  {
   "cell_type": "code",
   "execution_count": 55,
   "id": "8bf61c3a",
   "metadata": {},
   "outputs": [
    {
     "data": {
      "text/plain": [
       "chargeoff_within_12_mths          1\n",
       "application_type                  1\n",
       "policy_code                       1\n",
       "collections_12_mths_ex_med        1\n",
       "initial_list_status               1\n",
       "tax_liens                         2\n",
       "acc_now_delinq                    2\n",
       "pymnt_plan                        2\n",
       "term                              3\n",
       "delinq_amnt                       3\n",
       "verification_status               4\n",
       "home_ownership                    6\n",
       "pub_rec                           7\n",
       "grade                             8\n",
       "loan_status                      10\n",
       "emp_length                       12\n",
       "delinq_2yrs                      12\n",
       "purpose                          14\n",
       "inq_last_6mths                   28\n",
       "sub_grade                        36\n",
       "fico_range_high                  44\n",
       "fico_range_low                   44\n",
       "open_acc                         44\n",
       "addr_state                       50\n",
       "issue_d                          55\n",
       "last_fico_range_low              71\n",
       "last_fico_range_high             72\n",
       "total_acc                        83\n",
       "last_pymnt_d                    106\n",
       "last_credit_pull_d              111\n",
       "int_rate                        394\n",
       "earliest_cr_line                530\n",
       "out_prncp                       547\n",
       "out_prncp_inv                   548\n",
       "zip_code                        837\n",
       "loan_amnt                       898\n",
       "funded_amnt                    1051\n",
       "revol_util                     1119\n",
       "total_rec_late_fee             1562\n",
       "collection_recovery_fee        2857\n",
       "dti                            2894\n",
       "recoveries                     4530\n",
       "annual_inc                     5597\n",
       "total_rec_prncp                8214\n",
       "funded_amnt_inv                9240\n",
       "installment                   16459\n",
       "title                         21253\n",
       "revol_bal                     22709\n",
       "emp_title                     30658\n",
       "last_pymnt_amnt               37117\n",
       "total_rec_int                 37533\n",
       "total_pymnt_inv               40108\n",
       "total_pymnt                   40579\n",
       "dtype: int64"
      ]
     },
     "execution_count": 55,
     "metadata": {},
     "output_type": "execute_result"
    }
   ],
   "source": [
    "loan.nunique().sort_values(ascending=True)"
   ]
  },
  {
   "cell_type": "code",
   "execution_count": 56,
   "id": "2a2c7921",
   "metadata": {},
   "outputs": [],
   "source": [
    "loan=loan.drop(['chargeoff_within_12_mths','policy_code','collections_12_mths_ex_med',\"initial_list_status\",\"application_type\"], axis = 1)"
   ]
  },
  {
   "cell_type": "code",
   "execution_count": 57,
   "id": "a0daffcf",
   "metadata": {},
   "outputs": [
    {
     "data": {
      "text/plain": [
       "(42542, 48)"
      ]
     },
     "execution_count": 57,
     "metadata": {},
     "output_type": "execute_result"
    }
   ],
   "source": [
    "loan.shape"
   ]
  },
  {
   "cell_type": "code",
   "execution_count": 58,
   "id": "a305a17e",
   "metadata": {},
   "outputs": [
    {
     "data": {
      "text/plain": [
       "loan_status                1.000000\n",
       "last_fico_range_high       0.471377\n",
       "last_fico_range_low        0.423125\n",
       "total_rec_prncp            0.300676\n",
       "last_pymnt_amnt            0.226680\n",
       "total_pymnt                0.197084\n",
       "total_pymnt_inv            0.194918\n",
       "fico_range_high            0.135751\n",
       "fico_range_low             0.135751\n",
       "annual_inc                 0.035714\n",
       "total_acc                  0.018839\n",
       "open_acc                   0.003863\n",
       "tax_liens                 -0.000576\n",
       "delinq_amnt               -0.000579\n",
       "acc_now_delinq            -0.001154\n",
       "emp_length                -0.001839\n",
       "home_ownership            -0.015467\n",
       "revol_bal                 -0.019955\n",
       "delinq_2yrs               -0.020433\n",
       "pub_rec                   -0.033302\n",
       "installment               -0.033389\n",
       "funded_amnt_inv           -0.043115\n",
       "total_rec_int             -0.045533\n",
       "verification_status       -0.047328\n",
       "dti                       -0.048634\n",
       "funded_amnt               -0.065642\n",
       "loan_amnt                 -0.067351\n",
       "inq_last_6mths            -0.087611\n",
       "total_rec_late_fee        -0.149697\n",
       "out_prncp_inv             -0.150778\n",
       "out_prncp                 -0.150830\n",
       "term                      -0.177807\n",
       "collection_recovery_fee   -0.188191\n",
       "grade                     -0.205840\n",
       "sub_grade                 -0.208647\n",
       "int_rate                  -0.221178\n",
       "recoveries                -0.313620\n",
       "Name: loan_status, dtype: float64"
      ]
     },
     "execution_count": 58,
     "metadata": {},
     "output_type": "execute_result"
    }
   ],
   "source": [
    "loan.corr()['loan_status'].sort_values(ascending=False)"
   ]
  },
  {
   "cell_type": "code",
   "execution_count": 59,
   "id": "b9c7f780",
   "metadata": {},
   "outputs": [
    {
     "data": {
      "text/plain": [
       "loan_amnt                     7\n",
       "funded_amnt                   7\n",
       "funded_amnt_inv               7\n",
       "term                          0\n",
       "int_rate                      7\n",
       "installment                   7\n",
       "grade                         0\n",
       "sub_grade                     0\n",
       "emp_title                  2633\n",
       "emp_length                    0\n",
       "home_ownership                0\n",
       "annual_inc                   11\n",
       "verification_status           0\n",
       "issue_d                       7\n",
       "loan_status                   0\n",
       "pymnt_plan                    7\n",
       "purpose                       7\n",
       "title                        20\n",
       "zip_code                      7\n",
       "addr_state                    7\n",
       "dti                           7\n",
       "delinq_2yrs                  36\n",
       "earliest_cr_line             36\n",
       "fico_range_low                7\n",
       "fico_range_high               7\n",
       "inq_last_6mths               36\n",
       "open_acc                     36\n",
       "pub_rec                       0\n",
       "revol_bal                     7\n",
       "revol_util                   97\n",
       "total_acc                    36\n",
       "out_prncp                     7\n",
       "out_prncp_inv                 7\n",
       "total_pymnt                   7\n",
       "total_pymnt_inv               7\n",
       "total_rec_prncp               7\n",
       "total_rec_int                 7\n",
       "total_rec_late_fee            7\n",
       "recoveries                    7\n",
       "collection_recovery_fee       7\n",
       "last_pymnt_d                 90\n",
       "last_pymnt_amnt               7\n",
       "last_credit_pull_d           11\n",
       "last_fico_range_high          7\n",
       "last_fico_range_low           7\n",
       "acc_now_delinq               36\n",
       "delinq_amnt                  36\n",
       "tax_liens                   112\n",
       "dtype: int64"
      ]
     },
     "execution_count": 59,
     "metadata": {},
     "output_type": "execute_result"
    }
   ],
   "source": [
    "loan.isnull().sum()"
   ]
  },
  {
   "cell_type": "code",
   "execution_count": 60,
   "id": "157ac21e",
   "metadata": {},
   "outputs": [
    {
     "name": "stdout",
     "output_type": "stream",
     "text": [
      "<class 'pandas.core.frame.DataFrame'>\n",
      "RangeIndex: 42542 entries, 0 to 42541\n",
      "Data columns (total 48 columns):\n",
      " #   Column                   Non-Null Count  Dtype  \n",
      "---  ------                   --------------  -----  \n",
      " 0   loan_amnt                42535 non-null  float64\n",
      " 1   funded_amnt              42535 non-null  float64\n",
      " 2   funded_amnt_inv          42535 non-null  float64\n",
      " 3   term                     42542 non-null  int32  \n",
      " 4   int_rate                 42535 non-null  float64\n",
      " 5   installment              42535 non-null  float64\n",
      " 6   grade                    42542 non-null  int32  \n",
      " 7   sub_grade                42542 non-null  int32  \n",
      " 8   emp_title                39909 non-null  object \n",
      " 9   emp_length               42542 non-null  int32  \n",
      " 10  home_ownership           42542 non-null  int32  \n",
      " 11  annual_inc               42531 non-null  float64\n",
      " 12  verification_status      42542 non-null  int32  \n",
      " 13  issue_d                  42535 non-null  object \n",
      " 14  loan_status              42542 non-null  int32  \n",
      " 15  pymnt_plan               42535 non-null  object \n",
      " 16  purpose                  42535 non-null  object \n",
      " 17  title                    42522 non-null  object \n",
      " 18  zip_code                 42535 non-null  object \n",
      " 19  addr_state               42535 non-null  object \n",
      " 20  dti                      42535 non-null  float64\n",
      " 21  delinq_2yrs              42506 non-null  float64\n",
      " 22  earliest_cr_line         42506 non-null  object \n",
      " 23  fico_range_low           42535 non-null  float64\n",
      " 24  fico_range_high          42535 non-null  float64\n",
      " 25  inq_last_6mths           42506 non-null  float64\n",
      " 26  open_acc                 42506 non-null  float64\n",
      " 27  pub_rec                  42542 non-null  int64  \n",
      " 28  revol_bal                42535 non-null  float64\n",
      " 29  revol_util               42445 non-null  object \n",
      " 30  total_acc                42506 non-null  float64\n",
      " 31  out_prncp                42535 non-null  float64\n",
      " 32  out_prncp_inv            42535 non-null  float64\n",
      " 33  total_pymnt              42535 non-null  float64\n",
      " 34  total_pymnt_inv          42535 non-null  float64\n",
      " 35  total_rec_prncp          42535 non-null  float64\n",
      " 36  total_rec_int            42535 non-null  float64\n",
      " 37  total_rec_late_fee       42535 non-null  float64\n",
      " 38  recoveries               42535 non-null  float64\n",
      " 39  collection_recovery_fee  42535 non-null  float64\n",
      " 40  last_pymnt_d             42452 non-null  object \n",
      " 41  last_pymnt_amnt          42535 non-null  float64\n",
      " 42  last_credit_pull_d       42531 non-null  object \n",
      " 43  last_fico_range_high     42535 non-null  float64\n",
      " 44  last_fico_range_low      42535 non-null  float64\n",
      " 45  acc_now_delinq           42506 non-null  float64\n",
      " 46  delinq_amnt              42506 non-null  float64\n",
      " 47  tax_liens                42430 non-null  float64\n",
      "dtypes: float64(29), int32(7), int64(1), object(11)\n",
      "memory usage: 14.4+ MB\n"
     ]
    }
   ],
   "source": [
    "loan.info()"
   ]
  },
  {
   "cell_type": "code",
   "execution_count": 61,
   "id": "28c7de1a",
   "metadata": {},
   "outputs": [
    {
     "data": {
      "text/plain": [
       "Index(['loan_amnt', 'funded_amnt', 'funded_amnt_inv', 'term', 'int_rate',\n",
       "       'installment', 'grade', 'sub_grade', 'emp_title', 'emp_length',\n",
       "       'home_ownership', 'annual_inc', 'verification_status', 'issue_d',\n",
       "       'loan_status', 'pymnt_plan', 'purpose', 'title', 'zip_code',\n",
       "       'addr_state', 'dti', 'delinq_2yrs', 'earliest_cr_line',\n",
       "       'fico_range_low', 'fico_range_high', 'inq_last_6mths', 'open_acc',\n",
       "       'pub_rec', 'revol_bal', 'revol_util', 'total_acc', 'out_prncp',\n",
       "       'out_prncp_inv', 'total_pymnt', 'total_pymnt_inv', 'total_rec_prncp',\n",
       "       'total_rec_int', 'total_rec_late_fee', 'recoveries',\n",
       "       'collection_recovery_fee', 'last_pymnt_d', 'last_pymnt_amnt',\n",
       "       'last_credit_pull_d', 'last_fico_range_high', 'last_fico_range_low',\n",
       "       'acc_now_delinq', 'delinq_amnt', 'tax_liens'],\n",
       "      dtype='object')"
      ]
     },
     "execution_count": 61,
     "metadata": {},
     "output_type": "execute_result"
    }
   ],
   "source": [
    "loan.columns"
   ]
  },
  {
   "cell_type": "code",
   "execution_count": 62,
   "id": "d9451817",
   "metadata": {},
   "outputs": [],
   "source": [
    "loan.dropna(inplace=True)"
   ]
  },
  {
   "cell_type": "code",
   "execution_count": 63,
   "id": "d45e1a9d",
   "metadata": {},
   "outputs": [
    {
     "data": {
      "text/plain": [
       "(39689, 48)"
      ]
     },
     "execution_count": 63,
     "metadata": {},
     "output_type": "execute_result"
    }
   ],
   "source": [
    "loan.shape"
   ]
  },
  {
   "cell_type": "code",
   "execution_count": 64,
   "id": "b2a0f105",
   "metadata": {},
   "outputs": [
    {
     "data": {
      "text/plain": [
       "loan_amnt                  0\n",
       "funded_amnt                0\n",
       "funded_amnt_inv            0\n",
       "term                       0\n",
       "int_rate                   0\n",
       "installment                0\n",
       "grade                      0\n",
       "sub_grade                  0\n",
       "emp_title                  0\n",
       "emp_length                 0\n",
       "home_ownership             0\n",
       "annual_inc                 0\n",
       "verification_status        0\n",
       "issue_d                    0\n",
       "loan_status                0\n",
       "pymnt_plan                 0\n",
       "purpose                    0\n",
       "title                      0\n",
       "zip_code                   0\n",
       "addr_state                 0\n",
       "dti                        0\n",
       "delinq_2yrs                0\n",
       "earliest_cr_line           0\n",
       "fico_range_low             0\n",
       "fico_range_high            0\n",
       "inq_last_6mths             0\n",
       "open_acc                   0\n",
       "pub_rec                    0\n",
       "revol_bal                  0\n",
       "revol_util                 0\n",
       "total_acc                  0\n",
       "out_prncp                  0\n",
       "out_prncp_inv              0\n",
       "total_pymnt                0\n",
       "total_pymnt_inv            0\n",
       "total_rec_prncp            0\n",
       "total_rec_int              0\n",
       "total_rec_late_fee         0\n",
       "recoveries                 0\n",
       "collection_recovery_fee    0\n",
       "last_pymnt_d               0\n",
       "last_pymnt_amnt            0\n",
       "last_credit_pull_d         0\n",
       "last_fico_range_high       0\n",
       "last_fico_range_low        0\n",
       "acc_now_delinq             0\n",
       "delinq_amnt                0\n",
       "tax_liens                  0\n",
       "dtype: int64"
      ]
     },
     "execution_count": 64,
     "metadata": {},
     "output_type": "execute_result"
    }
   ],
   "source": [
    "loan.isnull().sum()"
   ]
  },
  {
   "cell_type": "code",
   "execution_count": 65,
   "id": "e7d733d4",
   "metadata": {},
   "outputs": [
    {
     "data": {
      "text/plain": [
       "loan_status                1.000000\n",
       "last_fico_range_high       0.466961\n",
       "last_fico_range_low        0.418683\n",
       "total_rec_prncp            0.294994\n",
       "last_pymnt_amnt            0.225285\n",
       "total_pymnt                0.190631\n",
       "total_pymnt_inv            0.189186\n",
       "fico_range_low             0.135423\n",
       "fico_range_high            0.135423\n",
       "annual_inc                 0.032404\n",
       "total_acc                  0.013689\n",
       "emp_length                 0.010928\n",
       "tax_liens                 -0.000679\n",
       "delinq_amnt               -0.000679\n",
       "acc_now_delinq            -0.001176\n",
       "open_acc                  -0.002960\n",
       "home_ownership            -0.015087\n",
       "delinq_2yrs               -0.017026\n",
       "revol_bal                 -0.022280\n",
       "installment               -0.037499\n",
       "pub_rec                   -0.046644\n",
       "funded_amnt_inv           -0.047075\n",
       "dti                       -0.049729\n",
       "verification_status       -0.051055\n",
       "total_rec_int             -0.051235\n",
       "funded_amnt               -0.070543\n",
       "loan_amnt                 -0.072341\n",
       "inq_last_6mths            -0.087568\n",
       "total_rec_late_fee        -0.152494\n",
       "out_prncp_inv             -0.154060\n",
       "out_prncp                 -0.154127\n",
       "term                      -0.181892\n",
       "collection_recovery_fee   -0.190308\n",
       "grade                     -0.207455\n",
       "sub_grade                 -0.210604\n",
       "int_rate                  -0.220622\n",
       "recoveries                -0.314651\n",
       "Name: loan_status, dtype: float64"
      ]
     },
     "execution_count": 65,
     "metadata": {},
     "output_type": "execute_result"
    }
   ],
   "source": [
    "loan.corr()['loan_status'].sort_values(ascending=False)"
   ]
  },
  {
   "cell_type": "code",
   "execution_count": 66,
   "id": "2b6ae618",
   "metadata": {},
   "outputs": [
    {
     "data": {
      "text/plain": [
       "Index(['loan_amnt', 'funded_amnt', 'funded_amnt_inv', 'term', 'int_rate',\n",
       "       'installment', 'grade', 'sub_grade', 'emp_title', 'emp_length',\n",
       "       'home_ownership', 'annual_inc', 'verification_status', 'issue_d',\n",
       "       'loan_status', 'pymnt_plan', 'purpose', 'title', 'zip_code',\n",
       "       'addr_state', 'dti', 'delinq_2yrs', 'earliest_cr_line',\n",
       "       'fico_range_low', 'fico_range_high', 'inq_last_6mths', 'open_acc',\n",
       "       'pub_rec', 'revol_bal', 'revol_util', 'total_acc', 'out_prncp',\n",
       "       'out_prncp_inv', 'total_pymnt', 'total_pymnt_inv', 'total_rec_prncp',\n",
       "       'total_rec_int', 'total_rec_late_fee', 'recoveries',\n",
       "       'collection_recovery_fee', 'last_pymnt_d', 'last_pymnt_amnt',\n",
       "       'last_credit_pull_d', 'last_fico_range_high', 'last_fico_range_low',\n",
       "       'acc_now_delinq', 'delinq_amnt', 'tax_liens'],\n",
       "      dtype='object')"
      ]
     },
     "execution_count": 66,
     "metadata": {},
     "output_type": "execute_result"
    }
   ],
   "source": [
    "loan.columns"
   ]
  },
  {
   "cell_type": "code",
   "execution_count": 67,
   "id": "160739f7",
   "metadata": {},
   "outputs": [],
   "source": [
    "loannew=loan.drop(['funded_amnt', \n",
    "       'installment', 'emp_title', 'emp_length',\n",
    "       'home_ownership', 'annual_inc', 'verification_status', 'issue_d', 'pymnt_plan', 'purpose', 'title', 'zip_code',\n",
    "       'addr_state', 'dti', 'delinq_2yrs', 'earliest_cr_line', 'open_acc',\n",
    "       'pub_rec', 'revol_bal', 'revol_util', 'total_acc',\n",
    "       'total_rec_int', 'recoveries', 'last_pymnt_d',\n",
    "       'last_credit_pull_d',\n",
    "       'acc_now_delinq', 'delinq_amnt', 'tax_liens'], axis = 1)"
   ]
  },
  {
   "cell_type": "code",
   "execution_count": 68,
   "id": "fb26f3dc",
   "metadata": {},
   "outputs": [
    {
     "data": {
      "text/plain": [
       "(39689, 20)"
      ]
     },
     "execution_count": 68,
     "metadata": {},
     "output_type": "execute_result"
    }
   ],
   "source": [
    "loannew.shape"
   ]
  },
  {
   "cell_type": "code",
   "execution_count": 69,
   "id": "76e97493",
   "metadata": {},
   "outputs": [
    {
     "data": {
      "text/plain": [
       "loan_status                1.000000\n",
       "last_fico_range_high       0.466961\n",
       "last_fico_range_low        0.418683\n",
       "total_rec_prncp            0.294994\n",
       "last_pymnt_amnt            0.225285\n",
       "total_pymnt                0.190631\n",
       "total_pymnt_inv            0.189186\n",
       "fico_range_low             0.135423\n",
       "fico_range_high            0.135423\n",
       "funded_amnt_inv           -0.047075\n",
       "loan_amnt                 -0.072341\n",
       "inq_last_6mths            -0.087568\n",
       "total_rec_late_fee        -0.152494\n",
       "out_prncp_inv             -0.154060\n",
       "out_prncp                 -0.154127\n",
       "term                      -0.181892\n",
       "collection_recovery_fee   -0.190308\n",
       "grade                     -0.207455\n",
       "sub_grade                 -0.210604\n",
       "int_rate                  -0.220622\n",
       "Name: loan_status, dtype: float64"
      ]
     },
     "execution_count": 69,
     "metadata": {},
     "output_type": "execute_result"
    }
   ],
   "source": [
    "loannew.corr()['loan_status'].sort_values(ascending=False)"
   ]
  },
  {
   "cell_type": "code",
   "execution_count": 70,
   "id": "c6ab44b7",
   "metadata": {},
   "outputs": [
    {
     "data": {
      "text/html": [
       "<div>\n",
       "<style scoped>\n",
       "    .dataframe tbody tr th:only-of-type {\n",
       "        vertical-align: middle;\n",
       "    }\n",
       "\n",
       "    .dataframe tbody tr th {\n",
       "        vertical-align: top;\n",
       "    }\n",
       "\n",
       "    .dataframe thead th {\n",
       "        text-align: right;\n",
       "    }\n",
       "</style>\n",
       "<table border=\"1\" class=\"dataframe\">\n",
       "  <thead>\n",
       "    <tr style=\"text-align: right;\">\n",
       "      <th></th>\n",
       "      <th>loan_amnt</th>\n",
       "      <th>funded_amnt_inv</th>\n",
       "      <th>term</th>\n",
       "      <th>int_rate</th>\n",
       "      <th>grade</th>\n",
       "      <th>sub_grade</th>\n",
       "      <th>loan_status</th>\n",
       "      <th>fico_range_low</th>\n",
       "      <th>fico_range_high</th>\n",
       "      <th>inq_last_6mths</th>\n",
       "      <th>out_prncp</th>\n",
       "      <th>out_prncp_inv</th>\n",
       "      <th>total_pymnt</th>\n",
       "      <th>total_pymnt_inv</th>\n",
       "      <th>total_rec_prncp</th>\n",
       "      <th>total_rec_late_fee</th>\n",
       "      <th>collection_recovery_fee</th>\n",
       "      <th>last_pymnt_amnt</th>\n",
       "      <th>last_fico_range_high</th>\n",
       "      <th>last_fico_range_low</th>\n",
       "    </tr>\n",
       "  </thead>\n",
       "  <tbody>\n",
       "    <tr>\n",
       "      <th>loan_amnt</th>\n",
       "      <td>1.000000</td>\n",
       "      <td>0.928256</td>\n",
       "      <td>0.356731</td>\n",
       "      <td>0.291098</td>\n",
       "      <td>0.256641</td>\n",
       "      <td>0.266831</td>\n",
       "      <td>-0.072341</td>\n",
       "      <td>0.135480</td>\n",
       "      <td>0.135480</td>\n",
       "      <td>-0.031094</td>\n",
       "      <td>0.137259</td>\n",
       "      <td>0.137224</td>\n",
       "      <td>0.884671</td>\n",
       "      <td>0.844790</td>\n",
       "      <td>0.852564</td>\n",
       "      <td>0.041145</td>\n",
       "      <td>0.071462</td>\n",
       "      <td>0.448386</td>\n",
       "      <td>0.086091</td>\n",
       "      <td>0.074411</td>\n",
       "    </tr>\n",
       "    <tr>\n",
       "      <th>funded_amnt_inv</th>\n",
       "      <td>0.928256</td>\n",
       "      <td>1.000000</td>\n",
       "      <td>0.366330</td>\n",
       "      <td>0.279601</td>\n",
       "      <td>0.212422</td>\n",
       "      <td>0.220957</td>\n",
       "      <td>-0.047075</td>\n",
       "      <td>0.146386</td>\n",
       "      <td>0.146386</td>\n",
       "      <td>-0.076134</td>\n",
       "      <td>0.148357</td>\n",
       "      <td>0.148315</td>\n",
       "      <td>0.874508</td>\n",
       "      <td>0.914953</td>\n",
       "      <td>0.842182</td>\n",
       "      <td>0.017569</td>\n",
       "      <td>0.056222</td>\n",
       "      <td>0.442199</td>\n",
       "      <td>0.105966</td>\n",
       "      <td>0.095348</td>\n",
       "    </tr>\n",
       "    <tr>\n",
       "      <th>term</th>\n",
       "      <td>0.356731</td>\n",
       "      <td>0.366330</td>\n",
       "      <td>1.000000</td>\n",
       "      <td>0.430639</td>\n",
       "      <td>0.383043</td>\n",
       "      <td>0.391990</td>\n",
       "      <td>-0.181892</td>\n",
       "      <td>0.001046</td>\n",
       "      <td>0.001046</td>\n",
       "      <td>-0.013705</td>\n",
       "      <td>0.157659</td>\n",
       "      <td>0.157599</td>\n",
       "      <td>0.339239</td>\n",
       "      <td>0.361737</td>\n",
       "      <td>0.231270</td>\n",
       "      <td>0.006065</td>\n",
       "      <td>0.031722</td>\n",
       "      <td>0.236390</td>\n",
       "      <td>-0.057468</td>\n",
       "      <td>-0.047243</td>\n",
       "    </tr>\n",
       "    <tr>\n",
       "      <th>int_rate</th>\n",
       "      <td>0.291098</td>\n",
       "      <td>0.279601</td>\n",
       "      <td>0.430639</td>\n",
       "      <td>1.000000</td>\n",
       "      <td>0.939115</td>\n",
       "      <td>0.950515</td>\n",
       "      <td>-0.220622</td>\n",
       "      <td>-0.705573</td>\n",
       "      <td>-0.705573</td>\n",
       "      <td>0.178261</td>\n",
       "      <td>0.096641</td>\n",
       "      <td>0.096755</td>\n",
       "      <td>0.293322</td>\n",
       "      <td>0.281809</td>\n",
       "      <td>0.174400</td>\n",
       "      <td>0.097643</td>\n",
       "      <td>0.074882</td>\n",
       "      <td>0.149155</td>\n",
       "      <td>-0.312487</td>\n",
       "      <td>-0.247917</td>\n",
       "    </tr>\n",
       "    <tr>\n",
       "      <th>grade</th>\n",
       "      <td>0.256641</td>\n",
       "      <td>0.212422</td>\n",
       "      <td>0.383043</td>\n",
       "      <td>0.939115</td>\n",
       "      <td>1.000000</td>\n",
       "      <td>0.980997</td>\n",
       "      <td>-0.207455</td>\n",
       "      <td>-0.692659</td>\n",
       "      <td>-0.692659</td>\n",
       "      <td>0.216324</td>\n",
       "      <td>0.062391</td>\n",
       "      <td>0.062504</td>\n",
       "      <td>0.253934</td>\n",
       "      <td>0.219664</td>\n",
       "      <td>0.139260</td>\n",
       "      <td>0.111773</td>\n",
       "      <td>0.082647</td>\n",
       "      <td>0.121042</td>\n",
       "      <td>-0.300709</td>\n",
       "      <td>-0.242172</td>\n",
       "    </tr>\n",
       "    <tr>\n",
       "      <th>sub_grade</th>\n",
       "      <td>0.266831</td>\n",
       "      <td>0.220957</td>\n",
       "      <td>0.391990</td>\n",
       "      <td>0.950515</td>\n",
       "      <td>0.980997</td>\n",
       "      <td>1.000000</td>\n",
       "      <td>-0.210604</td>\n",
       "      <td>-0.708623</td>\n",
       "      <td>-0.708623</td>\n",
       "      <td>0.223052</td>\n",
       "      <td>0.063516</td>\n",
       "      <td>0.063638</td>\n",
       "      <td>0.262082</td>\n",
       "      <td>0.227290</td>\n",
       "      <td>0.146347</td>\n",
       "      <td>0.112559</td>\n",
       "      <td>0.083300</td>\n",
       "      <td>0.125194</td>\n",
       "      <td>-0.306971</td>\n",
       "      <td>-0.247103</td>\n",
       "    </tr>\n",
       "    <tr>\n",
       "      <th>loan_status</th>\n",
       "      <td>-0.072341</td>\n",
       "      <td>-0.047075</td>\n",
       "      <td>-0.181892</td>\n",
       "      <td>-0.220622</td>\n",
       "      <td>-0.207455</td>\n",
       "      <td>-0.210604</td>\n",
       "      <td>1.000000</td>\n",
       "      <td>0.135423</td>\n",
       "      <td>0.135423</td>\n",
       "      <td>-0.087568</td>\n",
       "      <td>-0.154127</td>\n",
       "      <td>-0.154060</td>\n",
       "      <td>0.190631</td>\n",
       "      <td>0.189186</td>\n",
       "      <td>0.294994</td>\n",
       "      <td>-0.152494</td>\n",
       "      <td>-0.190308</td>\n",
       "      <td>0.225285</td>\n",
       "      <td>0.466961</td>\n",
       "      <td>0.418683</td>\n",
       "    </tr>\n",
       "    <tr>\n",
       "      <th>fico_range_low</th>\n",
       "      <td>0.135480</td>\n",
       "      <td>0.146386</td>\n",
       "      <td>0.001046</td>\n",
       "      <td>-0.705573</td>\n",
       "      <td>-0.692659</td>\n",
       "      <td>-0.708623</td>\n",
       "      <td>0.135423</td>\n",
       "      <td>1.000000</td>\n",
       "      <td>1.000000</td>\n",
       "      <td>-0.135926</td>\n",
       "      <td>-0.000199</td>\n",
       "      <td>-0.000305</td>\n",
       "      <td>0.097198</td>\n",
       "      <td>0.112224</td>\n",
       "      <td>0.167276</td>\n",
       "      <td>-0.074521</td>\n",
       "      <td>-0.032954</td>\n",
       "      <td>0.086927</td>\n",
       "      <td>0.373209</td>\n",
       "      <td>0.291550</td>\n",
       "    </tr>\n",
       "    <tr>\n",
       "      <th>fico_range_high</th>\n",
       "      <td>0.135480</td>\n",
       "      <td>0.146386</td>\n",
       "      <td>0.001046</td>\n",
       "      <td>-0.705573</td>\n",
       "      <td>-0.692659</td>\n",
       "      <td>-0.708623</td>\n",
       "      <td>0.135423</td>\n",
       "      <td>1.000000</td>\n",
       "      <td>1.000000</td>\n",
       "      <td>-0.135926</td>\n",
       "      <td>-0.000199</td>\n",
       "      <td>-0.000305</td>\n",
       "      <td>0.097198</td>\n",
       "      <td>0.112224</td>\n",
       "      <td>0.167276</td>\n",
       "      <td>-0.074521</td>\n",
       "      <td>-0.032954</td>\n",
       "      <td>0.086927</td>\n",
       "      <td>0.373209</td>\n",
       "      <td>0.291550</td>\n",
       "    </tr>\n",
       "    <tr>\n",
       "      <th>inq_last_6mths</th>\n",
       "      <td>-0.031094</td>\n",
       "      <td>-0.076134</td>\n",
       "      <td>-0.013705</td>\n",
       "      <td>0.178261</td>\n",
       "      <td>0.216324</td>\n",
       "      <td>0.223052</td>\n",
       "      <td>-0.087568</td>\n",
       "      <td>-0.135926</td>\n",
       "      <td>-0.135926</td>\n",
       "      <td>1.000000</td>\n",
       "      <td>-0.019626</td>\n",
       "      <td>-0.019534</td>\n",
       "      <td>-0.055245</td>\n",
       "      <td>-0.085878</td>\n",
       "      <td>-0.069703</td>\n",
       "      <td>0.060516</td>\n",
       "      <td>0.039379</td>\n",
       "      <td>-0.006075</td>\n",
       "      <td>-0.127986</td>\n",
       "      <td>-0.108973</td>\n",
       "    </tr>\n",
       "    <tr>\n",
       "      <th>out_prncp</th>\n",
       "      <td>0.137259</td>\n",
       "      <td>0.148357</td>\n",
       "      <td>0.157659</td>\n",
       "      <td>0.096641</td>\n",
       "      <td>0.062391</td>\n",
       "      <td>0.063516</td>\n",
       "      <td>-0.154127</td>\n",
       "      <td>-0.000199</td>\n",
       "      <td>-0.000199</td>\n",
       "      <td>-0.019626</td>\n",
       "      <td>1.000000</td>\n",
       "      <td>0.999990</td>\n",
       "      <td>0.187682</td>\n",
       "      <td>0.194362</td>\n",
       "      <td>0.138663</td>\n",
       "      <td>0.009211</td>\n",
       "      <td>-0.008217</td>\n",
       "      <td>-0.045603</td>\n",
       "      <td>0.001701</td>\n",
       "      <td>0.005088</td>\n",
       "    </tr>\n",
       "    <tr>\n",
       "      <th>out_prncp_inv</th>\n",
       "      <td>0.137224</td>\n",
       "      <td>0.148315</td>\n",
       "      <td>0.157599</td>\n",
       "      <td>0.096755</td>\n",
       "      <td>0.062504</td>\n",
       "      <td>0.063638</td>\n",
       "      <td>-0.154060</td>\n",
       "      <td>-0.000305</td>\n",
       "      <td>-0.000305</td>\n",
       "      <td>-0.019534</td>\n",
       "      <td>0.999990</td>\n",
       "      <td>1.000000</td>\n",
       "      <td>0.187654</td>\n",
       "      <td>0.194339</td>\n",
       "      <td>0.138612</td>\n",
       "      <td>0.009252</td>\n",
       "      <td>-0.008214</td>\n",
       "      <td>-0.045584</td>\n",
       "      <td>0.001639</td>\n",
       "      <td>0.005037</td>\n",
       "    </tr>\n",
       "    <tr>\n",
       "      <th>total_pymnt</th>\n",
       "      <td>0.884671</td>\n",
       "      <td>0.874508</td>\n",
       "      <td>0.339239</td>\n",
       "      <td>0.293322</td>\n",
       "      <td>0.253934</td>\n",
       "      <td>0.262082</td>\n",
       "      <td>0.190631</td>\n",
       "      <td>0.097198</td>\n",
       "      <td>0.097198</td>\n",
       "      <td>-0.055245</td>\n",
       "      <td>0.187682</td>\n",
       "      <td>0.187654</td>\n",
       "      <td>1.000000</td>\n",
       "      <td>0.964080</td>\n",
       "      <td>0.972239</td>\n",
       "      <td>0.014227</td>\n",
       "      <td>0.025361</td>\n",
       "      <td>0.469371</td>\n",
       "      <td>0.190202</td>\n",
       "      <td>0.168711</td>\n",
       "    </tr>\n",
       "    <tr>\n",
       "      <th>total_pymnt_inv</th>\n",
       "      <td>0.844790</td>\n",
       "      <td>0.914953</td>\n",
       "      <td>0.361737</td>\n",
       "      <td>0.281809</td>\n",
       "      <td>0.219664</td>\n",
       "      <td>0.227290</td>\n",
       "      <td>0.189186</td>\n",
       "      <td>0.112224</td>\n",
       "      <td>0.112224</td>\n",
       "      <td>-0.085878</td>\n",
       "      <td>0.194362</td>\n",
       "      <td>0.194339</td>\n",
       "      <td>0.964080</td>\n",
       "      <td>1.000000</td>\n",
       "      <td>0.933713</td>\n",
       "      <td>-0.004299</td>\n",
       "      <td>0.012876</td>\n",
       "      <td>0.455684</td>\n",
       "      <td>0.197881</td>\n",
       "      <td>0.178107</td>\n",
       "    </tr>\n",
       "    <tr>\n",
       "      <th>total_rec_prncp</th>\n",
       "      <td>0.852564</td>\n",
       "      <td>0.842182</td>\n",
       "      <td>0.231270</td>\n",
       "      <td>0.174400</td>\n",
       "      <td>0.139260</td>\n",
       "      <td>0.146347</td>\n",
       "      <td>0.294994</td>\n",
       "      <td>0.167276</td>\n",
       "      <td>0.167276</td>\n",
       "      <td>-0.069703</td>\n",
       "      <td>0.138663</td>\n",
       "      <td>0.138612</td>\n",
       "      <td>0.972239</td>\n",
       "      <td>0.933713</td>\n",
       "      <td>1.000000</td>\n",
       "      <td>-0.018833</td>\n",
       "      <td>-0.061483</td>\n",
       "      <td>0.537234</td>\n",
       "      <td>0.258519</td>\n",
       "      <td>0.224285</td>\n",
       "    </tr>\n",
       "    <tr>\n",
       "      <th>total_rec_late_fee</th>\n",
       "      <td>0.041145</td>\n",
       "      <td>0.017569</td>\n",
       "      <td>0.006065</td>\n",
       "      <td>0.097643</td>\n",
       "      <td>0.111773</td>\n",
       "      <td>0.112559</td>\n",
       "      <td>-0.152494</td>\n",
       "      <td>-0.074521</td>\n",
       "      <td>-0.074521</td>\n",
       "      <td>0.060516</td>\n",
       "      <td>0.009211</td>\n",
       "      <td>0.009252</td>\n",
       "      <td>0.014227</td>\n",
       "      <td>-0.004299</td>\n",
       "      <td>-0.018833</td>\n",
       "      <td>1.000000</td>\n",
       "      <td>0.087676</td>\n",
       "      <td>-0.063723</td>\n",
       "      <td>-0.171543</td>\n",
       "      <td>-0.149995</td>\n",
       "    </tr>\n",
       "    <tr>\n",
       "      <th>collection_recovery_fee</th>\n",
       "      <td>0.071462</td>\n",
       "      <td>0.056222</td>\n",
       "      <td>0.031722</td>\n",
       "      <td>0.074882</td>\n",
       "      <td>0.082647</td>\n",
       "      <td>0.083300</td>\n",
       "      <td>-0.190308</td>\n",
       "      <td>-0.032954</td>\n",
       "      <td>-0.032954</td>\n",
       "      <td>0.039379</td>\n",
       "      <td>-0.008217</td>\n",
       "      <td>-0.008214</td>\n",
       "      <td>0.025361</td>\n",
       "      <td>0.012876</td>\n",
       "      <td>-0.061483</td>\n",
       "      <td>0.087676</td>\n",
       "      <td>1.000000</td>\n",
       "      <td>-0.043903</td>\n",
       "      <td>-0.075338</td>\n",
       "      <td>-0.065555</td>\n",
       "    </tr>\n",
       "    <tr>\n",
       "      <th>last_pymnt_amnt</th>\n",
       "      <td>0.448386</td>\n",
       "      <td>0.442199</td>\n",
       "      <td>0.236390</td>\n",
       "      <td>0.149155</td>\n",
       "      <td>0.121042</td>\n",
       "      <td>0.125194</td>\n",
       "      <td>0.225285</td>\n",
       "      <td>0.086927</td>\n",
       "      <td>0.086927</td>\n",
       "      <td>-0.006075</td>\n",
       "      <td>-0.045603</td>\n",
       "      <td>-0.045584</td>\n",
       "      <td>0.469371</td>\n",
       "      <td>0.455684</td>\n",
       "      <td>0.537234</td>\n",
       "      <td>-0.063723</td>\n",
       "      <td>-0.043903</td>\n",
       "      <td>1.000000</td>\n",
       "      <td>0.173062</td>\n",
       "      <td>0.147569</td>\n",
       "    </tr>\n",
       "    <tr>\n",
       "      <th>last_fico_range_high</th>\n",
       "      <td>0.086091</td>\n",
       "      <td>0.105966</td>\n",
       "      <td>-0.057468</td>\n",
       "      <td>-0.312487</td>\n",
       "      <td>-0.300709</td>\n",
       "      <td>-0.306971</td>\n",
       "      <td>0.466961</td>\n",
       "      <td>0.373209</td>\n",
       "      <td>0.373209</td>\n",
       "      <td>-0.127986</td>\n",
       "      <td>0.001701</td>\n",
       "      <td>0.001639</td>\n",
       "      <td>0.190202</td>\n",
       "      <td>0.197881</td>\n",
       "      <td>0.258519</td>\n",
       "      <td>-0.171543</td>\n",
       "      <td>-0.075338</td>\n",
       "      <td>0.173062</td>\n",
       "      <td>1.000000</td>\n",
       "      <td>0.853201</td>\n",
       "    </tr>\n",
       "    <tr>\n",
       "      <th>last_fico_range_low</th>\n",
       "      <td>0.074411</td>\n",
       "      <td>0.095348</td>\n",
       "      <td>-0.047243</td>\n",
       "      <td>-0.247917</td>\n",
       "      <td>-0.242172</td>\n",
       "      <td>-0.247103</td>\n",
       "      <td>0.418683</td>\n",
       "      <td>0.291550</td>\n",
       "      <td>0.291550</td>\n",
       "      <td>-0.108973</td>\n",
       "      <td>0.005088</td>\n",
       "      <td>0.005037</td>\n",
       "      <td>0.168711</td>\n",
       "      <td>0.178107</td>\n",
       "      <td>0.224285</td>\n",
       "      <td>-0.149995</td>\n",
       "      <td>-0.065555</td>\n",
       "      <td>0.147569</td>\n",
       "      <td>0.853201</td>\n",
       "      <td>1.000000</td>\n",
       "    </tr>\n",
       "  </tbody>\n",
       "</table>\n",
       "</div>"
      ],
      "text/plain": [
       "                         loan_amnt  funded_amnt_inv      term  int_rate  \\\n",
       "loan_amnt                 1.000000         0.928256  0.356731  0.291098   \n",
       "funded_amnt_inv           0.928256         1.000000  0.366330  0.279601   \n",
       "term                      0.356731         0.366330  1.000000  0.430639   \n",
       "int_rate                  0.291098         0.279601  0.430639  1.000000   \n",
       "grade                     0.256641         0.212422  0.383043  0.939115   \n",
       "sub_grade                 0.266831         0.220957  0.391990  0.950515   \n",
       "loan_status              -0.072341        -0.047075 -0.181892 -0.220622   \n",
       "fico_range_low            0.135480         0.146386  0.001046 -0.705573   \n",
       "fico_range_high           0.135480         0.146386  0.001046 -0.705573   \n",
       "inq_last_6mths           -0.031094        -0.076134 -0.013705  0.178261   \n",
       "out_prncp                 0.137259         0.148357  0.157659  0.096641   \n",
       "out_prncp_inv             0.137224         0.148315  0.157599  0.096755   \n",
       "total_pymnt               0.884671         0.874508  0.339239  0.293322   \n",
       "total_pymnt_inv           0.844790         0.914953  0.361737  0.281809   \n",
       "total_rec_prncp           0.852564         0.842182  0.231270  0.174400   \n",
       "total_rec_late_fee        0.041145         0.017569  0.006065  0.097643   \n",
       "collection_recovery_fee   0.071462         0.056222  0.031722  0.074882   \n",
       "last_pymnt_amnt           0.448386         0.442199  0.236390  0.149155   \n",
       "last_fico_range_high      0.086091         0.105966 -0.057468 -0.312487   \n",
       "last_fico_range_low       0.074411         0.095348 -0.047243 -0.247917   \n",
       "\n",
       "                            grade  sub_grade  loan_status  fico_range_low  \\\n",
       "loan_amnt                0.256641   0.266831    -0.072341        0.135480   \n",
       "funded_amnt_inv          0.212422   0.220957    -0.047075        0.146386   \n",
       "term                     0.383043   0.391990    -0.181892        0.001046   \n",
       "int_rate                 0.939115   0.950515    -0.220622       -0.705573   \n",
       "grade                    1.000000   0.980997    -0.207455       -0.692659   \n",
       "sub_grade                0.980997   1.000000    -0.210604       -0.708623   \n",
       "loan_status             -0.207455  -0.210604     1.000000        0.135423   \n",
       "fico_range_low          -0.692659  -0.708623     0.135423        1.000000   \n",
       "fico_range_high         -0.692659  -0.708623     0.135423        1.000000   \n",
       "inq_last_6mths           0.216324   0.223052    -0.087568       -0.135926   \n",
       "out_prncp                0.062391   0.063516    -0.154127       -0.000199   \n",
       "out_prncp_inv            0.062504   0.063638    -0.154060       -0.000305   \n",
       "total_pymnt              0.253934   0.262082     0.190631        0.097198   \n",
       "total_pymnt_inv          0.219664   0.227290     0.189186        0.112224   \n",
       "total_rec_prncp          0.139260   0.146347     0.294994        0.167276   \n",
       "total_rec_late_fee       0.111773   0.112559    -0.152494       -0.074521   \n",
       "collection_recovery_fee  0.082647   0.083300    -0.190308       -0.032954   \n",
       "last_pymnt_amnt          0.121042   0.125194     0.225285        0.086927   \n",
       "last_fico_range_high    -0.300709  -0.306971     0.466961        0.373209   \n",
       "last_fico_range_low     -0.242172  -0.247103     0.418683        0.291550   \n",
       "\n",
       "                         fico_range_high  inq_last_6mths  out_prncp  \\\n",
       "loan_amnt                       0.135480       -0.031094   0.137259   \n",
       "funded_amnt_inv                 0.146386       -0.076134   0.148357   \n",
       "term                            0.001046       -0.013705   0.157659   \n",
       "int_rate                       -0.705573        0.178261   0.096641   \n",
       "grade                          -0.692659        0.216324   0.062391   \n",
       "sub_grade                      -0.708623        0.223052   0.063516   \n",
       "loan_status                     0.135423       -0.087568  -0.154127   \n",
       "fico_range_low                  1.000000       -0.135926  -0.000199   \n",
       "fico_range_high                 1.000000       -0.135926  -0.000199   \n",
       "inq_last_6mths                 -0.135926        1.000000  -0.019626   \n",
       "out_prncp                      -0.000199       -0.019626   1.000000   \n",
       "out_prncp_inv                  -0.000305       -0.019534   0.999990   \n",
       "total_pymnt                     0.097198       -0.055245   0.187682   \n",
       "total_pymnt_inv                 0.112224       -0.085878   0.194362   \n",
       "total_rec_prncp                 0.167276       -0.069703   0.138663   \n",
       "total_rec_late_fee             -0.074521        0.060516   0.009211   \n",
       "collection_recovery_fee        -0.032954        0.039379  -0.008217   \n",
       "last_pymnt_amnt                 0.086927       -0.006075  -0.045603   \n",
       "last_fico_range_high            0.373209       -0.127986   0.001701   \n",
       "last_fico_range_low             0.291550       -0.108973   0.005088   \n",
       "\n",
       "                         out_prncp_inv  total_pymnt  total_pymnt_inv  \\\n",
       "loan_amnt                     0.137224     0.884671         0.844790   \n",
       "funded_amnt_inv               0.148315     0.874508         0.914953   \n",
       "term                          0.157599     0.339239         0.361737   \n",
       "int_rate                      0.096755     0.293322         0.281809   \n",
       "grade                         0.062504     0.253934         0.219664   \n",
       "sub_grade                     0.063638     0.262082         0.227290   \n",
       "loan_status                  -0.154060     0.190631         0.189186   \n",
       "fico_range_low               -0.000305     0.097198         0.112224   \n",
       "fico_range_high              -0.000305     0.097198         0.112224   \n",
       "inq_last_6mths               -0.019534    -0.055245        -0.085878   \n",
       "out_prncp                     0.999990     0.187682         0.194362   \n",
       "out_prncp_inv                 1.000000     0.187654         0.194339   \n",
       "total_pymnt                   0.187654     1.000000         0.964080   \n",
       "total_pymnt_inv               0.194339     0.964080         1.000000   \n",
       "total_rec_prncp               0.138612     0.972239         0.933713   \n",
       "total_rec_late_fee            0.009252     0.014227        -0.004299   \n",
       "collection_recovery_fee      -0.008214     0.025361         0.012876   \n",
       "last_pymnt_amnt              -0.045584     0.469371         0.455684   \n",
       "last_fico_range_high          0.001639     0.190202         0.197881   \n",
       "last_fico_range_low           0.005037     0.168711         0.178107   \n",
       "\n",
       "                         total_rec_prncp  total_rec_late_fee  \\\n",
       "loan_amnt                       0.852564            0.041145   \n",
       "funded_amnt_inv                 0.842182            0.017569   \n",
       "term                            0.231270            0.006065   \n",
       "int_rate                        0.174400            0.097643   \n",
       "grade                           0.139260            0.111773   \n",
       "sub_grade                       0.146347            0.112559   \n",
       "loan_status                     0.294994           -0.152494   \n",
       "fico_range_low                  0.167276           -0.074521   \n",
       "fico_range_high                 0.167276           -0.074521   \n",
       "inq_last_6mths                 -0.069703            0.060516   \n",
       "out_prncp                       0.138663            0.009211   \n",
       "out_prncp_inv                   0.138612            0.009252   \n",
       "total_pymnt                     0.972239            0.014227   \n",
       "total_pymnt_inv                 0.933713           -0.004299   \n",
       "total_rec_prncp                 1.000000           -0.018833   \n",
       "total_rec_late_fee             -0.018833            1.000000   \n",
       "collection_recovery_fee        -0.061483            0.087676   \n",
       "last_pymnt_amnt                 0.537234           -0.063723   \n",
       "last_fico_range_high            0.258519           -0.171543   \n",
       "last_fico_range_low             0.224285           -0.149995   \n",
       "\n",
       "                         collection_recovery_fee  last_pymnt_amnt  \\\n",
       "loan_amnt                               0.071462         0.448386   \n",
       "funded_amnt_inv                         0.056222         0.442199   \n",
       "term                                    0.031722         0.236390   \n",
       "int_rate                                0.074882         0.149155   \n",
       "grade                                   0.082647         0.121042   \n",
       "sub_grade                               0.083300         0.125194   \n",
       "loan_status                            -0.190308         0.225285   \n",
       "fico_range_low                         -0.032954         0.086927   \n",
       "fico_range_high                        -0.032954         0.086927   \n",
       "inq_last_6mths                          0.039379        -0.006075   \n",
       "out_prncp                              -0.008217        -0.045603   \n",
       "out_prncp_inv                          -0.008214        -0.045584   \n",
       "total_pymnt                             0.025361         0.469371   \n",
       "total_pymnt_inv                         0.012876         0.455684   \n",
       "total_rec_prncp                        -0.061483         0.537234   \n",
       "total_rec_late_fee                      0.087676        -0.063723   \n",
       "collection_recovery_fee                 1.000000        -0.043903   \n",
       "last_pymnt_amnt                        -0.043903         1.000000   \n",
       "last_fico_range_high                   -0.075338         0.173062   \n",
       "last_fico_range_low                    -0.065555         0.147569   \n",
       "\n",
       "                         last_fico_range_high  last_fico_range_low  \n",
       "loan_amnt                            0.086091             0.074411  \n",
       "funded_amnt_inv                      0.105966             0.095348  \n",
       "term                                -0.057468            -0.047243  \n",
       "int_rate                            -0.312487            -0.247917  \n",
       "grade                               -0.300709            -0.242172  \n",
       "sub_grade                           -0.306971            -0.247103  \n",
       "loan_status                          0.466961             0.418683  \n",
       "fico_range_low                       0.373209             0.291550  \n",
       "fico_range_high                      0.373209             0.291550  \n",
       "inq_last_6mths                      -0.127986            -0.108973  \n",
       "out_prncp                            0.001701             0.005088  \n",
       "out_prncp_inv                        0.001639             0.005037  \n",
       "total_pymnt                          0.190202             0.168711  \n",
       "total_pymnt_inv                      0.197881             0.178107  \n",
       "total_rec_prncp                      0.258519             0.224285  \n",
       "total_rec_late_fee                  -0.171543            -0.149995  \n",
       "collection_recovery_fee             -0.075338            -0.065555  \n",
       "last_pymnt_amnt                      0.173062             0.147569  \n",
       "last_fico_range_high                 1.000000             0.853201  \n",
       "last_fico_range_low                  0.853201             1.000000  "
      ]
     },
     "execution_count": 70,
     "metadata": {},
     "output_type": "execute_result"
    }
   ],
   "source": [
    "loannew.corr()"
   ]
  },
  {
   "cell_type": "code",
   "execution_count": 94,
   "id": "b1f2d571",
   "metadata": {},
   "outputs": [
    {
     "data": {
      "image/png": "[encoded data removed]",
      "text/plain": [
       "<Figure size 1500x800 with 2 Axes>"
      ]
     },
     "metadata": {},
     "output_type": "display_data"
    }
   ],
   "source": [
    "plt.figure(figsize=(15,8))  #figuresize define\n",
    "sns.set(font_scale=1) #fontsize \n",
    "sns.heatmap(loannew.corr(),cmap='Dark2_r',annot=True,linecolor='Green',linewidth=1.0)\n",
    "plt.show()"
   ]
  },
  {
   "cell_type": "code",
   "execution_count": 72,
   "id": "117c012a",
   "metadata": {},
   "outputs": [],
   "source": [
    "#sns.pairplot(loannew)"
   ]
  },
  {
   "cell_type": "markdown",
   "id": "48f12dff",
   "metadata": {},
   "source": [
    "# Model building "
   ]
  },
  {
   "cell_type": "code",
   "execution_count": 73,
   "id": "338d1972",
   "metadata": {},
   "outputs": [],
   "source": [
    "from sklearn.neighbors import KNeighborsClassifier\n",
    "from sklearn.model_selection import train_test_split\n",
    "from sklearn.preprocessing import StandardScaler\n",
    "from sklearn.metrics import accuracy_score, confusion_matrix, classification_report, f1_score\n",
    "from sklearn.metrics import confusion_matrix,classification_report\n",
    "from sklearn.ensemble import RandomForestClassifier"
   ]
  },
  {
   "cell_type": "markdown",
   "id": "b53ad6b8",
   "metadata": {},
   "source": [
    "## KNN"
   ]
  },
  {
   "cell_type": "code",
   "execution_count": 74,
   "id": "5efb9c7b",
   "metadata": {},
   "outputs": [],
   "source": [
    "from sklearn.model_selection import train_test_split"
   ]
  },
  {
   "cell_type": "code",
   "execution_count": 75,
   "id": "43986858",
   "metadata": {},
   "outputs": [],
   "source": [
    "x=loannew.drop(['loan_status'],axis=1)\n",
    "y=loannew['loan_status']"
   ]
  },
  {
   "cell_type": "code",
   "execution_count": 76,
   "id": "c1aba87d",
   "metadata": {},
   "outputs": [],
   "source": [
    "x_train,x_test,y_train,y_test=train_test_split(x,y,test_size=0.3,random_state=1)"
   ]
  },
  {
   "cell_type": "code",
   "execution_count": 77,
   "id": "d7018617",
   "metadata": {},
   "outputs": [],
   "source": [
    "model=KNeighborsClassifier(n_neighbors=18,p=2,metric=\"euclidean\")"
   ]
  },
  {
   "cell_type": "code",
   "execution_count": 78,
   "id": "81b574e1",
   "metadata": {},
   "outputs": [
    {
     "data": {
      "text/plain": [
       "KNeighborsClassifier(metric='euclidean', n_neighbors=18)"
      ]
     },
     "execution_count": 78,
     "metadata": {},
     "output_type": "execute_result"
    }
   ],
   "source": [
    "model.fit(x_train,y_train)"
   ]
  },
  {
   "cell_type": "code",
   "execution_count": 79,
   "id": "064def0e",
   "metadata": {},
   "outputs": [],
   "source": [
    "y_pred=model.predict(x_test)"
   ]
  },
  {
   "cell_type": "code",
   "execution_count": 80,
   "id": "984b6239",
   "metadata": {},
   "outputs": [],
   "source": [
    "from sklearn.metrics import accuracy_score, confusion_matrix, classification_report, f1_score"
   ]
  },
  {
   "cell_type": "code",
   "execution_count": 81,
   "id": "e15587ac",
   "metadata": {},
   "outputs": [
    {
     "name": "stdout",
     "output_type": "stream",
     "text": [
      "              precision    recall  f1-score   support\n",
      "\n",
      "           0       0.89      0.90      0.89      1523\n",
      "           1       0.81      0.42      0.55       144\n",
      "           3       0.52      0.15      0.23       209\n",
      "           4       0.45      0.05      0.09       564\n",
      "           5       0.93      0.99      0.96      9459\n",
      "           6       0.00      0.00      0.00         4\n",
      "           8       0.00      0.00      0.00         4\n",
      "\n",
      "    accuracy                           0.91     11907\n",
      "   macro avg       0.51      0.36      0.39     11907\n",
      "weighted avg       0.89      0.91      0.89     11907\n",
      "\n"
     ]
    }
   ],
   "source": [
    "print(classification_report(y_test,y_pred))"
   ]
  },
  {
   "cell_type": "code",
   "execution_count": 82,
   "id": "284471a2",
   "metadata": {},
   "outputs": [
    {
     "name": "stdout",
     "output_type": "stream",
     "text": [
      "[[1373    5   24    1  120    0    0]\n",
      " [   0   60    0    0   84    0    0]\n",
      " [ 157    0   31    2   19    0    0]\n",
      " [   2    0    1   29  532    0    0]\n",
      " [  17    5    4   33 9400    0    0]\n",
      " [   0    2    0    0    2    0    0]\n",
      " [   0    2    0    0    2    0    0]]\n"
     ]
    }
   ],
   "source": [
    "cm=confusion_matrix(y_test,y_pred)\n",
    "print(cm)"
   ]
  },
  {
   "cell_type": "markdown",
   "id": "42c16581",
   "metadata": {},
   "source": [
    "## Decision Tree"
   ]
  },
  {
   "cell_type": "code",
   "execution_count": 83,
   "id": "d5277de1",
   "metadata": {},
   "outputs": [],
   "source": [
    "from sklearn.tree import DecisionTreeClassifier\n",
    "from sklearn.model_selection import train_test_split\n",
    "from sklearn.preprocessing import StandardScaler\n",
    "from sklearn.metrics import accuracy_score, confusion_matrix, classification_report, f1_score\n",
    "import sklearn.metrics as metrics\n",
    "from sklearn.neighbors import KNeighborsClassifier\n",
    "from sklearn.linear_model import LogisticRegression \n"
   ]
  },
  {
   "cell_type": "code",
   "execution_count": 84,
   "id": "d8f14456",
   "metadata": {},
   "outputs": [],
   "source": [
    "model=DecisionTreeClassifier()"
   ]
  },
  {
   "cell_type": "code",
   "execution_count": 85,
   "id": "d512794d",
   "metadata": {},
   "outputs": [],
   "source": [
    "model=model.fit(x_train,y_train)"
   ]
  },
  {
   "cell_type": "code",
   "execution_count": 86,
   "id": "e0d6902e",
   "metadata": {},
   "outputs": [],
   "source": [
    "y_pred=model.predict(x_test)"
   ]
  },
  {
   "cell_type": "code",
   "execution_count": 87,
   "id": "6675eb3a",
   "metadata": {},
   "outputs": [
    {
     "name": "stdout",
     "output_type": "stream",
     "text": [
      "              precision    recall  f1-score   support\n",
      "\n",
      "           0       0.95      0.95      0.95      1523\n",
      "           1       0.96      0.92      0.94       144\n",
      "           3       0.80      0.80      0.80       209\n",
      "           4       0.78      0.77      0.78       564\n",
      "           5       0.98      0.98      0.98      9459\n",
      "           6       0.00      0.00      0.00         4\n",
      "           8       0.12      0.25      0.17         4\n",
      "\n",
      "    accuracy                           0.97     11907\n",
      "   macro avg       0.66      0.67      0.66     11907\n",
      "weighted avg       0.97      0.97      0.97     11907\n",
      "\n"
     ]
    }
   ],
   "source": [
    "print(classification_report(y_test,y_pred))"
   ]
  },
  {
   "cell_type": "code",
   "execution_count": 88,
   "id": "347d0dc2",
   "metadata": {},
   "outputs": [
    {
     "name": "stdout",
     "output_type": "stream",
     "text": [
      "[[1446    0   26    2   49    0    0]\n",
      " [   0  132    0    0    0    7    5]\n",
      " [  30    0  168   10    1    0    0]\n",
      " [   1    0   16  433  114    0    0]\n",
      " [  38    0    1  108 9312    0    0]\n",
      " [   0    2    0    0    0    0    2]\n",
      " [   0    3    0    0    0    0    1]]\n"
     ]
    }
   ],
   "source": [
    "cm=confusion_matrix(y_test,y_pred)\n",
    "print(cm)"
   ]
  },
  {
   "cell_type": "markdown",
   "id": "1599b913",
   "metadata": {},
   "source": [
    "## Random Forest"
   ]
  },
  {
   "cell_type": "code",
   "execution_count": 89,
   "id": "97741b07",
   "metadata": {},
   "outputs": [
    {
     "name": "stdout",
     "output_type": "stream",
     "text": [
      "confussion matrix\n",
      "[[1409    0    2    1  111    0    0]\n",
      " [   0  144    0    0    0    0    0]\n",
      " [  28    0  158   16    7    0    0]\n",
      " [   0    0    1  449  114    0    0]\n",
      " [   2    0    0   14 9443    0    0]\n",
      " [   0    4    0    0    0    0    0]\n",
      " [   0    4    0    0    0    0    0]]\n",
      "\n",
      "\n",
      "Accuracy of Random Forest:  97.44687998656254 \n",
      "\n",
      "              precision    recall  f1-score   support\n",
      "\n",
      "           0       0.98      0.93      0.95      1523\n",
      "           1       0.95      1.00      0.97       144\n",
      "           3       0.98      0.76      0.85       209\n",
      "           4       0.94      0.80      0.86       564\n",
      "           5       0.98      1.00      0.99      9459\n",
      "           6       0.00      0.00      0.00         4\n",
      "           8       0.00      0.00      0.00         4\n",
      "\n",
      "    accuracy                           0.97     11907\n",
      "   macro avg       0.69      0.64      0.66     11907\n",
      "weighted avg       0.97      0.97      0.97     11907\n",
      "\n"
     ]
    }
   ],
   "source": [
    "rf = RandomForestClassifier(n_estimators=200, random_state=0,max_depth=12)\n",
    "\n",
    "rf.fit(x_train, y_train)\n",
    "\n",
    "rf_predicted = rf.predict(x_test)\n",
    "\n",
    "rf_conf_matrix = confusion_matrix(y_test, rf_predicted)\n",
    "\n",
    "rf_acc_score = accuracy_score (y_test, rf_predicted)\n",
    "\n",
    "print(\"confussion matrix\")\n",
    "\n",
    "print(rf_conf_matrix)\n",
    "\n",
    "print(\"\\n\")\n",
    "\n",
    "print(\"Accuracy of Random Forest: \", rf_acc_score *100, '\\n')\n",
    "\n",
    "print(classification_report (y_test, rf_predicted))"
   ]
  },
  {
   "cell_type": "markdown",
   "id": "cb60ef9d",
   "metadata": {},
   "source": [
    "## logistic regression"
   ]
  },
  {
   "cell_type": "code",
   "execution_count": 90,
   "id": "61107a2c",
   "metadata": {},
   "outputs": [],
   "source": [
    "model=LogisticRegression()"
   ]
  },
  {
   "cell_type": "code",
   "execution_count": 91,
   "id": "35684163",
   "metadata": {},
   "outputs": [],
   "source": [
    "model=model.fit(x_train,y_train)"
   ]
  },
  {
   "cell_type": "code",
   "execution_count": 92,
   "id": "1ed54c73",
   "metadata": {},
   "outputs": [],
   "source": [
    "y_pred=model.predict(x_test)"
   ]
  },
  {
   "cell_type": "code",
   "execution_count": 93,
   "id": "2d64ff24",
   "metadata": {},
   "outputs": [
    {
     "name": "stdout",
     "output_type": "stream",
     "text": [
      "              precision    recall  f1-score   support\n",
      "\n",
      "           0       0.89      0.93      0.91      1523\n",
      "           1       0.92      0.76      0.84       144\n",
      "           3       0.36      0.06      0.11       209\n",
      "           4       0.27      0.01      0.02       564\n",
      "           5       0.93      1.00      0.96      9459\n",
      "           6       0.00      0.00      0.00         4\n",
      "           8       0.00      0.00      0.00         4\n",
      "\n",
      "    accuracy                           0.92     11907\n",
      "   macro avg       0.48      0.40      0.41     11907\n",
      "weighted avg       0.88      0.92      0.89     11907\n",
      "\n"
     ]
    }
   ],
   "source": [
    "print(classification_report(y_test,y_pred))"
   ]
  }
 ],
 "metadata": {
  "kernelspec": {
   "display_name": "Python 3 (ipykernel)",
   "language": "python",
   "name": "python3"
  },
  "language_info": {
   "codemirror_mode": {
    "name": "ipython",
    "version": 3
   },
   "file_extension": ".py",
   "mimetype": "text/x-python",
   "name": "python",
   "nbconvert_exporter": "python",
   "pygments_lexer": "ipython3",
   "version": "3.9.13"
  }
 },
 "nbformat": 4,
 "nbformat_minor": 5
}
