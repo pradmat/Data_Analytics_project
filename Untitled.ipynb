{
 "cells": [
  {
   "cell_type": "markdown",
   "id": "8080ca24",
   "metadata": {},
   "source": [
    "# Objective: We need to explore the possibility in predicting income level based on the individual’s personal information"
   ]
  },
  {
   "cell_type": "code",
   "execution_count": null,
   "id": "0a6dc4b1",
   "metadata": {},
   "outputs": [],
   "source": [
    "import pandas as pd\n",
    "import matplotlib.pyplot as plt\n",
    "import numpy as np\n",
    "import statsmodels.api as sp\n",
    "import seaborn as sns\n",
    "import itertools"
   ]
  },
  {
   "cell_type": "code",
   "execution_count": null,
   "id": "bd1ae970",
   "metadata": {},
   "outputs": [],
   "source": [
    "train=pd.read(\"SalaryData_Train.csv\")\n",
    "test=pd.read(\"SalaryData_Test.csv\")"
   ]
  },
  {
   "cell_type": "code",
   "execution_count": null,
   "id": "23cee88c",
   "metadata": {},
   "outputs": [],
   "source": [
    "df_temp=test.append(train)"
   ]
  },
  {
   "cell_type": "code",
   "execution_count": null,
   "id": "7fc63973",
   "metadata": {},
   "outputs": [],
   "source": []
  }
 ],
 "metadata": {
  "kernelspec": {
   "display_name": "Python 3 (ipykernel)",
   "language": "python",
   "name": "python3"
  },
  "language_info": {
   "codemirror_mode": {
    "name": "ipython",
    "version": 3
   },
   "file_extension": ".py",
   "mimetype": "text/x-python",
   "name": "python",
   "nbconvert_exporter": "python",
   "pygments_lexer": "ipython3",
   "version": "3.9.12"
  }
 },
 "nbformat": 4,
 "nbformat_minor": 5
}
